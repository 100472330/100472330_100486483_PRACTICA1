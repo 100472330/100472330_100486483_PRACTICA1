{
 "cells": [
  {
   "cell_type": "markdown",
   "metadata": {},
   "source": [
    "CROSS VALIDATION (PUNTO 3)"
   ]
  },
  {
   "cell_type": "code",
   "execution_count": null,
   "metadata": {},
   "outputs": [],
   "source": [
    "#importamos todas las liberías necesarias. \n",
    "import pandas as pd\n",
    "import numpy as np\n",
    "from sklearn.model_selection import train_test_split, cross_val_score, StratifiedKFold\n",
    "from sklearn.preprocessing import StandardScaler, LabelEncoder\n",
    "from sklearn.metrics import balanced_accuracy_score, accuracy_score, confusion_matrix\n",
    "from sklearn.tree import DecisionTreeClassifier\n",
    "import pickle\n"
   ]
  },
  {
   "cell_type": "markdown",
   "metadata": {},
   "source": [
    "1. CARGAMOS TODOS LOS DATOS"
   ]
  },
  {
   "cell_type": "code",
   "execution_count": null,
   "metadata": {},
   "outputs": [],
   "source": [
    "# Cargar los datos (reemplaza con tu archivo específico)\n",
    "available_data_path = f\"attrition_availabledata_03.csv\"\n",
    "df = pd.read_csv(available_data_path)"
   ]
  },
  {
   "cell_type": "markdown",
   "metadata": {},
   "source": [
    "2. ELIMINAMOS TODOS LOS DATOS IRRELEVANTES "
   ]
  },
  {
   "cell_type": "code",
   "execution_count": null,
   "metadata": {},
   "outputs": [],
   "source": [
    "# Eliminar columnas irrelevantes\n",
    "drop_columns = [\"EmployeeID\", \"Over18\", \"StandardHours\", \"EmployeeCount\"]\n",
    "df = df.drop(columns=drop_columns, errors='ignore')"
   ]
  },
  {
   "cell_type": "markdown",
   "metadata": {},
   "source": [
    "3. CONVERTIMOS TODAS LAS VARIABLES A TIPO NUMÉRICO Y SEPARAMOS SEGÚN CARACTERÍSTICAS Y VARIABLE OBJETIVO"
   ]
  },
  {
   "cell_type": "code",
   "execution_count": null,
   "metadata": {},
   "outputs": [],
   "source": [
    "# Convertir variables categóricas a numéricas usando Label Encoding\n",
    "categorical_columns = df.select_dtypes(include=['object']).columns\n",
    "label_encoders = {}\n",
    "\n",
    "for col in categorical_columns:\n",
    "    le = LabelEncoder()\n",
    "    df[col] = le.fit_transform(df[col])\n",
    "    label_encoders[col] = le  # Guardar para futuras conversiones si es necesario\n",
    "\n",
    "# Separar en características (X) y variable objetivo (y)\n",
    "X = df.drop(columns=[\"Attrition\"])\n",
    "y = df[\"Attrition\"]"
   ]
  },
  {
   "cell_type": "markdown",
   "metadata": {},
   "source": [
    "4. DIVIDIMOS EN SECTORES Y NORMALIZAMOS TODOS LOS DATOS "
   ]
  },
  {
   "cell_type": "code",
   "execution_count": null,
   "metadata": {},
   "outputs": [],
   "source": [
    "\n",
    "# Dividir en Train (2/3) y Test (1/3)\n",
    "X_train, X_test, y_train, y_test = train_test_split(X, y, test_size=1/3, random_state=3, stratify=y)\n",
    "\n",
    "# Normalización (opcional, útil para algunos modelos como KNN)\n",
    "scaler = StandardScaler()\n",
    "X_train_scaled = scaler.fit_transform(X_train)\n",
    "X_test_scaled = scaler.transform(X_test)\n",
    "\n",
    "# Guardar el scaler para futuros usos\n",
    "with open(\"scaler.pkl\", \"wb\") as f:\n",
    "    pickle.dump(scaler, f)\n",
    "\n",
    "# Evaluación INNER: K-Fold Cross Validation (k=5)\n",
    "kfold = StratifiedKFold(n_splits=5, shuffle=True, random_state=3)\n",
    "\n",
    "print(\"Datos preparados: Train (2/3), Test (1/3), y Cross-Validation lista.\")\n"
   ]
  },
  {
   "cell_type": "markdown",
   "metadata": {},
   "source": [
    "EVALCUACIÓN OUTER: ESTIMACION DE RENDIMIENTO CON UN MODELO BASE"
   ]
  },
  {
   "cell_type": "code",
   "execution_count": null,
   "metadata": {},
   "outputs": [],
   "source": [
    "# Entrenar modelo base en Train\n",
    "model = DecisionTreeClassifier(random_state=3)\n",
    "model.fit(X_train_scaled, y_train)"
   ]
  },
  {
   "cell_type": "code",
   "execution_count": null,
   "metadata": {},
   "outputs": [],
   "source": [
    "# Predecir en el conjunto de Test (Outer Evaluation)\n",
    "y_pred = model.predict(X_test_scaled)"
   ]
  },
  {
   "cell_type": "code",
   "execution_count": null,
   "metadata": {},
   "outputs": [],
   "source": [
    "# 🔹 Cálculo de métricas\n",
    "balanced_acc = balanced_accuracy_score(y_test, y_pred)\n",
    "accuracy = accuracy_score(y_test, y_pred)"
   ]
  },
  {
   "cell_type": "code",
   "execution_count": null,
   "metadata": {},
   "outputs": [],
   "source": [
    "# Matriz de confusión para obtener TPR y TNR\n",
    "conf_matrix = confusion_matrix(y_test, y_pred)\n",
    "tn, fp, fn, tp = conf_matrix.ravel()\n"
   ]
  },
  {
   "cell_type": "code",
   "execution_count": null,
   "metadata": {},
   "outputs": [],
   "source": [
    "# True Positive Rate (TPR) y True Negative Rate (TNR)\n",
    "TPR = tp / (tp + fn)\n",
    "TNR = tn / (tn + fp)\n",
    "\n",
    "# 📌 Mostrar resultados\n",
    "print(f\"Balanced Accuracy: {balanced_acc:.4f}\")\n",
    "print(f\"Accuracy: {accuracy:.4f}\")\n",
    "print(f\"True Positive Rate (TPR): {TPR:.4f}\")\n",
    "print(f\"True Negative Rate (TNR): {TNR:.4f}\")\n",
    "print(f\"Matriz de Confusión:\\n{conf_matrix}\")"
   ]
  }
 ],
 "metadata": {
  "kernelspec": {
   "display_name": "Python 3.13.0 ('mi_entorno': venv)",
   "language": "python",
   "name": "python3"
  },
  "language_info": {
   "name": "python",
   "version": "3.13.0"
  },
  "orig_nbformat": 4,
  "vscode": {
   "interpreter": {
    "hash": "ad304b83e7aa112613a50075ed76c14131ef3a14d40010dc73da1a6299209a0d"
   }
  }
 },
 "nbformat": 4,
 "nbformat_minor": 2
}
