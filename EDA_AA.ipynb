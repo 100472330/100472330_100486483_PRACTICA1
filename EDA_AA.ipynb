{
 "cells": [
  {
   "cell_type": "markdown",
   "metadata": {},
   "source": [
    "ALTERNATIVA A LA APROXIMACION DEL EDA"
   ]
  },
  {
   "cell_type": "markdown",
   "metadata": {},
   "source": [
    "1. IMPORTAR LAS LIBRERIAS"
   ]
  },
  {
   "cell_type": "code",
   "execution_count": null,
   "metadata": {},
   "outputs": [],
   "source": [
    "import pandas as pd\n",
    "import numpy as np"
   ]
  },
  {
   "cell_type": "markdown",
   "metadata": {},
   "source": [
    "2. LEEMOS EL CSV"
   ]
  },
  {
   "cell_type": "markdown",
   "metadata": {},
   "source": [
    "df = pd.read_csv('attrition_competition_03.csv')\n"
   ]
  },
  {
   "cell_type": "markdown",
   "metadata": {},
   "source": [
    "3. CALCULAMOS EL NUMERO DE VARIABLES E INSTANCIAS"
   ]
  },
  {
   "cell_type": "markdown",
   "metadata": {},
   "source": [
    "n_instancias, n_variables = df.shape\n",
    "print(f'Número de instancias: {n_instancias}')\n",
    "print(f'Número de variables: {n_variables}')"
   ]
  },
  {
   "cell_type": "markdown",
   "metadata": {},
   "source": [
    "4. IDENTIFICAMOS TODOS LOS TIPOS DE VARIABLES"
   ]
  },
  {
   "cell_type": "markdown",
   "metadata": {},
   "source": [
    "tipos_de_datos = df.dtypes\n",
    "print(tipos_de_datos)\n",
    "#A CONTINUACION CLASIFICAMOS ESTAS VARIABLES\n",
    "variables_numericas = df.select_dtypes(include=[np.number]).columns.tolist()\n",
    "variables_categoricas = df.select_dtypes(include=['object', 'category']).columns.tolist()\n",
    " "
   ]
  },
  {
   "cell_type": "markdown",
   "metadata": {},
   "source": [
    "5. CLASIFICAMOS TODAS LAS VARIABLES SEGUN LA CARDINALIDAD"
   ]
  },
  {
   "cell_type": "code",
   "execution_count": null,
   "metadata": {},
   "outputs": [],
   "source": [
    "alta_cardinalidad = [col for col in variables_categoricas if df[col].nunique() > 10]\n",
    "print(f'Variables categóricas con alta cardinalidad: {alta_cardinalidad}')"
   ]
  },
  {
   "cell_type": "markdown",
   "metadata": {},
   "source": [
    "6. IDENTIFICACION Y CONTEO"
   ]
  },
  {
   "cell_type": "code",
   "execution_count": null,
   "metadata": {},
   "outputs": [],
   "source": [
    "valores_faltantes = df.isnull().sum()\n",
    "print(valores_faltantes[valores_faltantes > 0])\n"
   ]
  },
  {
   "cell_type": "markdown",
   "metadata": {},
   "source": [
    "7. DETECTAMOS LAS COLUMNAS DE IDENTIFICACION"
   ]
  },
  {
   "cell_type": "code",
   "execution_count": null,
   "metadata": {},
   "outputs": [],
   "source": [
    "columnas_constantes = [col for col in df.columns if df[col].nunique() == 1]\n",
    "print(f'Columnas constantes: {columnas_constantes}')\n",
    "columnas_id = [col for col in df.columns if df[col].nunique() == n_instancias]\n",
    "print(f'Columnas de ID: {columnas_id}')\n"
   ]
  },
  {
   "cell_type": "markdown",
   "metadata": {},
   "source": [
    "8. ESTUDAIMOS EL DESBALANCEO"
   ]
  },
  {
   "cell_type": "code",
   "execution_count": null,
   "metadata": {},
   "outputs": [],
   "source": [
    "#Primero estudiamos de qué tipo de problema se trata\n",
    "if df['target'].dtype in [np.float64, np.int64]:\n",
    "    print('Es un problema de regresión.')\n",
    "else:\n",
    "    print('Es un problema de clasificación.')\n",
    "\n",
    "#Estudiamos el desbalanceo si se trata de un problema de clasificación \n",
    "if df['target'].dtype == 'object' or pd.api.types.is_categorical_dtype(df['target']):\n",
    "    distribucion = df['target'].value_counts(normalize=True)\n",
    "    print(distribucion)\n",
    "    if distribucion.max() > 0.7:\n",
    "        print('El conjunto de datos está desbalanceado.')\n",
    "    else:\n",
    "        print('El conjunto de datos no está desbalanceado.')\n"
   ]
  }
 ],
 "metadata": {
  "kernelspec": {
   "display_name": "Python 3.13.0 ('mi_entorno': venv)",
   "language": "python",
   "name": "python3"
  },
  "language_info": {
   "name": "python",
   "version": "3.13.0"
  },
  "orig_nbformat": 4,
  "vscode": {
   "interpreter": {
    "hash": "ad304b83e7aa112613a50075ed76c14131ef3a14d40010dc73da1a6299209a0d"
   }
  }
 },
 "nbformat": 4,
 "nbformat_minor": 2
}
