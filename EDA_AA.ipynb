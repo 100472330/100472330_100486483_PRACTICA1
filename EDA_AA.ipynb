{
 "cells": [
  {
   "cell_type": "markdown",
   "metadata": {},
   "source": [
    "ALTERNATIVA A LA APROXIMACION DEL EDA"
   ]
  },
  {
   "cell_type": "markdown",
   "metadata": {},
   "source": [
    "1. IMPORTAR LAS LIBRERIAS"
   ]
  },
  {
   "cell_type": "code",
   "execution_count": 1,
   "metadata": {},
   "outputs": [],
   "source": [
    "import pandas as pd\n",
    "import matplotlib.pyplot as plt"
   ]
  },
  {
   "cell_type": "markdown",
   "metadata": {},
   "source": [
    "2. LEEMOS EL CSV"
   ]
  },
  {
   "cell_type": "code",
   "execution_count": null,
   "metadata": {},
   "outputs": [],
   "source": [
    "df_available = pd.read_csv(\"attrition_competition_03.csv\")"
   ]
  },
  {
   "cell_type": "markdown",
   "metadata": {},
   "source": [
    "3. CALCULAMOS EL NUMERO DE VARIABLES E INSTANCIAS"
   ]
  },
  {
   "cell_type": "code",
   "execution_count": 3,
   "metadata": {},
   "outputs": [
    {
     "name": "stdout",
     "output_type": "stream",
     "text": [
      "\n",
      "🔹 Número de instancias y variables:\n",
      "Filas: 1470, Columnas: 30\n"
     ]
    }
   ],
   "source": [
    "print(\"\\n🔹 Número de instancias y variables:\")\n",
    "print(f\"Filas: {df_available.shape[0]}, Columnas: {df_available.shape[1]}\")"
   ]
  },
  {
   "cell_type": "markdown",
   "metadata": {},
   "source": [
    "4. IDENTIFICAMOS TODOS LOS TIPOS DE VARIABLES, (Categóricas, numéricas y ordinales)"
   ]
  },
  {
<<<<<<< HEAD
   "cell_type": "code",
   "execution_count": 4,
   "metadata": {},
   "outputs": [
    {
     "name": "stdout",
     "output_type": "stream",
     "text": [
      "\n",
      "🔹 Variables categóricas: ['BusinessTravel', 'Department', 'EducationField', 'Gender', 'JobRole', 'MaritalStatus', 'Over18']\n",
      "🔹 Variables numéricas: ['hrs', 'absences', 'JobInvolvement', 'PerformanceRating', 'EnvironmentSatisfaction', 'JobSatisfaction', 'WorkLifeBalance', 'Age', 'DistanceFromHome', 'Education', 'EmployeeCount', 'EmployeeID', 'JobLevel', 'MonthlyIncome', 'NumCompaniesWorked', 'PercentSalaryHike', 'StandardHours', 'StockOptionLevel', 'TotalWorkingYears', 'TrainingTimesLastYear', 'YearsAtCompany', 'YearsSinceLastPromotion', 'YearsWithCurrManager']\n"
     ]
    }
   ],
   "source": [
    "categorical_cols = df_available.select_dtypes(include=['object']).columns.tolist()\n",
    "numerical_cols = df_available.select_dtypes(include=['int64', 'float64']).columns.tolist()\n",
    "\n",
    "print(\"\\n🔹 Variables categóricas:\", categorical_cols)\n",
    "print(\"🔹 Variables numéricas:\", numerical_cols)"
   ]
  },
  {
=======
>>>>>>> 1c00269 (AÑADIENDO EL PUNTO 3 (VERSION INICIAL) CROSS VALIDATION))
   "cell_type": "markdown",
   "metadata": {},
   "source": [
    "5. CLASIFICAMOS TODAS LAS VARIABLES SEGUN LA CARDINALIDAD, (cogemos las de mayor cardinalidad)"
   ]
  },
  {
   "cell_type": "code",
   "execution_count": 8,
   "metadata": {},
   "outputs": [
    {
     "name": "stdout",
     "output_type": "stream",
     "text": [
      "\n",
      "🔹 Variables categóricas con alta cardinalidad: ['EducationField', 'JobRole']\n"
     ]
    }
   ],
   "source": [
    "high_cardinality_cols = [col for col in categorical_cols if df_available[col].nunique() > 5]\n",
    "print(\"\\n🔹 Variables categóricas con alta cardinalidad:\", high_cardinality_cols)"
   ]
  },
  {
   "cell_type": "markdown",
   "metadata": {},
   "source": [
    "6. IDENTIFICAMOS LOS QUE TIENEN VALOR NULO"
   ]
  },
  {
   "cell_type": "code",
   "execution_count": 9,
   "metadata": {},
   "outputs": [
    {
     "name": "stdout",
     "output_type": "stream",
     "text": [
      "\n",
      "🔹 Valores nulos por columna:\n",
      "EnvironmentSatisfaction    10\n",
      "JobSatisfaction             8\n",
      "WorkLifeBalance            17\n",
      "NumCompaniesWorked          6\n",
      "TotalWorkingYears           3\n",
      "dtype: int64\n"
     ]
    }
   ],
   "source": [
    "missing_values = df_available.isnull().sum()\n",
    "missing_values = missing_values[missing_values > 0]\n",
    "print(\"\\n🔹 Valores nulos por columna:\")\n",
    "print(missing_values)\n"
   ]
  },
  {
   "cell_type": "markdown",
   "metadata": {},
   "source": [
    "7. DETECTAMOS LAS COLUMNAS CONSTANTES DE UN SOLO VALOR"
   ]
  },
  {
   "cell_type": "code",
   "execution_count": 10,
   "metadata": {},
   "outputs": [
    {
     "name": "stdout",
     "output_type": "stream",
     "text": [
      "\n",
      "🔹 Columnas constantes (sin variabilidad): ['EmployeeCount', 'Over18', 'StandardHours']\n"
     ]
    }
   ],
   "source": [
    "constant_cols = [col for col in df_available.columns if df_available[col].nunique() == 1]\n",
    "print(\"\\n🔹 Columnas constantes (sin variabilidad):\", constant_cols)\n",
    "\n"
   ]
  },
  {
   "cell_type": "markdown",
   "metadata": {},
   "source": [
    "8. IDENTIFICAMOS AQUELLAS COLUMNAS QUE SON DE IDENTIFICACIÓN"
   ]
  },
  {
   "cell_type": "code",
   "execution_count": 11,
   "metadata": {},
   "outputs": [
    {
     "name": "stdout",
     "output_type": "stream",
     "text": [
      "\n",
      "🔹 Posibles columnas de ID: ['EmployeeCount', 'EmployeeID']\n"
     ]
    }
   ],
   "source": [
    "id_cols = [col for col in df_available.columns if \"ID\" in col or \"id\" in col or \"EmployeeCount\" in col]\n",
    "print(\"\\n🔹 Posibles columnas de ID:\", id_cols)\n"
   ]
  },
  {
   "cell_type": "markdown",
   "metadata": {},
   "source": [
    "9. ANALISAS DEL DESBALANCEO DE LA VARIABLE OBJETIVO"
   ]
  },
  {
   "cell_type": "code",
   "execution_count": 13,
   "metadata": {},
   "outputs": [
    {
     "name": "stdout",
     "output_type": "stream",
     "text": [
      "\n",
      "🔹 Es un problema de REGRESIÓN.\n",
      "\n",
      "🔹 Distribución de la variable objetivo (absences):\n",
      "absences\n",
      "6     6.462585\n",
      "16    6.054422\n",
      "8     5.986395\n",
      "11    5.918367\n",
      "17    5.850340\n",
      "20    5.782313\n",
      "18    5.714286\n",
      "10    5.510204\n",
      "12    5.374150\n",
      "7     5.238095\n",
      "19    5.102041\n",
      "15    5.034014\n",
      "9     4.965986\n",
      "14    4.965986\n",
      "13    4.557823\n",
      "21    4.149660\n",
      "5     3.809524\n",
      "4     2.653061\n",
      "22    2.176871\n",
      "3     1.768707\n",
      "23    1.632653\n",
      "2     0.884354\n",
      "1     0.340136\n",
      "24    0.068027\n",
      "Name: proportion, dtype: float64\n"
     ]
    },
    {
     "data": {
      "image/png": "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",
      "text/plain": [
       "<Figure size 640x480 with 1 Axes>"
      ]
     },
     "metadata": {},
     "output_type": "display_data"
    }
   ],
   "source": [
    "#primero hacemos un análisis del tipo de problema con el que estamos tratando\n",
    "target_col = \"absences\"\n",
    "if df_available[target_col].dtype == 'object' or df_available[target_col].nunique() <= 10:\n",
    "    print(\"\\n🔹 Es un problema de CLASIFICACIÓN.\")\n",
    "else:\n",
    "    print(\"\\n🔹 Es un problema de REGRESIÓN.\")\n",
    "\n",
    "#A continuación, si es un problema de clasificación hacemos un análisis del desbalanceo de la variable objetivo\n",
    "attrition_distribution = df_available[target_col].value_counts(normalize=True) * 100\n",
    "print(\"\\n🔹 Distribución de la variable objetivo (absences):\")\n",
    "print(attrition_distribution)\n",
    "\n",
    "#Generamos la visualización del desbalanceo\n",
    "df_available[\"absences\"].value_counts().plot(kind='bar', color=['green', 'red'], edgecolor=\"black\")\n",
    "plt.title(\"Distribución de la Variable Objetivo (absences)\")\n",
    "plt.ylabel(\"Cantidad de empleados\")\n",
    "plt.xlabel(\"absences (No = 0, Yes = 1)\")\n",
    "plt.xticks(rotation=0)\n",
    "plt.show()"
   ]
  }
 ],
 "metadata": {
  "kernelspec": {
   "display_name": "Python 3 (ipykernel)",
   "language": "python",
   "name": "python3"
  },
  "language_info": {
   "codemirror_mode": {
    "name": "ipython",
    "version": 3
   },
   "file_extension": ".py",
   "mimetype": "text/x-python",
   "name": "python",
   "nbconvert_exporter": "python",
   "pygments_lexer": "ipython3",
   "version": "3.12.1"
  },
  "orig_nbformat": 4,
  "vscode": {
   "interpreter": {
    "hash": "ad304b83e7aa112613a50075ed76c14131ef3a14d40010dc73da1a6299209a0d"
   }
  }
 },
 "nbformat": 4,
 "nbformat_minor": 2
}
