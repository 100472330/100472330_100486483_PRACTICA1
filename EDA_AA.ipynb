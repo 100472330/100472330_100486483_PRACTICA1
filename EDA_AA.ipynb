{
 "cells": [
  {
   "cell_type": "markdown",
   "metadata": {},
   "source": [
    "1. IMPORTAR LAS LIBRERIAS"
   ]
  },
  {
   "cell_type": "code",
   "execution_count": 1,
   "metadata": {},
   "outputs": [],
   "source": [
    "import pandas as pd\n",
    "import matplotlib.pyplot as plt"
   ]
  },
  {
   "cell_type": "markdown",
   "metadata": {},
   "source": [
    "2. LEEMOS EL CSV"
   ]
  },
  {
   "cell_type": "code",
   "execution_count": 2,
   "metadata": {},
   "outputs": [],
   "source": [
    "df_available = pd.read_csv(\"attrition_availabledata_03.csv\")"
   ]
  },
  {
   "cell_type": "markdown",
   "metadata": {},
   "source": [
    "3. CALCULAMOS EL NUMERO DE VARIABLES E INSTANCIAS"
   ]
  },
  {
   "cell_type": "code",
   "execution_count": 3,
   "metadata": {},
   "outputs": [
    {
     "name": "stdout",
     "output_type": "stream",
     "text": [
      "\n",
      "🔹 Número de instancias y variables:\n",
      "Filas: 2940, Columnas: 31\n"
     ]
    }
   ],
   "source": [
    "print(\"\\n🔹 Número de instancias y variables:\")\n",
    "print(f\"Filas: {df_available.shape[0]}, Columnas: {df_available.shape[1]}\")"
   ]
  },
  {
   "cell_type": "markdown",
   "metadata": {},
   "source": [
    "4. IDENTIFICAMOS TODOS LOS TIPOS DE VARIABLES, (Categóricas, numéricas y ordinales)"
   ]
  },
  {
   "cell_type": "code",
   "execution_count": 4,
   "metadata": {},
   "outputs": [
    {
     "name": "stdout",
     "output_type": "stream",
     "text": [
      "\n",
      "🔹 Variables categóricas: ['BusinessTravel', 'Department', 'EducationField', 'Gender', 'JobRole', 'MaritalStatus', 'Over18', 'Attrition']\n",
      "\n",
      "🔹 Nº variables categóricas:  8\n",
      "🔹 Variables numéricas: ['hrs', 'absences', 'JobInvolvement', 'PerformanceRating', 'EnvironmentSatisfaction', 'JobSatisfaction', 'WorkLifeBalance', 'Age', 'DistanceFromHome', 'Education', 'EmployeeCount', 'EmployeeID', 'JobLevel', 'MonthlyIncome', 'NumCompaniesWorked', 'PercentSalaryHike', 'StandardHours', 'StockOptionLevel', 'TotalWorkingYears', 'TrainingTimesLastYear', 'YearsAtCompany', 'YearsSinceLastPromotion', 'YearsWithCurrManager']\n",
      "\n",
      "🔹 Nº variables numéricas:  23\n"
     ]
    }
   ],
   "source": [
    "categorical_cols = df_available.select_dtypes(include=['object']).columns.tolist()\n",
    "numerical_cols = df_available.select_dtypes(include=['int64', 'float64']).columns.tolist()\n",
    "\n",
    "print(\"\\n🔹 Variables categóricas:\", categorical_cols)\n",
    "print(\"\\n🔹 Nº variables categóricas: \" , len(categorical_cols))\n",
    "print(\"🔹 Variables numéricas:\", numerical_cols)\n",
    "print(\"\\n🔹 Nº variables numéricas: \" , len(numerical_cols))"
   ]
  },
  {
   "cell_type": "markdown",
   "metadata": {},
   "source": [
    "5. CLASIFICAMOS TODAS LAS VARIABLES SEGUN LA CARDINALIDAD\n",
    "    Consideraremos alta cardinalidad variables con más de 5 posibles valores"
   ]
  },
  {
   "cell_type": "code",
   "execution_count": 5,
   "metadata": {},
   "outputs": [
    {
     "name": "stdout",
     "output_type": "stream",
     "text": [
      "\n",
      "🔹 Variables categóricas con alta cardinalidad: ['EducationField', 'JobRole']\n"
     ]
    }
   ],
   "source": [
    "high_cardinality_cols = [col for col in categorical_cols if df_available[col].nunique() > 5]\n",
    "print(\"\\n🔹 Variables categóricas con alta cardinalidad:\", high_cardinality_cols)"
   ]
  },
  {
   "cell_type": "markdown",
   "metadata": {},
   "source": [
    "6. IDENTIFICAMOS LOS QUE TIENEN VALOR NULO"
   ]
  },
  {
   "cell_type": "code",
   "execution_count": null,
   "metadata": {},
   "outputs": [
    {
     "name": "stdout",
     "output_type": "stream",
     "text": [
      "\n",
      "🔹 Valores nulos por columna:\n",
      "EnvironmentSatisfaction    15\n",
      "JobSatisfaction            12\n",
      "WorkLifeBalance            21\n",
      "NumCompaniesWorked         13\n",
      "TotalWorkingYears           6\n",
      "dtype: int64\n"
     ]
    }
   ],
   "source": [
    "missing_values = df_available.isnull().sum()\n",
    "missing_values = missing_values[missing_values > 0]\n",
    "print(\"\\n🔹 Valores nulos por columna:\")\n",
    "print(missing_values)"
   ]
  },
  {
   "cell_type": "markdown",
   "metadata": {},
   "source": [
    "7. DETECTAMOS LAS COLUMNAS CONSTANTES DE UN SOLO VALOR"
   ]
  },
  {
   "cell_type": "code",
   "execution_count": 7,
   "metadata": {},
   "outputs": [
    {
     "name": "stdout",
     "output_type": "stream",
     "text": [
      "\n",
      "🔹 Columnas constantes (sin variabilidad): ['EmployeeCount', 'Over18', 'StandardHours']\n"
     ]
    }
   ],
   "source": [
    "constant_cols = [col for col in df_available.columns if df_available[col].nunique() == 1]\n",
    "print(\"\\n🔹 Columnas constantes (sin variabilidad):\", constant_cols)"
   ]
  },
  {
   "cell_type": "markdown",
   "metadata": {},
   "source": [
    "8. DETECTAMOS LAS COLUMNAS BINARIAS"
   ]
  },
  {
   "cell_type": "code",
   "execution_count": 8,
   "metadata": {},
   "outputs": [
    {
     "name": "stdout",
     "output_type": "stream",
     "text": [
      "\n",
      "🔹 Columnas binarias: ['PerformanceRating', 'Gender', 'Attrition']\n"
     ]
    }
   ],
   "source": [
    "binary_cols = [col for col in df_available.columns if df_available[col].nunique() == 2]\n",
    "print(\"\\n🔹 Columnas binarias:\", binary_cols)"
   ]
  },
  {
   "cell_type": "markdown",
   "metadata": {},
   "source": [
    "9. IDENTIFICAMOS AQUELLAS COLUMNAS QUE SON DE IDENTIFICACIÓN"
   ]
  },
  {
   "cell_type": "code",
   "execution_count": 9,
   "metadata": {},
   "outputs": [
    {
     "name": "stdout",
     "output_type": "stream",
     "text": [
      "\n",
      "🔹 Posibles columnas de ID: ['EmployeeCount', 'EmployeeID']\n"
     ]
    }
   ],
   "source": [
    "id_cols = [col for col in df_available.columns if \"ID\" in col or \"id\" in col or \"EmployeeCount\" in col]\n",
    "print(\"\\n🔹 Posibles columnas de ID:\", id_cols)"
   ]
  },
  {
   "cell_type": "markdown",
   "metadata": {},
   "source": [
    "10. ANALISAS DEL DESBALANCEO DE LA VARIABLE OBJETIVO"
   ]
  },
  {
   "cell_type": "code",
   "execution_count": 11,
   "metadata": {},
   "outputs": [
    {
     "name": "stdout",
     "output_type": "stream",
     "text": [
      "\n",
      "🔹 Es un problema de CLASIFICACIÓN.\n",
      "\n",
      "🔹 Distribución de la variable objetivo (absences):\n",
      "Attrition\n",
      "No     83.877551\n",
      "Yes    16.122449\n",
      "Name: proportion, dtype: float64\n"
     ]
    },
    {
     "data": {
      "image/png": "[encoded data removed]",
      "text/plain": [
       "<Figure size 640x480 with 1 Axes>"
      ]
     },
     "metadata": {},
     "output_type": "display_data"
    }
   ],
   "source": [
    "#primero hacemos un análisis del tipo de problema con el que estamos tratando\n",
    "target_col = \"Attrition\"\n",
    "if df_available[target_col].dtype == 'object' or df_available[target_col].nunique() <= 10:\n",
    "    print(\"\\n🔹 Es un problema de CLASIFICACIÓN.\")\n",
    "else:\n",
    "    print(\"\\n🔹 Es un problema de REGRESIÓN.\")\n",
    "\n",
    "#A continuación, si es un problema de clasificación hacemos un análisis del desbalanceo de la variable objetivo\n",
    "attrition_distribution = df_available[target_col].value_counts(normalize=True) * 100\n",
    "print(\"\\n🔹 Distribución de la variable objetivo (absences):\")\n",
    "print(attrition_distribution)\n",
    "\n",
    "#Generamos la visualización del desbalanceo\n",
    "df_available[\"Attrition\"].value_counts().plot(kind='bar', color=['green', 'red'], edgecolor=\"black\")\n",
    "plt.title(\"Distribución de la Variable Objetivo (Attrition)\")\n",
    "plt.ylabel(\"Cantidad de empleados\")\n",
    "plt.xlabel(\"absences (No = 0, Yes = 1)\")\n",
    "plt.xticks(rotation=0)\n",
    "plt.show()"
   ]
  },
  {
   "cell_type": "markdown",
   "metadata": {},
   "source": [
    "Conclusiones: Se puede ver que hay un gran desbalanceo de clases de hasta 5 veces menos instancias para el valor \"Yes\""
   ]
  }
 ],
 "metadata": {
  "kernelspec": {
   "display_name": "Python 3 (ipykernel)",
   "language": "python",
   "name": "python3"
  },
  "language_info": {
   "codemirror_mode": {
    "name": "ipython",
    "version": 3
   },
   "file_extension": ".py",
   "mimetype": "text/x-python",
   "name": "python",
   "nbconvert_exporter": "python",
   "pygments_lexer": "ipython3",
   "version": "3.12.7"
  },
  "vscode": {
   "interpreter": {
    "hash": "ad304b83e7aa112613a50075ed76c14131ef3a14d40010dc73da1a6299209a0d"
   }
  }
 },
 "nbformat": 4,
 "nbformat_minor": 4
}
