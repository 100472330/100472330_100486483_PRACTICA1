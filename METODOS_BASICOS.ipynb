{
 "cells": [
  {
   "cell_type": "markdown",
   "metadata": {},
   "source": [
    "1. MÉTODOS BÁSICOS. (KNN Y ARBOLES DE DECISION)"
   ]
  },
  {
   "cell_type": "code",
   "execution_count": 4,
   "metadata": {},
   "outputs": [],
   "source": [
    "#importamos todas las librerías necesarias. \n",
    "import pandas as pd\n",
    "import numpy as np\n",
    "from sklearn.model_selection import train_test_split, StratifiedKFold, cross_val_score, GridSearchCV\n",
    "from sklearn.preprocessing import StandardScaler, MinMaxScaler, RobustScaler, LabelEncoder\n",
    "from sklearn.impute import SimpleImputer\n",
    "from sklearn.neighbors import KNeighborsClassifier\n",
    "from sklearn.tree import DecisionTreeClassifier\n",
    "from sklearn.metrics import balanced_accuracy_score, accuracy_score, confusion_matrix"
   ]
  },
  {
   "cell_type": "code",
   "execution_count": 5,
   "metadata": {},
   "outputs": [
    {
     "name": "stdout",
     "output_type": "stream",
     "text": [
      "Scaler: StandardScaler, Imputer: Mean, Score: 0.5922\n",
      "Scaler: StandardScaler, Imputer: Median, Score: 0.5928\n",
      "Scaler: MinMaxScaler, Imputer: Mean, Score: 0.5922\n",
      "Scaler: MinMaxScaler, Imputer: Median, Score: 0.5903\n",
      "Scaler: RobustScaler, Imputer: Mean, Score: 0.6000\n",
      "Scaler: RobustScaler, Imputer: Median, Score: 0.5987\n",
      "\n",
      "Mejor método de escalado: RobustScaler(), Mejor método de imputación: SimpleImputer()\n"
     ]
    }
   ],
   "source": [
    "\n",
    "# Cargamos todos los datos\n",
    "available_data_path = f\"attrition_availabledata_03.csv\"\n",
    "df = pd.read_csv(available_data_path)\n",
    "\n",
    "# Eliminamos todas las columnas irrelevantes\n",
    "drop_columns = [\"EmployeeID\", \"Over18\", \"StandardHours\", \"EmployeeCount\"]\n",
    "df = df.drop(columns=drop_columns, errors='ignore')\n",
    "\n",
    "# Convertimos las variables categóricas a numéricas\n",
    "categorical_columns = df.select_dtypes(include=['object']).columns\n",
    "label_encoders = {}\n",
    "\n",
    "for col in categorical_columns:\n",
    "    le = LabelEncoder()\n",
    "    df[col] = le.fit_transform(df[col])\n",
    "    label_encoders[col] = le\n",
    "\n",
    "#Separamos en características (X) y variable objetivo (y)\n",
    "X = df.drop(columns=[\"Attrition\"])\n",
    "y = df[\"Attrition\"]\n",
    "\n",
    "# Dividimos en conjunots: Train (2/3) y Test (1/3)\n",
    "X_train, X_test, y_train, y_test = train_test_split(X, y, test_size=1/3, random_state=3, stratify=y)\n",
    "\n",
    "# Escalamos e imputamos usando KNN como referencia\n",
    "scalers = {\n",
    "    \"StandardScaler\": StandardScaler(),\n",
    "    \"MinMaxScaler\": MinMaxScaler(),\n",
    "    \"RobustScaler\": RobustScaler()\n",
    "}\n",
    "\n",
    "imputers = {\n",
    "    \"Mean\": SimpleImputer(strategy=\"mean\"),\n",
    "    \"Median\": SimpleImputer(strategy=\"median\")\n",
    "}\n",
    "\n",
    "# Evaluamos con KNN (k=5) para decidir el mejor método\n",
    "kfold = StratifiedKFold(n_splits=5, shuffle=True, random_state=3)\n",
    "best_score = 0\n",
    "best_scaler = None\n",
    "best_imputer = None\n",
    "\n",
    "for scaler_name, scaler in scalers.items():\n",
    "    for imputer_name, imputer in imputers.items():\n",
    "        X_train_imputed = imputer.fit_transform(X_train)\n",
    "        X_train_scaled = scaler.fit_transform(X_train_imputed)\n",
    "        \n",
    "        knn = KNeighborsClassifier(n_neighbors=5)\n",
    "        score = np.mean(cross_val_score(knn, X_train_scaled, y_train, cv=kfold, scoring=\"balanced_accuracy\"))\n",
    "        \n",
    "        print(f\"Scaler: {scaler_name}, Imputer: {imputer_name}, Score: {score:.4f}\")\n",
    "        \n",
    "        if score > best_score:\n",
    "            best_score = score\n",
    "            best_scaler = scaler\n",
    "            best_imputer = imputer\n",
    "\n",
    "# Aplicamos el mejor preprocesamiento encontrado\n",
    "X_train_imputed = best_imputer.fit_transform(X_train)\n",
    "X_test_imputed = best_imputer.transform(X_test)\n",
    "X_train_scaled = best_scaler.fit_transform(X_train_imputed)\n",
    "X_test_scaled = best_scaler.transform(X_test_imputed)\n",
    "\n",
    "print(f\"\\nMejor método de escalado: {best_scaler}, Mejor método de imputación: {best_imputer}\")\n"
   ]
  },
  {
   "cell_type": "markdown",
   "metadata": {},
   "source": [
    "2. Entrenar y evaluar modelos base (KNN y Árboles de Decisión)"
   ]
  },
  {
   "cell_type": "code",
   "execution_count": 6,
   "metadata": {},
   "outputs": [
    {
     "name": "stdout",
     "output_type": "stream",
     "text": [
      "\n",
      "Balanced Accuracy KNN: 0.6000\n",
      "Balanced Accuracy Árbol de Decisión: 0.8180\n"
     ]
    }
   ],
   "source": [
    "\n",
    "# definimos modelos base\n",
    "knn = KNeighborsClassifier(n_neighbors=5)\n",
    "tree = DecisionTreeClassifier(random_state=3)\n",
    "\n",
    "# evaluamos con Cross-Validation\n",
    "knn_score = np.mean(cross_val_score(knn, X_train_scaled, y_train, cv=kfold, scoring=\"balanced_accuracy\"))\n",
    "tree_score = np.mean(cross_val_score(tree, X_train_scaled, y_train, cv=kfold, scoring=\"balanced_accuracy\"))\n",
    "\n",
    "print(f\"\\nBalanced Accuracy KNN: {knn_score:.4f}\")\n",
    "print(f\"Balanced Accuracy Árbol de Decisión: {tree_score:.4f}\")\n"
   ]
  },
  {
   "cell_type": "markdown",
   "metadata": {},
   "source": [
    "3. Optimización de hiperparámetros (HPO) con GridSearchCV"
   ]
  },
  {
   "cell_type": "code",
   "execution_count": 7,
   "metadata": {},
   "outputs": [
    {
     "name": "stdout",
     "output_type": "stream",
     "text": [
      "\n",
      "Mejor KNN: {'n_neighbors': 3}, Balanced Accuracy: 0.6589\n",
      "Mejor Árbol: {'max_depth': None, 'min_samples_split': 2}, Balanced Accuracy: 0.8180\n"
     ]
    }
   ],
   "source": [
    "\n",
    "# definimos grids de hiperparámetros\n",
    "knn_params = {\"n_neighbors\": [3, 5, 7, 9, 11]}\n",
    "tree_params = {\"max_depth\": [3, 5, 10, None], \"min_samples_split\": [2, 5, 10]}\n",
    "\n",
    "# optimizamos con GridSearchCV\n",
    "knn_grid = GridSearchCV(KNeighborsClassifier(), knn_params, cv=kfold, scoring=\"balanced_accuracy\", n_jobs=-1)\n",
    "tree_grid = GridSearchCV(DecisionTreeClassifier(random_state=3), tree_params, cv=kfold, scoring=\"balanced_accuracy\", n_jobs=-1)\n",
    "\n",
    "# entrenamos GridSearchCV\n",
    "knn_grid.fit(X_train_scaled, y_train)\n",
    "tree_grid.fit(X_train_scaled, y_train)\n",
    "\n",
    "# obtenemos mejores parámetros y scores\n",
    "best_knn = knn_grid.best_estimator_\n",
    "best_tree = tree_grid.best_estimator_\n",
    "\n",
    "print(f\"\\nMejor KNN: {knn_grid.best_params_}, Balanced Accuracy: {knn_grid.best_score_:.4f}\")\n",
    "print(f\"Mejor Árbol: {tree_grid.best_params_}, Balanced Accuracy: {tree_grid.best_score_:.4f}\")\n"
   ]
  },
  {
   "cell_type": "markdown",
   "metadata": {},
   "source": [
    "4.  Evaluación final en el conjunto de Test (Outer)"
   ]
  },
  {
   "cell_type": "code",
   "execution_count": 8,
   "metadata": {},
   "outputs": [
    {
     "name": "stdout",
     "output_type": "stream",
     "text": [
      "\n",
      "🔹 KNN - Evaluación en Test Set\n",
      "Balanced Accuracy: 0.6814\n",
      "Accuracy: 0.8643\n",
      "True Positive Rate (TPR): 0.4114\n",
      "True Negative Rate (TNR): 0.9513\n",
      "Matriz de Confusión:\n",
      "[[782  40]\n",
      " [ 93  65]]\n",
      "\n",
      "🔹 Árbol de Decisión - Evaluación en Test Set\n",
      "Balanced Accuracy: 0.8559\n",
      "Accuracy: 0.9255\n",
      "True Positive Rate (TPR): 0.7532\n",
      "True Negative Rate (TNR): 0.9586\n",
      "Matriz de Confusión:\n",
      "[[788  34]\n",
      " [ 39 119]]\n"
     ]
    }
   ],
   "source": [
    "\n",
    "# predecimos y evaluamos\n",
    "y_pred_knn = best_knn.predict(X_test_scaled)\n",
    "y_pred_tree = best_tree.predict(X_test_scaled)\n",
    "\n",
    "# Métricas para cada modelo\n",
    "def evaluar_modelo(y_test, y_pred, model_name):\n",
    "    balanced_acc = balanced_accuracy_score(y_test, y_pred)\n",
    "    accuracy = accuracy_score(y_test, y_pred)\n",
    "    conf_matrix = confusion_matrix(y_test, y_pred)\n",
    "    tn, fp, fn, tp = conf_matrix.ravel()\n",
    "    TPR = tp / (tp + fn)\n",
    "    TNR = tn / (tn + fp)\n",
    "    \n",
    "    print(f\"\\n🔹 {model_name} - Evaluación en Test Set\")\n",
    "    print(f\"Balanced Accuracy: {balanced_acc:.4f}\")\n",
    "    print(f\"Accuracy: {accuracy:.4f}\")\n",
    "    print(f\"True Positive Rate (TPR): {TPR:.4f}\")\n",
    "    print(f\"True Negative Rate (TNR): {TNR:.4f}\")\n",
    "    print(f\"Matriz de Confusión:\\n{conf_matrix}\")\n",
    "\n",
    "evaluar_modelo(y_test, y_pred_knn, \"KNN\")\n",
    "evaluar_modelo(y_test, y_pred_tree, \"Árbol de Decisión\")"
   ]
  }
 ],
 "metadata": {
  "kernelspec": {
   "display_name": "Python 3",
   "language": "python",
   "name": "python3"
  },
  "language_info": {
   "codemirror_mode": {
    "name": "ipython",
    "version": 3
   },
   "file_extension": ".py",
   "mimetype": "text/x-python",
   "name": "python",
   "nbconvert_exporter": "python",
   "pygments_lexer": "ipython3",
   "version": "3.12.7"
  },
  "orig_nbformat": 4
 },
 "nbformat": 4,
 "nbformat_minor": 2
}
