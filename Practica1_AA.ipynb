{
 "cells": [
  {
   "cell_type": "markdown",
   "metadata": {},
   "source": [
    "Importar librerías"
   ]
  },
  {
   "cell_type": "code",
   "execution_count": 38,
   "metadata": {},
   "outputs": [],
   "source": [
    "import pandas as pd\n",
    "import numpy as np\n",
    "import matplotlib.pyplot as plt\n",
    "from sklearn.model_selection import train_test_split, cross_val_score, StratifiedKFold, GridSearchCV\n",
    "from sklearn.preprocessing import StandardScaler, LabelEncoder, RobustScaler, MinMaxScaler, OneHotEncoder\n",
    "from sklearn.compose import ColumnTransformer\n",
    "from sklearn.pipeline import Pipeline\n",
    "from sklearn.linear_model import LogisticRegression\n",
    "from sklearn.svm import SVC\n",
    "from sklearn.metrics import balanced_accuracy_score, accuracy_score, confusion_matrix\n",
    "from sklearn.tree import DecisionTreeClassifier\n",
    "from sklearn.impute import SimpleImputer\n",
    "from sklearn.neighbors import KNeighborsClassifier\n",
    "import pickle\n",
    "import time"
   ]
  },
  {
   "cell_type": "markdown",
   "metadata": {},
   "source": [
    "PUNTO 2: EDA"
   ]
  },
  {
   "cell_type": "markdown",
   "metadata": {},
   "source": [
    "1. Leer CSV"
   ]
  },
  {
   "cell_type": "code",
   "execution_count": 39,
   "metadata": {},
   "outputs": [],
   "source": [
    "df_available = pd.read_csv(\"attrition_availabledata_03.csv\")"
   ]
  },
  {
   "cell_type": "markdown",
   "metadata": {},
   "source": [
    "2. Calculando el número de variables e instancias"
   ]
  },
  {
   "cell_type": "code",
   "execution_count": 40,
   "metadata": {},
   "outputs": [
    {
     "name": "stdout",
     "output_type": "stream",
     "text": [
      "\n",
      "🔹 Número de instancias y variables:\n",
      "Filas: 2940, Columnas: 31\n"
     ]
    }
   ],
   "source": [
    "print(\"\\n🔹 Número de instancias y variables:\")\n",
    "print(f\"Filas: {df_available.shape[0]}, Columnas: {df_available.shape[1]}\")"
   ]
  },
  {
   "cell_type": "markdown",
   "metadata": {},
   "source": [
    "3. Identificando todos los tipos de variables (Categóricas, numéricas y ordinales)"
   ]
  },
  {
   "cell_type": "code",
   "execution_count": 41,
   "metadata": {},
   "outputs": [
    {
     "name": "stdout",
     "output_type": "stream",
     "text": [
      "\n",
      "🔹 Variables categóricas: ['BusinessTravel', 'Department', 'EducationField', 'Gender', 'JobRole', 'MaritalStatus', 'Over18', 'Attrition']\n",
      "\n",
      "🔹 Nº variables categóricas:  8\n",
      "🔹 Variables numéricas: ['hrs', 'absences', 'JobInvolvement', 'PerformanceRating', 'EnvironmentSatisfaction', 'JobSatisfaction', 'WorkLifeBalance', 'Age', 'DistanceFromHome', 'Education', 'EmployeeCount', 'EmployeeID', 'JobLevel', 'MonthlyIncome', 'NumCompaniesWorked', 'PercentSalaryHike', 'StandardHours', 'StockOptionLevel', 'TotalWorkingYears', 'TrainingTimesLastYear', 'YearsAtCompany', 'YearsSinceLastPromotion', 'YearsWithCurrManager']\n",
      "\n",
      "🔹 Nº variables numéricas:  23\n"
     ]
    }
   ],
   "source": [
    "col_categoricas = df_available.select_dtypes(include=['object']).columns.tolist()\n",
    "col_numericas = df_available.select_dtypes(include=['int64', 'float64']).columns.tolist()\n",
    "\n",
    "print(\"\\n🔹 Variables categóricas:\", col_categoricas)\n",
    "print(\"\\n🔹 Nº variables categóricas: \" , len(col_categoricas))\n",
    "print(\"🔹 Variables numéricas:\", col_numericas)\n",
    "print(\"\\n🔹 Nº variables numéricas: \" , len(col_numericas))"
   ]
  },
  {
   "cell_type": "markdown",
   "metadata": {},
   "source": [
    "4. Clasificación de todas las variables segun su cardinalidad\n",
    "\n",
    "    Consideramos alta cardinalidas a vatiables con mas de 5 posibles valores"
   ]
  },
  {
   "cell_type": "code",
   "execution_count": 42,
   "metadata": {},
   "outputs": [
    {
     "name": "stdout",
     "output_type": "stream",
     "text": [
      "\n",
      "🔹 Variables categóricas con alta cardinalidad: ['EducationField', 'JobRole']\n"
     ]
    }
   ],
   "source": [
    "col_cardinalidad_alta = [col for col in col_categoricas if df_available[col].nunique() > 5]\n",
    "print(\"\\n🔹 Variables categóricas con alta cardinalidad:\", col_cardinalidad_alta)"
   ]
  },
  {
   "cell_type": "markdown",
   "metadata": {},
   "source": [
    "5. Identificación de las variables que tienen valor nulo"
   ]
  },
  {
   "cell_type": "code",
   "execution_count": 43,
   "metadata": {},
   "outputs": [
    {
     "name": "stdout",
     "output_type": "stream",
     "text": [
      "\n",
      "🔹 Valores nulos por columna:\n",
      "EnvironmentSatisfaction    15\n",
      "JobSatisfaction            12\n",
      "WorkLifeBalance            21\n",
      "NumCompaniesWorked         13\n",
      "TotalWorkingYears           6\n",
      "dtype: int64\n"
     ]
    }
   ],
   "source": [
    "valores_nulos = df_available.isnull().sum()\n",
    "valores_nulos = valores_nulos[valores_nulos > 0]\n",
    "print(\"\\n🔹 Valores nulos por columna:\")\n",
    "print(valores_nulos)"
   ]
  },
  {
   "cell_type": "markdown",
   "metadata": {},
   "source": [
    "6. Detección de las columnas constantes de un solo valor"
   ]
  },
  {
   "cell_type": "code",
   "execution_count": 44,
   "metadata": {},
   "outputs": [
    {
     "name": "stdout",
     "output_type": "stream",
     "text": [
      "\n",
      "🔹 Columnas constantes (sin variabilidad): ['EmployeeCount', 'Over18', 'StandardHours']\n"
     ]
    }
   ],
   "source": [
    "col_constantes = [col for col in df_available.columns if df_available[col].nunique() == 1]\n",
    "print(\"\\n🔹 Columnas constantes (sin variabilidad):\", col_constantes)"
   ]
  },
  {
   "cell_type": "markdown",
   "metadata": {},
   "source": [
    "7. Detección de columnas binarias"
   ]
  },
  {
   "cell_type": "code",
   "execution_count": 45,
   "metadata": {},
   "outputs": [
    {
     "name": "stdout",
     "output_type": "stream",
     "text": [
      "\n",
      "🔹 Columnas binarias: ['PerformanceRating', 'Gender', 'Attrition']\n"
     ]
    }
   ],
   "source": [
    "col_binarias = [col for col in df_available.columns if df_available[col].nunique() == 2]\n",
    "print(\"\\n🔹 Columnas binarias:\", col_binarias)"
   ]
  },
  {
   "cell_type": "markdown",
   "metadata": {},
   "source": [
    "8. Identificando columnas de identificación"
   ]
  },
  {
   "cell_type": "code",
   "execution_count": 46,
   "metadata": {},
   "outputs": [
    {
     "name": "stdout",
     "output_type": "stream",
     "text": [
      "\n",
      "🔹 Posibles columnas de ID: ['EmployeeCount', 'EmployeeID']\n"
     ]
    }
   ],
   "source": [
    "id_cols = [col for col in df_available.columns if \"ID\" in col or \"id\" in col or \"EmployeeCount\" in col]\n",
    "print(\"\\n🔹 Posibles columnas de ID:\", id_cols)"
   ]
  },
  {
   "cell_type": "markdown",
   "metadata": {},
   "source": [
    "10. Análisis del desbalanceo de \"Attrition\""
   ]
  },
  {
   "cell_type": "markdown",
   "metadata": {},
   "source": [
    "10.1. Primero hacemos un análisis del tipo de problema con el que estamos tratando"
   ]
  },
  {
   "cell_type": "code",
   "execution_count": 47,
   "metadata": {},
   "outputs": [
    {
     "name": "stdout",
     "output_type": "stream",
     "text": [
      "\n",
      "🔹 Es un problema de CLASIFICACIÓN.\n"
     ]
    }
   ],
   "source": [
    "target_col = \"Attrition\"\n",
    "if df_available[target_col].dtype == 'object' or df_available[target_col].nunique() <= 10:\n",
    "    print(\"\\n🔹 Es un problema de CLASIFICACIÓN.\")\n",
    "else:\n",
    "    print(\"\\n🔹 Es un problema de REGRESIÓN.\")"
   ]
  },
  {
   "cell_type": "markdown",
   "metadata": {},
   "source": [
    "10.2. Si es un problema de clasificación hacemos un análisis del desbalanceo de la variable objetivo"
   ]
  },
  {
   "cell_type": "code",
   "execution_count": 48,
   "metadata": {},
   "outputs": [
    {
     "name": "stdout",
     "output_type": "stream",
     "text": [
      "\n",
      "🔹 Distribución de la variable objetivo (absences):\n",
      "Attrition\n",
      "No     83.877551\n",
      "Yes    16.122449\n",
      "Name: proportion, dtype: float64\n"
     ]
    }
   ],
   "source": [
    "attrition_distribution = df_available[target_col].value_counts(normalize=True) * 100\n",
    "print(\"\\n🔹 Distribución de la variable objetivo (absences):\")\n",
    "print(attrition_distribution)"
   ]
  },
  {
   "cell_type": "markdown",
   "metadata": {},
   "source": [
    "10.3. Generando la visualización del desbalanceo"
   ]
  },
  {
   "cell_type": "code",
   "execution_count": 49,
   "metadata": {},
   "outputs": [
    {
     "data": {
      "image/png": "[encoded data removed]",
      "text/plain": [
       "<Figure size 640x480 with 1 Axes>"
      ]
     },
     "metadata": {},
     "output_type": "display_data"
    }
   ],
   "source": [
    "df_available[\"Attrition\"].value_counts().plot(kind='bar', color=['green', 'red'], edgecolor=\"black\")\n",
    "plt.title(\"Distribución de la Variable Objetivo (Attrition)\")\n",
    "plt.ylabel(\"Cantidad de empleados\")\n",
    "plt.xlabel(\"absences (No = 0, Yes = 1)\")\n",
    "plt.xticks(rotation=0)\n",
    "plt.show()"
   ]
  },
  {
   "cell_type": "markdown",
   "metadata": {},
   "source": [
    "---------------------------------------------------------------------"
   ]
  },
  {
   "cell_type": "markdown",
   "metadata": {},
   "source": [
    "PUNTO 3: CROSS VALIDATION"
   ]
  },
  {
   "cell_type": "markdown",
   "metadata": {},
   "source": [
    "1. Eliminación de datos irrelevantes\n",
    "\n",
    "    Estas columnas son identificadores \"EmployeeID\" y valores constantes"
   ]
  },
  {
   "cell_type": "code",
   "execution_count": 50,
   "metadata": {},
   "outputs": [],
   "source": [
    "# Eliminar columnas irrelevantes\n",
    "drop_columns = [\"EmployeeID\", \"Over18\", \"StandardHours\", \"EmployeeCount\"]\n",
    "df = df_available.drop(columns=drop_columns, errors='ignore')"
   ]
  },
  {
   "cell_type": "markdown",
   "metadata": {},
   "source": [
    "2. Convertir todas las variables a tipo numérico y separar según características y variable objetivo (Attrition)"
   ]
  },
  {
   "cell_type": "code",
   "execution_count": 51,
   "metadata": {},
   "outputs": [],
   "source": [
    "# Convertir variables categóricas a numéricas usando Label Encoding\n",
    "categorical_columns = df.select_dtypes(include=['object']).columns\n",
    "label_encoders = {}\n",
    "\n",
    "for col in categorical_columns:\n",
    "    le = LabelEncoder()\n",
    "    df[col] = le.fit_transform(df[col])\n",
    "    label_encoders[col] = le  # Guardar para futuras conversiones si es necesario\n",
    "\n",
    "# Separar en características (X) y variable objetivo (y)\n",
    "X = df.drop(columns=[\"Attrition\"])\n",
    "y = df[\"Attrition\"]"
   ]
  },
  {
   "cell_type": "markdown",
   "metadata": {},
   "source": [
    "3. Preprocesamiento de datos: detección de outliers y escalado"
   ]
  },
  {
   "cell_type": "markdown",
   "metadata": {},
   "source": [
    "3.1. Seleccionando columnas numéricas"
   ]
  },
  {
   "cell_type": "code",
   "execution_count": 52,
   "metadata": {},
   "outputs": [],
   "source": [
    "df = X\n",
    "\n",
    "numerical_cols = df.select_dtypes(include=\n",
    "[np.number]).columns.tolist()"
   ]
  },
  {
   "cell_type": "markdown",
   "metadata": {},
   "source": [
    "3.2. Función para detectar outliers usando regla IQR"
   ]
  },
  {
   "cell_type": "code",
   "execution_count": 53,
   "metadata": {},
   "outputs": [],
   "source": [
    "def porcentaje_outliers(col):\n",
    "    Q1 = col.quantile(0.25)\n",
    "    Q3 = col.quantile(0.75)\n",
    "    IQR = Q3 - Q1\n",
    "    # Definir límites\n",
    "    lower_bound = Q1 - 1.5 * IQR\n",
    "    upper_bound = Q3 + 1.5 * IQR\n",
    "    outlier_count = ((col < lower_bound) | (col > upper_bound)).sum()\n",
    "    return outlier_count / len(col)"
   ]
  },
  {
   "cell_type": "markdown",
   "metadata": {},
   "source": [
    "3.3. Definiendo umbrales para la recomendación\n",
    "    \n",
    "    - Si la asimentría es mayor a 1 o menor a -1 se considera alta asimetría\n",
    "    - Si más del 5% de las instancias son outliers"
   ]
  },
  {
   "cell_type": "code",
   "execution_count": 54,
   "metadata": {},
   "outputs": [
    {
     "name": "stdout",
     "output_type": "stream",
     "text": [
      "Recomendación de transformación para cada columna numérica:\n",
      "----------------------------------------------------------------------\n",
      "\n",
      "Columna: hrs\n",
      "  Media: 7.326, Std: 1.334\n",
      "  Mín: 5.4168797411869445, Máx: 10.937\n",
      "  Asimetría (skew): 0.859\n",
      "  Porcentaje de outliers (IQR): 2.62%\n",
      "  -> Sugerencia: Distribución aproximadamente normal; se recomienda estandarización con StandardScaler.\n",
      "\n",
      "Columna: absences\n",
      "  Media: 12.702, Std: 5.518\n",
      "  Mín: 1.0, Máx: 24.000\n",
      "  Asimetría (skew): 0.015\n",
      "  Porcentaje de outliers (IQR): 0.00%\n",
      "  -> Sugerencia: Distribución aproximadamente normal; se recomienda estandarización con StandardScaler.\n",
      "\n",
      "Columna: JobInvolvement\n",
      "  Media: 2.740, Std: 0.718\n",
      "  Mín: 1.0, Máx: 4.000\n",
      "  Asimetría (skew): -0.516\n",
      "  Porcentaje de outliers (IQR): 0.00%\n",
      "  -> Sugerencia: Distribución aproximadamente normal; se recomienda estandarización con StandardScaler.\n",
      "\n",
      "Columna: PerformanceRating\n",
      "  Media: 3.161, Std: 0.367\n",
      "  Mín: 3.0, Máx: 4.000\n",
      "  Asimetría (skew): 1.847\n",
      "  Porcentaje de outliers (IQR): 16.09%\n",
      "  -> Sugerencia: La distribución es sesgada y/o presenta outliers; se recomienda normalización o escalado robusto.\n",
      "\n",
      "Columna: EnvironmentSatisfaction\n",
      "  Media: 2.726, Std: 1.093\n",
      "  Mín: 1.0, Máx: 4.000\n",
      "  Asimetría (skew): -0.328\n",
      "  Porcentaje de outliers (IQR): 0.00%\n",
      "  -> Sugerencia: Distribución aproximadamente normal; se recomienda estandarización con StandardScaler.\n",
      "\n",
      "Columna: JobSatisfaction\n",
      "  Media: 2.716, Std: 1.099\n",
      "  Mín: 1.0, Máx: 4.000\n",
      "  Asimetría (skew): -0.317\n",
      "  Porcentaje de outliers (IQR): 0.00%\n",
      "  -> Sugerencia: Distribución aproximadamente normal; se recomienda estandarización con StandardScaler.\n",
      "\n",
      "Columna: WorkLifeBalance\n",
      "  Media: 2.756, Std: 0.718\n",
      "  Mín: 1.0, Máx: 4.000\n",
      "  Asimetría (skew): -0.530\n",
      "  Porcentaje de outliers (IQR): 0.00%\n",
      "  -> Sugerencia: Distribución aproximadamente normal; se recomienda estandarización con StandardScaler.\n",
      "\n",
      "Columna: Age\n",
      "  Media: 36.783, Std: 9.158\n",
      "  Mín: 18.0, Máx: 60.000\n",
      "  Asimetría (skew): 0.399\n",
      "  Porcentaje de outliers (IQR): 0.00%\n",
      "  -> Sugerencia: Distribución aproximadamente normal; se recomienda estandarización con StandardScaler.\n",
      "\n",
      "Columna: BusinessTravel\n",
      "  Media: 1.599, Std: 0.673\n",
      "  Mín: 0.0, Máx: 2.000\n",
      "  Asimetría (skew): -1.409\n",
      "  Porcentaje de outliers (IQR): 0.00%\n",
      "  -> Sugerencia: La distribución es sesgada y/o presenta outliers; se recomienda normalización o escalado robusto.\n",
      "\n",
      "Columna: Department\n",
      "  Media: 1.265, Std: 0.529\n",
      "  Mín: 0.0, Máx: 2.000\n",
      "  Asimetría (skew): 0.161\n",
      "  Porcentaje de outliers (IQR): 0.00%\n",
      "  -> Sugerencia: Distribución aproximadamente normal; se recomienda estandarización con StandardScaler.\n",
      "\n",
      "Columna: DistanceFromHome\n",
      "  Media: 9.288, Std: 8.158\n",
      "  Mín: 1.0, Máx: 29.000\n",
      "  Asimetría (skew): 0.944\n",
      "  Porcentaje de outliers (IQR): 0.00%\n",
      "  -> Sugerencia: Distribución aproximadamente normal; se recomienda estandarización con StandardScaler.\n",
      "\n",
      "Columna: Education\n",
      "  Media: 2.903, Std: 1.030\n",
      "  Mín: 1.0, Máx: 5.000\n",
      "  Asimetría (skew): -0.280\n",
      "  Porcentaje de outliers (IQR): 0.00%\n",
      "  -> Sugerencia: Distribución aproximadamente normal; se recomienda estandarización con StandardScaler.\n",
      "\n",
      "Columna: EducationField\n",
      "  Media: 2.227, Std: 1.322\n",
      "  Mín: 0.0, Máx: 5.000\n",
      "  Asimetría (skew): 0.560\n",
      "  Porcentaje de outliers (IQR): 0.00%\n",
      "  -> Sugerencia: Distribución aproximadamente normal; se recomienda estandarización con StandardScaler.\n",
      "\n",
      "Columna: Gender\n",
      "  Media: 0.598, Std: 0.490\n",
      "  Mín: 0.0, Máx: 1.000\n",
      "  Asimetría (skew): -0.398\n",
      "  Porcentaje de outliers (IQR): 0.00%\n",
      "  -> Sugerencia: Distribución aproximadamente normal; se recomienda estandarización con StandardScaler.\n",
      "\n",
      "Columna: JobLevel\n",
      "  Media: 2.050, Std: 1.092\n",
      "  Mín: 1.0, Máx: 5.000\n",
      "  Asimetría (skew): 1.033\n",
      "  Porcentaje de outliers (IQR): 0.00%\n",
      "  -> Sugerencia: La distribución es sesgada y/o presenta outliers; se recomienda normalización o escalado robusto.\n",
      "\n",
      "Columna: JobRole\n",
      "  Media: 4.468, Std: 2.468\n",
      "  Mín: 0.0, Máx: 8.000\n",
      "  Asimetría (skew): -0.358\n",
      "  Porcentaje de outliers (IQR): 0.00%\n",
      "  -> Sugerencia: Distribución aproximadamente normal; se recomienda estandarización con StandardScaler.\n",
      "\n",
      "Columna: MaritalStatus\n",
      "  Media: 1.105, Std: 0.732\n",
      "  Mín: 0.0, Máx: 2.000\n",
      "  Asimetría (skew): -0.165\n",
      "  Porcentaje de outliers (IQR): 0.00%\n",
      "  -> Sugerencia: Distribución aproximadamente normal; se recomienda estandarización con StandardScaler.\n",
      "\n",
      "Columna: MonthlyIncome\n",
      "  Media: 65115.350, Std: 47196.796\n",
      "  Mín: 10090.0, Máx: 199990.000\n",
      "  Asimetría (skew): 1.357\n",
      "  Porcentaje de outliers (IQR): 7.55%\n",
      "  -> Sugerencia: La distribución es sesgada y/o presenta outliers; se recomienda normalización o escalado robusto.\n",
      "\n",
      "Columna: NumCompaniesWorked\n",
      "  Media: 2.664, Std: 2.495\n",
      "  Mín: 0.0, Máx: 9.000\n",
      "  Asimetría (skew): 1.046\n",
      "  Porcentaje de outliers (IQR): 3.33%\n",
      "  -> Sugerencia: La distribución es sesgada y/o presenta outliers; se recomienda normalización o escalado robusto.\n",
      "\n",
      "Columna: PercentSalaryHike\n",
      "  Media: 15.261, Std: 3.707\n",
      "  Mín: 11.0, Máx: 25.000\n",
      "  Asimetría (skew): 0.809\n",
      "  Porcentaje de outliers (IQR): 0.00%\n",
      "  -> Sugerencia: Distribución aproximadamente normal; se recomienda estandarización con StandardScaler.\n",
      "\n",
      "Columna: StockOptionLevel\n",
      "  Media: 0.790, Std: 0.843\n",
      "  Mín: 0.0, Máx: 3.000\n",
      "  Asimetría (skew): 0.961\n",
      "  Porcentaje de outliers (IQR): 5.48%\n",
      "  -> Sugerencia: La distribución es sesgada y/o presenta outliers; se recomienda normalización o escalado robusto.\n",
      "\n",
      "Columna: TotalWorkingYears\n",
      "  Media: 11.262, Std: 7.788\n",
      "  Mín: 0.0, Máx: 40.000\n",
      "  Asimetría (skew): 1.105\n",
      "  Porcentaje de outliers (IQR): 4.25%\n",
      "  -> Sugerencia: La distribución es sesgada y/o presenta outliers; se recomienda normalización o escalado robusto.\n",
      "\n",
      "Columna: TrainingTimesLastYear\n",
      "  Media: 2.813, Std: 1.287\n",
      "  Mín: 0.0, Máx: 6.000\n",
      "  Asimetría (skew): 0.541\n",
      "  Porcentaje de outliers (IQR): 16.16%\n",
      "  -> Sugerencia: La distribución es sesgada y/o presenta outliers; se recomienda normalización o escalado robusto.\n",
      "\n",
      "Columna: YearsAtCompany\n",
      "  Media: 6.988, Std: 5.995\n",
      "  Mín: 0.0, Máx: 40.000\n",
      "  Asimetría (skew): 1.759\n",
      "  Porcentaje de outliers (IQR): 6.77%\n",
      "  -> Sugerencia: La distribución es sesgada y/o presenta outliers; se recomienda normalización o escalado robusto.\n",
      "\n",
      "Columna: YearsSinceLastPromotion\n",
      "  Media: 2.193, Std: 3.220\n",
      "  Mín: 0.0, Máx: 15.000\n",
      "  Asimetría (skew): 1.957\n",
      "  Porcentaje de outliers (IQR): 7.35%\n",
      "  -> Sugerencia: La distribución es sesgada y/o presenta outliers; se recomienda normalización o escalado robusto.\n",
      "\n",
      "Columna: YearsWithCurrManager\n",
      "  Media: 4.128, Std: 3.541\n",
      "  Mín: 0.0, Máx: 17.000\n",
      "  Asimetría (skew): 0.795\n",
      "  Porcentaje de outliers (IQR): 0.85%\n",
      "  -> Sugerencia: Distribución aproximadamente normal; se recomienda estandarización con StandardScaler.\n"
     ]
    }
   ],
   "source": [
    "umbral_skew = 1.0\n",
    "umbral_out = 0.05\n",
    "\n",
    "print(\"Recomendación de transformación para cada columna numérica:\")\n",
    "print(\"-\" * 70)\n",
    "\n",
    "robust_columns = []\n",
    "standard_columns = []\n",
    "\n",
    "for col in numerical_cols:\n",
    "    serie = df[col]\n",
    "    skew = serie.skew()\n",
    "    outlier_pct = porcentaje_outliers(serie)\n",
    "    desc = serie.describe()\n",
    "    \n",
    "    print(f\"\\nColumna: {col}\")\n",
    "    print(f\"  Media: {desc['mean']:.3f}, Std: {desc['std']:.3f}\")\n",
    "    print(f\"  Mín: {desc['min']}, Máx: {desc['max']:.3f}\")\n",
    "    print(f\"  Asimetría (skew): {skew:.3f}\")\n",
    "    print(f\"  Porcentaje de outliers (IQR): {outlier_pct*100:.2f}%\")\n",
    "    \n",
    "    # Lógica de recomendación\n",
    "    if abs(skew) > umbral_skew or outlier_pct > umbral_out:\n",
    "        robust_columns.append(col)\n",
    "        print(\"  -> Sugerencia: La distribución es sesgada y/o presenta outliers; se recomienda normalización o escalado robusto.\")\n",
    "    else:\n",
    "        standard_columns.append(col)\n",
    "        print(\"  -> Sugerencia: Distribución aproximadamente normal; se recomienda estandarización con StandardScaler.\")"
   ]
  },
  {
   "cell_type": "markdown",
   "metadata": {},
   "source": [
    "3.4. Intanciación y aplicación de escaladores"
   ]
  },
  {
   "cell_type": "code",
   "execution_count": 55,
   "metadata": {},
   "outputs": [],
   "source": [
    "robust_scaler = RobustScaler()\n",
    "standard_scaler = StandardScaler()\n",
    "\n",
    "# Aplicar las transformaciones de forma separada\n",
    "X_transformed = X.copy()\n",
    "\n",
    "if robust_columns:\n",
    "    X_transformed[robust_columns] = robust_scaler.fit_transform(X[robust_columns])\n",
    "if standard_columns:\n",
    "    X_transformed[standard_columns] = standard_scaler.fit_transform(X[standard_columns])"
   ]
  },
  {
   "cell_type": "markdown",
   "metadata": {},
   "source": [
    "4. Division de datos y configuración de Cross-Validation\n",
    "\n",
    "    Se usa el parametro stratify para mantener la proporción de clases en Train y Test. Debido al desbalanceo de clases que se vio en el EDA."
   ]
  },
  {
   "cell_type": "code",
   "execution_count": 56,
   "metadata": {},
   "outputs": [
    {
     "name": "stdout",
     "output_type": "stream",
     "text": [
      "Datos preparados: Train (2/3), Test (1/3), y Cross-Validation lista.\n"
     ]
    }
   ],
   "source": [
    "# Dividir en Train (2/3) y Test (1/3)\n",
    "X_train, X_test, y_train, y_test = train_test_split(X_transformed, y, test_size=1/3, random_state=3, stratify=y)\n",
    "\n",
    "# Guardar el scaler para futuros usos- No hace falta \n",
    "# with open(\"robust_scaler.pkl\", \"wb\") as f:\n",
    "#     pickle.dump(robust_scaler, f)\n",
    "# with open(\"standard_scaler.pkl\", \"wb\") as f:\n",
    "#     pickle.dump(standard_scaler, f)\n",
    "\n",
    "# Evaluación INNER: K-Fold Cross Validation (k=5)\n",
    "kfold = StratifiedKFold(n_splits=5, shuffle=True, random_state=3)\n",
    "\n",
    "print(\"Datos preparados: Train (2/3), Test (1/3), y Cross-Validation lista.\")\n"
   ]
  },
  {
   "cell_type": "markdown",
   "metadata": {},
   "source": [
    "5. Evaluación outer: Estimación de rendimiento con un modelo base"
   ]
  },
  {
   "cell_type": "code",
   "execution_count": 57,
   "metadata": {},
   "outputs": [
    {
     "data": {
      "text/html": [
       "<style>#sk-container-id-2 {\n",
       "  /* Definition of color scheme common for light and dark mode */\n",
       "  --sklearn-color-text: #000;\n",
       "  --sklearn-color-text-muted: #666;\n",
       "  --sklearn-color-line: gray;\n",
       "  /* Definition of color scheme for unfitted estimators */\n",
       "  --sklearn-color-unfitted-level-0: #fff5e6;\n",
       "  --sklearn-color-unfitted-level-1: #f6e4d2;\n",
       "  --sklearn-color-unfitted-level-2: #ffe0b3;\n",
       "  --sklearn-color-unfitted-level-3: chocolate;\n",
       "  /* Definition of color scheme for fitted estimators */\n",
       "  --sklearn-color-fitted-level-0: #f0f8ff;\n",
       "  --sklearn-color-fitted-level-1: #d4ebff;\n",
       "  --sklearn-color-fitted-level-2: #b3dbfd;\n",
       "  --sklearn-color-fitted-level-3: cornflowerblue;\n",
       "\n",
       "  /* Specific color for light theme */\n",
       "  --sklearn-color-text-on-default-background: var(--sg-text-color, var(--theme-code-foreground, var(--jp-content-font-color1, black)));\n",
       "  --sklearn-color-background: var(--sg-background-color, var(--theme-background, var(--jp-layout-color0, white)));\n",
       "  --sklearn-color-border-box: var(--sg-text-color, var(--theme-code-foreground, var(--jp-content-font-color1, black)));\n",
       "  --sklearn-color-icon: #696969;\n",
       "\n",
       "  @media (prefers-color-scheme: dark) {\n",
       "    /* Redefinition of color scheme for dark theme */\n",
       "    --sklearn-color-text-on-default-background: var(--sg-text-color, var(--theme-code-foreground, var(--jp-content-font-color1, white)));\n",
       "    --sklearn-color-background: var(--sg-background-color, var(--theme-background, var(--jp-layout-color0, #111)));\n",
       "    --sklearn-color-border-box: var(--sg-text-color, var(--theme-code-foreground, var(--jp-content-font-color1, white)));\n",
       "    --sklearn-color-icon: #878787;\n",
       "  }\n",
       "}\n",
       "\n",
       "#sk-container-id-2 {\n",
       "  color: var(--sklearn-color-text);\n",
       "}\n",
       "\n",
       "#sk-container-id-2 pre {\n",
       "  padding: 0;\n",
       "}\n",
       "\n",
       "#sk-container-id-2 input.sk-hidden--visually {\n",
       "  border: 0;\n",
       "  clip: rect(1px 1px 1px 1px);\n",
       "  clip: rect(1px, 1px, 1px, 1px);\n",
       "  height: 1px;\n",
       "  margin: -1px;\n",
       "  overflow: hidden;\n",
       "  padding: 0;\n",
       "  position: absolute;\n",
       "  width: 1px;\n",
       "}\n",
       "\n",
       "#sk-container-id-2 div.sk-dashed-wrapped {\n",
       "  border: 1px dashed var(--sklearn-color-line);\n",
       "  margin: 0 0.4em 0.5em 0.4em;\n",
       "  box-sizing: border-box;\n",
       "  padding-bottom: 0.4em;\n",
       "  background-color: var(--sklearn-color-background);\n",
       "}\n",
       "\n",
       "#sk-container-id-2 div.sk-container {\n",
       "  /* jupyter's `normalize.less` sets `[hidden] { display: none; }`\n",
       "     but bootstrap.min.css set `[hidden] { display: none !important; }`\n",
       "     so we also need the `!important` here to be able to override the\n",
       "     default hidden behavior on the sphinx rendered scikit-learn.org.\n",
       "     See: https://github.com/scikit-learn/scikit-learn/issues/21755 */\n",
       "  display: inline-block !important;\n",
       "  position: relative;\n",
       "}\n",
       "\n",
       "#sk-container-id-2 div.sk-text-repr-fallback {\n",
       "  display: none;\n",
       "}\n",
       "\n",
       "div.sk-parallel-item,\n",
       "div.sk-serial,\n",
       "div.sk-item {\n",
       "  /* draw centered vertical line to link estimators */\n",
       "  background-image: linear-gradient(var(--sklearn-color-text-on-default-background), var(--sklearn-color-text-on-default-background));\n",
       "  background-size: 2px 100%;\n",
       "  background-repeat: no-repeat;\n",
       "  background-position: center center;\n",
       "}\n",
       "\n",
       "/* Parallel-specific style estimator block */\n",
       "\n",
       "#sk-container-id-2 div.sk-parallel-item::after {\n",
       "  content: \"\";\n",
       "  width: 100%;\n",
       "  border-bottom: 2px solid var(--sklearn-color-text-on-default-background);\n",
       "  flex-grow: 1;\n",
       "}\n",
       "\n",
       "#sk-container-id-2 div.sk-parallel {\n",
       "  display: flex;\n",
       "  align-items: stretch;\n",
       "  justify-content: center;\n",
       "  background-color: var(--sklearn-color-background);\n",
       "  position: relative;\n",
       "}\n",
       "\n",
       "#sk-container-id-2 div.sk-parallel-item {\n",
       "  display: flex;\n",
       "  flex-direction: column;\n",
       "}\n",
       "\n",
       "#sk-container-id-2 div.sk-parallel-item:first-child::after {\n",
       "  align-self: flex-end;\n",
       "  width: 50%;\n",
       "}\n",
       "\n",
       "#sk-container-id-2 div.sk-parallel-item:last-child::after {\n",
       "  align-self: flex-start;\n",
       "  width: 50%;\n",
       "}\n",
       "\n",
       "#sk-container-id-2 div.sk-parallel-item:only-child::after {\n",
       "  width: 0;\n",
       "}\n",
       "\n",
       "/* Serial-specific style estimator block */\n",
       "\n",
       "#sk-container-id-2 div.sk-serial {\n",
       "  display: flex;\n",
       "  flex-direction: column;\n",
       "  align-items: center;\n",
       "  background-color: var(--sklearn-color-background);\n",
       "  padding-right: 1em;\n",
       "  padding-left: 1em;\n",
       "}\n",
       "\n",
       "\n",
       "/* Toggleable style: style used for estimator/Pipeline/ColumnTransformer box that is\n",
       "clickable and can be expanded/collapsed.\n",
       "- Pipeline and ColumnTransformer use this feature and define the default style\n",
       "- Estimators will overwrite some part of the style using the `sk-estimator` class\n",
       "*/\n",
       "\n",
       "/* Pipeline and ColumnTransformer style (default) */\n",
       "\n",
       "#sk-container-id-2 div.sk-toggleable {\n",
       "  /* Default theme specific background. It is overwritten whether we have a\n",
       "  specific estimator or a Pipeline/ColumnTransformer */\n",
       "  background-color: var(--sklearn-color-background);\n",
       "}\n",
       "\n",
       "/* Toggleable label */\n",
       "#sk-container-id-2 label.sk-toggleable__label {\n",
       "  cursor: pointer;\n",
       "  display: flex;\n",
       "  width: 100%;\n",
       "  margin-bottom: 0;\n",
       "  padding: 0.5em;\n",
       "  box-sizing: border-box;\n",
       "  text-align: center;\n",
       "  align-items: start;\n",
       "  justify-content: space-between;\n",
       "  gap: 0.5em;\n",
       "}\n",
       "\n",
       "#sk-container-id-2 label.sk-toggleable__label .caption {\n",
       "  font-size: 0.6rem;\n",
       "  font-weight: lighter;\n",
       "  color: var(--sklearn-color-text-muted);\n",
       "}\n",
       "\n",
       "#sk-container-id-2 label.sk-toggleable__label-arrow:before {\n",
       "  /* Arrow on the left of the label */\n",
       "  content: \"▸\";\n",
       "  float: left;\n",
       "  margin-right: 0.25em;\n",
       "  color: var(--sklearn-color-icon);\n",
       "}\n",
       "\n",
       "#sk-container-id-2 label.sk-toggleable__label-arrow:hover:before {\n",
       "  color: var(--sklearn-color-text);\n",
       "}\n",
       "\n",
       "/* Toggleable content - dropdown */\n",
       "\n",
       "#sk-container-id-2 div.sk-toggleable__content {\n",
       "  max-height: 0;\n",
       "  max-width: 0;\n",
       "  overflow: hidden;\n",
       "  text-align: left;\n",
       "  /* unfitted */\n",
       "  background-color: var(--sklearn-color-unfitted-level-0);\n",
       "}\n",
       "\n",
       "#sk-container-id-2 div.sk-toggleable__content.fitted {\n",
       "  /* fitted */\n",
       "  background-color: var(--sklearn-color-fitted-level-0);\n",
       "}\n",
       "\n",
       "#sk-container-id-2 div.sk-toggleable__content pre {\n",
       "  margin: 0.2em;\n",
       "  border-radius: 0.25em;\n",
       "  color: var(--sklearn-color-text);\n",
       "  /* unfitted */\n",
       "  background-color: var(--sklearn-color-unfitted-level-0);\n",
       "}\n",
       "\n",
       "#sk-container-id-2 div.sk-toggleable__content.fitted pre {\n",
       "  /* unfitted */\n",
       "  background-color: var(--sklearn-color-fitted-level-0);\n",
       "}\n",
       "\n",
       "#sk-container-id-2 input.sk-toggleable__control:checked~div.sk-toggleable__content {\n",
       "  /* Expand drop-down */\n",
       "  max-height: 200px;\n",
       "  max-width: 100%;\n",
       "  overflow: auto;\n",
       "}\n",
       "\n",
       "#sk-container-id-2 input.sk-toggleable__control:checked~label.sk-toggleable__label-arrow:before {\n",
       "  content: \"▾\";\n",
       "}\n",
       "\n",
       "/* Pipeline/ColumnTransformer-specific style */\n",
       "\n",
       "#sk-container-id-2 div.sk-label input.sk-toggleable__control:checked~label.sk-toggleable__label {\n",
       "  color: var(--sklearn-color-text);\n",
       "  background-color: var(--sklearn-color-unfitted-level-2);\n",
       "}\n",
       "\n",
       "#sk-container-id-2 div.sk-label.fitted input.sk-toggleable__control:checked~label.sk-toggleable__label {\n",
       "  background-color: var(--sklearn-color-fitted-level-2);\n",
       "}\n",
       "\n",
       "/* Estimator-specific style */\n",
       "\n",
       "/* Colorize estimator box */\n",
       "#sk-container-id-2 div.sk-estimator input.sk-toggleable__control:checked~label.sk-toggleable__label {\n",
       "  /* unfitted */\n",
       "  background-color: var(--sklearn-color-unfitted-level-2);\n",
       "}\n",
       "\n",
       "#sk-container-id-2 div.sk-estimator.fitted input.sk-toggleable__control:checked~label.sk-toggleable__label {\n",
       "  /* fitted */\n",
       "  background-color: var(--sklearn-color-fitted-level-2);\n",
       "}\n",
       "\n",
       "#sk-container-id-2 div.sk-label label.sk-toggleable__label,\n",
       "#sk-container-id-2 div.sk-label label {\n",
       "  /* The background is the default theme color */\n",
       "  color: var(--sklearn-color-text-on-default-background);\n",
       "}\n",
       "\n",
       "/* On hover, darken the color of the background */\n",
       "#sk-container-id-2 div.sk-label:hover label.sk-toggleable__label {\n",
       "  color: var(--sklearn-color-text);\n",
       "  background-color: var(--sklearn-color-unfitted-level-2);\n",
       "}\n",
       "\n",
       "/* Label box, darken color on hover, fitted */\n",
       "#sk-container-id-2 div.sk-label.fitted:hover label.sk-toggleable__label.fitted {\n",
       "  color: var(--sklearn-color-text);\n",
       "  background-color: var(--sklearn-color-fitted-level-2);\n",
       "}\n",
       "\n",
       "/* Estimator label */\n",
       "\n",
       "#sk-container-id-2 div.sk-label label {\n",
       "  font-family: monospace;\n",
       "  font-weight: bold;\n",
       "  display: inline-block;\n",
       "  line-height: 1.2em;\n",
       "}\n",
       "\n",
       "#sk-container-id-2 div.sk-label-container {\n",
       "  text-align: center;\n",
       "}\n",
       "\n",
       "/* Estimator-specific */\n",
       "#sk-container-id-2 div.sk-estimator {\n",
       "  font-family: monospace;\n",
       "  border: 1px dotted var(--sklearn-color-border-box);\n",
       "  border-radius: 0.25em;\n",
       "  box-sizing: border-box;\n",
       "  margin-bottom: 0.5em;\n",
       "  /* unfitted */\n",
       "  background-color: var(--sklearn-color-unfitted-level-0);\n",
       "}\n",
       "\n",
       "#sk-container-id-2 div.sk-estimator.fitted {\n",
       "  /* fitted */\n",
       "  background-color: var(--sklearn-color-fitted-level-0);\n",
       "}\n",
       "\n",
       "/* on hover */\n",
       "#sk-container-id-2 div.sk-estimator:hover {\n",
       "  /* unfitted */\n",
       "  background-color: var(--sklearn-color-unfitted-level-2);\n",
       "}\n",
       "\n",
       "#sk-container-id-2 div.sk-estimator.fitted:hover {\n",
       "  /* fitted */\n",
       "  background-color: var(--sklearn-color-fitted-level-2);\n",
       "}\n",
       "\n",
       "/* Specification for estimator info (e.g. \"i\" and \"?\") */\n",
       "\n",
       "/* Common style for \"i\" and \"?\" */\n",
       "\n",
       ".sk-estimator-doc-link,\n",
       "a:link.sk-estimator-doc-link,\n",
       "a:visited.sk-estimator-doc-link {\n",
       "  float: right;\n",
       "  font-size: smaller;\n",
       "  line-height: 1em;\n",
       "  font-family: monospace;\n",
       "  background-color: var(--sklearn-color-background);\n",
       "  border-radius: 1em;\n",
       "  height: 1em;\n",
       "  width: 1em;\n",
       "  text-decoration: none !important;\n",
       "  margin-left: 0.5em;\n",
       "  text-align: center;\n",
       "  /* unfitted */\n",
       "  border: var(--sklearn-color-unfitted-level-1) 1pt solid;\n",
       "  color: var(--sklearn-color-unfitted-level-1);\n",
       "}\n",
       "\n",
       ".sk-estimator-doc-link.fitted,\n",
       "a:link.sk-estimator-doc-link.fitted,\n",
       "a:visited.sk-estimator-doc-link.fitted {\n",
       "  /* fitted */\n",
       "  border: var(--sklearn-color-fitted-level-1) 1pt solid;\n",
       "  color: var(--sklearn-color-fitted-level-1);\n",
       "}\n",
       "\n",
       "/* On hover */\n",
       "div.sk-estimator:hover .sk-estimator-doc-link:hover,\n",
       ".sk-estimator-doc-link:hover,\n",
       "div.sk-label-container:hover .sk-estimator-doc-link:hover,\n",
       ".sk-estimator-doc-link:hover {\n",
       "  /* unfitted */\n",
       "  background-color: var(--sklearn-color-unfitted-level-3);\n",
       "  color: var(--sklearn-color-background);\n",
       "  text-decoration: none;\n",
       "}\n",
       "\n",
       "div.sk-estimator.fitted:hover .sk-estimator-doc-link.fitted:hover,\n",
       ".sk-estimator-doc-link.fitted:hover,\n",
       "div.sk-label-container:hover .sk-estimator-doc-link.fitted:hover,\n",
       ".sk-estimator-doc-link.fitted:hover {\n",
       "  /* fitted */\n",
       "  background-color: var(--sklearn-color-fitted-level-3);\n",
       "  color: var(--sklearn-color-background);\n",
       "  text-decoration: none;\n",
       "}\n",
       "\n",
       "/* Span, style for the box shown on hovering the info icon */\n",
       ".sk-estimator-doc-link span {\n",
       "  display: none;\n",
       "  z-index: 9999;\n",
       "  position: relative;\n",
       "  font-weight: normal;\n",
       "  right: .2ex;\n",
       "  padding: .5ex;\n",
       "  margin: .5ex;\n",
       "  width: min-content;\n",
       "  min-width: 20ex;\n",
       "  max-width: 50ex;\n",
       "  color: var(--sklearn-color-text);\n",
       "  box-shadow: 2pt 2pt 4pt #999;\n",
       "  /* unfitted */\n",
       "  background: var(--sklearn-color-unfitted-level-0);\n",
       "  border: .5pt solid var(--sklearn-color-unfitted-level-3);\n",
       "}\n",
       "\n",
       ".sk-estimator-doc-link.fitted span {\n",
       "  /* fitted */\n",
       "  background: var(--sklearn-color-fitted-level-0);\n",
       "  border: var(--sklearn-color-fitted-level-3);\n",
       "}\n",
       "\n",
       ".sk-estimator-doc-link:hover span {\n",
       "  display: block;\n",
       "}\n",
       "\n",
       "/* \"?\"-specific style due to the `<a>` HTML tag */\n",
       "\n",
       "#sk-container-id-2 a.estimator_doc_link {\n",
       "  float: right;\n",
       "  font-size: 1rem;\n",
       "  line-height: 1em;\n",
       "  font-family: monospace;\n",
       "  background-color: var(--sklearn-color-background);\n",
       "  border-radius: 1rem;\n",
       "  height: 1rem;\n",
       "  width: 1rem;\n",
       "  text-decoration: none;\n",
       "  /* unfitted */\n",
       "  color: var(--sklearn-color-unfitted-level-1);\n",
       "  border: var(--sklearn-color-unfitted-level-1) 1pt solid;\n",
       "}\n",
       "\n",
       "#sk-container-id-2 a.estimator_doc_link.fitted {\n",
       "  /* fitted */\n",
       "  border: var(--sklearn-color-fitted-level-1) 1pt solid;\n",
       "  color: var(--sklearn-color-fitted-level-1);\n",
       "}\n",
       "\n",
       "/* On hover */\n",
       "#sk-container-id-2 a.estimator_doc_link:hover {\n",
       "  /* unfitted */\n",
       "  background-color: var(--sklearn-color-unfitted-level-3);\n",
       "  color: var(--sklearn-color-background);\n",
       "  text-decoration: none;\n",
       "}\n",
       "\n",
       "#sk-container-id-2 a.estimator_doc_link.fitted:hover {\n",
       "  /* fitted */\n",
       "  background-color: var(--sklearn-color-fitted-level-3);\n",
       "}\n",
       "</style><div id=\"sk-container-id-2\" class=\"sk-top-container\"><div class=\"sk-text-repr-fallback\"><pre>DecisionTreeClassifier(random_state=3)</pre><b>In a Jupyter environment, please rerun this cell to show the HTML representation or trust the notebook. <br />On GitHub, the HTML representation is unable to render, please try loading this page with nbviewer.org.</b></div><div class=\"sk-container\" hidden><div class=\"sk-item\"><div class=\"sk-estimator fitted sk-toggleable\"><input class=\"sk-toggleable__control sk-hidden--visually\" id=\"sk-estimator-id-2\" type=\"checkbox\" checked><label for=\"sk-estimator-id-2\" class=\"sk-toggleable__label fitted sk-toggleable__label-arrow\"><div><div>DecisionTreeClassifier</div></div><div><a class=\"sk-estimator-doc-link fitted\" rel=\"noreferrer\" target=\"_blank\" href=\"https://scikit-learn.org/1.6/modules/generated/sklearn.tree.DecisionTreeClassifier.html\">?<span>Documentation for DecisionTreeClassifier</span></a><span class=\"sk-estimator-doc-link fitted\">i<span>Fitted</span></span></div></label><div class=\"sk-toggleable__content fitted\"><pre>DecisionTreeClassifier(random_state=3)</pre></div> </div></div></div></div>"
      ],
      "text/plain": [
       "DecisionTreeClassifier(random_state=3)"
      ]
     },
     "execution_count": 57,
     "metadata": {},
     "output_type": "execute_result"
    }
   ],
   "source": [
    "# Entrenar modelo base en Train\n",
    "model = DecisionTreeClassifier(random_state=3)\n",
    "model.fit(X_train, y_train)"
   ]
  },
  {
   "cell_type": "code",
   "execution_count": 58,
   "metadata": {},
   "outputs": [],
   "source": [
    "# Predecir en el conjunto de Test (Outer Evaluation)\n",
    "y_pred = model.predict(X_test)"
   ]
  },
  {
   "cell_type": "code",
   "execution_count": 59,
   "metadata": {},
   "outputs": [],
   "source": [
    "# Cálculo de métricas\n",
    "balanced_acc = balanced_accuracy_score(y_test, y_pred)\n",
    "accuracy = accuracy_score(y_test, y_pred)"
   ]
  },
  {
   "cell_type": "code",
   "execution_count": 60,
   "metadata": {},
   "outputs": [],
   "source": [
    "# Matriz de confusión para obtener TPR y TNR\n",
    "conf_matrix = confusion_matrix(y_test, y_pred)\n",
    "tn, fp, fn, tp = conf_matrix.ravel()"
   ]
  },
  {
   "cell_type": "code",
   "execution_count": 61,
   "metadata": {},
   "outputs": [
    {
     "name": "stdout",
     "output_type": "stream",
     "text": [
      "Balanced Accuracy: 0.8580\n",
      "Accuracy: 0.9204\n",
      "True Positive Rate (TPR): 0.7658\n",
      "True Negative Rate (TNR): 0.9501\n",
      "Matriz de Confusión:\n",
      "[[781  41]\n",
      " [ 37 121]]\n"
     ]
    }
   ],
   "source": [
    "# True Positive Rate (TPR) y True Negative Rate (TNR)\n",
    "TPR = tp / (tp + fn)\n",
    "TNR = tn / (tn + fp)\n",
    "\n",
    "# 📌 Mostrar resultados\n",
    "print(f\"Balanced Accuracy: {balanced_acc:.4f}\")\n",
    "print(f\"Accuracy: {accuracy:.4f}\")\n",
    "print(f\"True Positive Rate (TPR): {TPR:.4f}\")\n",
    "print(f\"True Negative Rate (TNR): {TNR:.4f}\")\n",
    "print(f\"Matriz de Confusión:\\n{conf_matrix}\")"
   ]
  },
  {
   "cell_type": "markdown",
   "metadata": {},
   "source": [
    "5. HPO:  REVISAR"
   ]
  },
  {
   "cell_type": "code",
   "execution_count": 62,
   "metadata": {},
   "outputs": [],
   "source": [
    "# # Definir el espacio de hiperparámetros a optimizar\n",
    "# param_grid = {\n",
    "#     'max_depth': [3, 5, 7, None],\n",
    "#     'min_samples_split': [2, 5, 10]\n",
    "# }\n",
    "\n",
    "# # Usar el mismo kfold definido para la evaluación inner\n",
    "# grid_search = GridSearchCV(\n",
    "#     estimator=DecisionTreeClassifier(random_state=3),\n",
    "#     param_grid=param_grid,\n",
    "#     scoring='balanced_accuracy',\n",
    "#     cv=kfold,  # Evaluación inner con validación cruzada estratificada (k=5)\n",
    "#     n_jobs=-1\n",
    "# )\n",
    "\n",
    "# # Ajustar en el conjunto de entrenamiento\n",
    "# grid_search.fit(X_train, y_train)\n",
    "\n",
    "# # Imprimir los mejores hiperparámetros y la métrica de inner evaluation\n",
    "# print(\"Mejores hiperparámetros:\", grid_search.best_params_)\n",
    "# print(\"Puntuación inner (Balanced Accuracy):\", grid_search.best_score_)"
   ]
  },
  {
   "cell_type": "markdown",
   "metadata": {},
   "source": [
    "--------------------------------------------------------------------------------------"
   ]
  },
  {
   "cell_type": "markdown",
   "metadata": {},
   "source": [
    "PUNTO 4: MÉTODOS BÁSICOS (KNN y Árboles de decisión)"
   ]
  },
  {
   "cell_type": "markdown",
   "metadata": {},
   "source": [
    "1. Escalar e imputar usando KNN como referencia"
   ]
  },
  {
   "cell_type": "code",
   "execution_count": 63,
   "metadata": {},
   "outputs": [],
   "source": [
    "scalers = {\n",
    "    \"StandardScaler\": StandardScaler(),\n",
    "    \"MinMaxScaler\": MinMaxScaler(),\n",
    "    \"RobustScaler\": RobustScaler()\n",
    "}\n",
    "\n",
    "imputers = {\n",
    "    \"Mean\": SimpleImputer(strategy=\"mean\"),\n",
    "    \"Median\": SimpleImputer(strategy=\"median\")\n",
    "}"
   ]
  },
  {
   "cell_type": "markdown",
   "metadata": {},
   "source": [
    "2. Evaluando con KNN (k=5) para decidir el mejor método"
   ]
  },
  {
   "cell_type": "code",
   "execution_count": 64,
   "metadata": {},
   "outputs": [
    {
     "name": "stdout",
     "output_type": "stream",
     "text": [
      "Scaler: StandardScaler, Imputer: Mean, Score: 0.5922\n",
      "Scaler: StandardScaler, Imputer: Median, Score: 0.5928\n",
      "Scaler: MinMaxScaler, Imputer: Mean, Score: 0.5922\n",
      "Scaler: MinMaxScaler, Imputer: Median, Score: 0.5903\n",
      "Scaler: RobustScaler, Imputer: Mean, Score: 0.6000\n",
      "Scaler: RobustScaler, Imputer: Median, Score: 0.5987\n"
     ]
    }
   ],
   "source": [
    "kfold = StratifiedKFold(n_splits=5, shuffle=True, random_state=3)\n",
    "best_score = 0\n",
    "best_scaler = None\n",
    "best_imputer = None\n",
    "\n",
    "for scaler_name, scaler in scalers.items():\n",
    "    for imputer_name, imputer in imputers.items():\n",
    "        X_train_imputed = imputer.fit_transform(X_train)\n",
    "        X_train_scaled = scaler.fit_transform(X_train_imputed)\n",
    "        \n",
    "        knn = KNeighborsClassifier(n_neighbors=5)\n",
    "        score = np.mean(cross_val_score(knn, X_train_scaled, y_train, cv=kfold, scoring=\"balanced_accuracy\"))\n",
    "        \n",
    "        print(f\"Scaler: {scaler_name}, Imputer: {imputer_name}, Score: {score:.4f}\")\n",
    "        \n",
    "        if score > best_score:\n",
    "            best_score = score\n",
    "            best_scaler = scaler\n",
    "            best_imputer = imputer"
   ]
  },
  {
   "cell_type": "markdown",
   "metadata": {},
   "source": [
    "3. Aplicar el mejor preprocesamiento encontrado"
   ]
  },
  {
   "cell_type": "code",
   "execution_count": 65,
   "metadata": {},
   "outputs": [
    {
     "name": "stdout",
     "output_type": "stream",
     "text": [
      "\n",
      "Mejor método de escalado: RobustScaler(), Mejor método de imputación: SimpleImputer()\n"
     ]
    }
   ],
   "source": [
    "X_train_imputed = best_imputer.fit_transform(X_train)\n",
    "X_test_imputed = best_imputer.transform(X_test)\n",
    "X_train_scaled = best_scaler.fit_transform(X_train_imputed)\n",
    "X_test_scaled = best_scaler.transform(X_test_imputed)\n",
    "\n",
    "print(f\"\\nMejor método de escalado: {best_scaler}, Mejor método de imputación: {best_imputer}\")"
   ]
  },
  {
   "cell_type": "markdown",
   "metadata": {},
   "source": [
    "4. Entrenando y evaluando modelos base (KNN y Árboles de Decisión)"
   ]
  },
  {
   "cell_type": "code",
   "execution_count": 66,
   "metadata": {},
   "outputs": [
    {
     "name": "stdout",
     "output_type": "stream",
     "text": [
      "\n",
      "Balanced Accuracy KNN: 0.6000\n",
      "Balanced Accuracy Árbol de Decisión: 0.8180\n"
     ]
    }
   ],
   "source": [
    "# definimos modelos base\n",
    "knn = KNeighborsClassifier(n_neighbors=5)\n",
    "tree = DecisionTreeClassifier(random_state=3)\n",
    "\n",
    "# evaluamos con Cross-Validation\n",
    "knn_score = np.mean(cross_val_score(knn, X_train_scaled, y_train, cv=kfold, scoring=\"balanced_accuracy\"))\n",
    "tree_score = np.mean(cross_val_score(tree, X_train_scaled, y_train, cv=kfold, scoring=\"balanced_accuracy\"))\n",
    "\n",
    "print(f\"\\nBalanced Accuracy KNN: {knn_score:.4f}\")\n",
    "print(f\"Balanced Accuracy Árbol de Decisión: {tree_score:.4f}\")"
   ]
  },
  {
   "cell_type": "markdown",
   "metadata": {},
   "source": [
    "5. Optimización de hiperparámetros (HPO) con GridSearchCV"
   ]
  },
  {
   "cell_type": "code",
   "execution_count": 67,
   "metadata": {},
   "outputs": [
    {
     "name": "stdout",
     "output_type": "stream",
     "text": [
      "\n",
      "Mejor KNN: {'n_neighbors': 3}, Balanced Accuracy: 0.6589\n",
      "Mejor Árbol: {'max_depth': None, 'min_samples_split': 2}, Balanced Accuracy: 0.8180\n"
     ]
    }
   ],
   "source": [
    "# definimos grids de hiperparámetros\n",
    "knn_params = {\"n_neighbors\": [3, 5, 7, 9, 11]}\n",
    "tree_params = {\"max_depth\": [3, 5, 10, None], \"min_samples_split\": [2, 5, 10]}\n",
    "\n",
    "# optimizamos con GridSearchCV\n",
    "knn_grid = GridSearchCV(KNeighborsClassifier(), knn_params, cv=kfold, scoring=\"balanced_accuracy\", n_jobs=-1)\n",
    "tree_grid = GridSearchCV(DecisionTreeClassifier(random_state=3), tree_params, cv=kfold, scoring=\"balanced_accuracy\", n_jobs=-1)\n",
    "\n",
    "# entrenamos GridSearchCV\n",
    "knn_grid.fit(X_train_scaled, y_train)\n",
    "tree_grid.fit(X_train_scaled, y_train)\n",
    "\n",
    "# obtenemos mejores parámetros y scores\n",
    "best_knn = knn_grid.best_estimator_\n",
    "best_tree = tree_grid.best_estimator_\n",
    "\n",
    "print(f\"\\nMejor KNN: {knn_grid.best_params_}, Balanced Accuracy: {knn_grid.best_score_:.4f}\")\n",
    "print(f\"Mejor Árbol: {tree_grid.best_params_}, Balanced Accuracy: {tree_grid.best_score_:.4f}\")"
   ]
  },
  {
   "cell_type": "markdown",
   "metadata": {},
   "source": [
    "6. Evaluación final en el conjunto de Test (Outer)"
   ]
  },
  {
   "cell_type": "code",
   "execution_count": 68,
   "metadata": {},
   "outputs": [
    {
     "name": "stdout",
     "output_type": "stream",
     "text": [
      "\n",
      "KNN - Evaluación en Test Set\n",
      "Balanced Accuracy: 0.6814\n",
      "Accuracy: 0.8643\n",
      "True Positive Rate (TPR): 0.4114\n",
      "True Negative Rate (TNR): 0.9513\n",
      "Matriz de Confusión:\n",
      "[[782  40]\n",
      " [ 93  65]]\n",
      "\n",
      "Árbol de Decisión - Evaluación en Test Set\n",
      "Balanced Accuracy: 0.8559\n",
      "Accuracy: 0.9255\n",
      "True Positive Rate (TPR): 0.7532\n",
      "True Negative Rate (TNR): 0.9586\n",
      "Matriz de Confusión:\n",
      "[[788  34]\n",
      " [ 39 119]]\n"
     ]
    }
   ],
   "source": [
    "# predecimos y evaluamos\n",
    "y_pred_knn = best_knn.predict(X_test_scaled)\n",
    "y_pred_tree = best_tree.predict(X_test_scaled)\n",
    "\n",
    "# Métricas para cada modelo\n",
    "def evaluar_modelo(y_test, y_pred, model_name):\n",
    "    balanced_acc = balanced_accuracy_score(y_test, y_pred)\n",
    "    accuracy = accuracy_score(y_test, y_pred)\n",
    "    conf_matrix = confusion_matrix(y_test, y_pred)\n",
    "    tn, fp, fn, tp = conf_matrix.ravel()\n",
    "    TPR = tp / (tp + fn)\n",
    "    TNR = tn / (tn + fp)\n",
    "    \n",
    "    print(f\"\\n{model_name} - Evaluación en Test Set\")\n",
    "    print(f\"Balanced Accuracy: {balanced_acc:.4f}\")\n",
    "    print(f\"Accuracy: {accuracy:.4f}\")\n",
    "    print(f\"True Positive Rate (TPR): {TPR:.4f}\")\n",
    "    print(f\"True Negative Rate (TNR): {TNR:.4f}\")\n",
    "    print(f\"Matriz de Confusión:\\n{conf_matrix}\")\n",
    "\n",
    "evaluar_modelo(y_test, y_pred_knn, \"KNN\")\n",
    "evaluar_modelo(y_test, y_pred_tree, \"Árbol de Decisión\")"
   ]
  },
  {
   "cell_type": "markdown",
   "metadata": {},
   "source": [
    "-------------------------------------------"
   ]
  },
  {
   "cell_type": "markdown",
   "metadata": {},
   "source": [
    "PUNTO 5: MÉTODOS AVANZADOS (MÉTODOS LINEALES Y SVMs)"
   ]
  },
  {
   "cell_type": "markdown",
   "metadata": {},
   "source": [
    "1. Preparando datos de la variable objetivo (Attrition) para ser procesada"
   ]
  },
  {
   "cell_type": "code",
   "execution_count": 69,
   "metadata": {},
   "outputs": [],
   "source": [
    "X_procesado = df_available.drop(\"Attrition\", axis=1)\n",
    "Y_procesado = df_available[\"Attrition\"].map({\"Yes\": 1, \"No\": 0})"
   ]
  },
  {
   "cell_type": "markdown",
   "metadata": {},
   "source": [
    "2. Identificación de columnas categóricas y numéricas"
   ]
  },
  {
   "cell_type": "code",
   "execution_count": 70,
   "metadata": {},
   "outputs": [],
   "source": [
    "num_cols = X.select_dtypes(include=[\"float64\", \"int64\"]).columns.tolist()\n",
    "cat_cols = X.select_dtypes(include=[\"object\"]).columns.tolist()"
   ]
  },
  {
   "cell_type": "markdown",
   "metadata": {},
   "source": [
    "3. Eliminando columnas irrelevantes (ID y constantes)"
   ]
  },
  {
   "cell_type": "code",
   "execution_count": 71,
   "metadata": {},
   "outputs": [],
   "source": [
    "irrelevant = [\"EmployeeID\", \"EmployeeCount\", \"Over18\", \"StandardHours\"]\n",
    "num_cols = [col for col in num_cols if col not in irrelevant]\n",
    "cat_cols = [col for col in cat_cols if col not in irrelevant]\n",
    "X_procesado = X_procesado.drop(columns=irrelevant)"
   ]
  },
  {
   "cell_type": "markdown",
   "metadata": {},
   "source": [
    "4. Preprocesando todos los datos"
   ]
  },
  {
   "cell_type": "code",
   "execution_count": 72,
   "metadata": {},
   "outputs": [],
   "source": [
    "num_transformer = Pipeline([\n",
    "    (\"imputer\", SimpleImputer(strategy=\"median\")),\n",
    "    (\"scaler\", StandardScaler())\n",
    "])\n",
    "cat_transformer = Pipeline([\n",
    "    (\"imputer\", SimpleImputer(strategy=\"most_frequent\")),\n",
    "    (\"encoder\", OneHotEncoder(handle_unknown=\"ignore\"))\n",
    "])\n",
    "preprocessor = ColumnTransformer([\n",
    "    (\"num\", num_transformer, num_cols),\n",
    "    (\"cat\", cat_transformer, cat_cols)\n",
    "])"
   ]
  },
  {
   "cell_type": "markdown",
   "metadata": {},
   "source": [
    "5. Modelos"
   ]
  },
  {
   "cell_type": "code",
   "execution_count": 73,
   "metadata": {},
   "outputs": [],
   "source": [
    "models = {\n",
    "    \"LogReg (default)\": LogisticRegression(max_iter=1000, random_state=3),\n",
    "    \"LogReg (L1)\": LogisticRegression(penalty=\"l1\", solver=\"liblinear\", max_iter=1000, random_state=3),\n",
    "    \"SVM (linear)\": SVC(kernel=\"linear\", random_state=3),\n",
    "    \"SVM (rbf)\": SVC(kernel=\"rbf\", random_state=3)\n",
    "}\n",
    "\n",
    "results = {}\n",
    "\n",
    "for name, model in models.items():\n",
    "    pipe = Pipeline([\n",
    "        (\"pre\", preprocessor),\n",
    "        (\"clf\", model)\n",
    "    ])\n",
    "    start = time.time()\n",
    "    pipe.fit(X_train, y_train)\n",
    "    end = time.time()\n",
    "    y_pred = pipe.predict(X_test)\n",
    "    tn, fp, fn, tp = confusion_matrix(y_test, y_pred).ravel()\n",
    "    results[name] = {\n",
    "        \"Balanced Acc\": balanced_accuracy_score(y_test, y_pred),\n",
    "        \"Accuracy\": accuracy_score(y_test, y_pred),\n",
    "        \"TPR\": tp / (tp + fn),\n",
    "        \"TNR\": tn / (tn + fp),\n",
    "        \"Time (s)\": end - start\n",
    "    }"
   ]
  },
  {
   "cell_type": "markdown",
   "metadata": {},
   "source": [
    "6. Resultados"
   ]
  },
  {
   "cell_type": "code",
   "execution_count": 74,
   "metadata": {},
   "outputs": [
    {
     "name": "stdout",
     "output_type": "stream",
     "text": [
      "\n",
      "Resultados de los modelos avanzados:\n",
      "                  Balanced Acc  Accuracy       TPR       TNR  Time (s)\n",
      "LogReg (default)      0.566579  0.856122  0.139241  0.993917  0.013788\n",
      "LogReg (L1)           0.561466  0.856122  0.126582  0.996350  0.012481\n",
      "SVM (linear)          0.500000  0.838776  0.000000  1.000000  0.051614\n",
      "SVM (rbf)             0.629139  0.879592  0.259494  0.998783  0.049104\n"
     ]
    }
   ],
   "source": [
    "resultado_avanzado = pd.DataFrame(results).T\n",
    "print(\"\\nResultados de los modelos avanzados:\")\n",
    "print(resultado_avanzado)"
   ]
  },
  {
   "cell_type": "markdown",
   "metadata": {},
   "source": [
    "7. Interpretación de resultados"
   ]
  }
 ],
 "metadata": {
  "kernelspec": {
   "display_name": "Python 3",
   "language": "python",
   "name": "python3"
  },
  "language_info": {
   "codemirror_mode": {
    "name": "ipython",
    "version": 3
   },
   "file_extension": ".py",
   "mimetype": "text/x-python",
   "name": "python",
   "nbconvert_exporter": "python",
   "pygments_lexer": "ipython3",
   "version": "3.12.7"
  }
 },
 "nbformat": 4,
 "nbformat_minor": 4
}
