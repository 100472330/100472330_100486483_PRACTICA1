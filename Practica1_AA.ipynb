{
 "cells": [
  {
   "cell_type": "markdown",
   "metadata": {},
   "source": [
    "Importar librerías"
   ]
  },
  {
   "cell_type": "code",
   "execution_count": 1,
   "metadata": {},
   "outputs": [],
   "source": [
    "import pandas as pd\n",
    "import numpy as np\n",
    "import matplotlib.pyplot as plt\n",
    "from sklearn.model_selection import train_test_split, cross_val_score, StratifiedKFold, GridSearchCV, RepeatedStratifiedKFold\n",
    "from sklearn.preprocessing import StandardScaler, LabelEncoder, RobustScaler, MinMaxScaler, OneHotEncoder\n",
    "from sklearn.compose import ColumnTransformer\n",
    "from sklearn.pipeline import Pipeline\n",
    "from sklearn.linear_model import LogisticRegression\n",
    "from sklearn.svm import SVC\n",
    "from sklearn.metrics import balanced_accuracy_score, accuracy_score, confusion_matrix\n",
    "from sklearn.tree import DecisionTreeClassifier\n",
    "from sklearn.impute import SimpleImputer\n",
    "from sklearn.neighbors import KNeighborsClassifier\n",
    "from sklearn.inspection import permutation_importance\n",
    "import pickle\n",
    "import time\n",
    "import seaborn as sns"
   ]
  },
  {
   "cell_type": "markdown",
   "metadata": {},
   "source": [
    "PUNTO 2: EDA"
   ]
  },
  {
   "cell_type": "markdown",
   "metadata": {},
   "source": [
    "1. Leer CSV"
   ]
  },
  {
   "cell_type": "code",
   "execution_count": 2,
   "metadata": {},
   "outputs": [],
   "source": [
    "df_available = pd.read_csv(\"attrition_availabledata_03.csv\")"
   ]
  },
  {
   "cell_type": "markdown",
   "metadata": {},
   "source": [
    "2. Calculando el número de variables e instancias"
   ]
  },
  {
   "cell_type": "code",
   "execution_count": 3,
   "metadata": {},
   "outputs": [
    {
     "name": "stdout",
     "output_type": "stream",
     "text": [
      "\n",
      "🔹 Número de instancias y variables:\n",
      "Filas: 2940, Columnas: 31\n"
     ]
    }
   ],
   "source": [
    "print(\"\\n🔹 Número de instancias y variables:\")\n",
    "print(f\"Filas: {df_available.shape[0]}, Columnas: {df_available.shape[1]}\")"
   ]
  },
  {
   "cell_type": "markdown",
   "metadata": {},
   "source": [
    "3. Identificando todos los tipos de variables (Categóricas, numéricas y ordinales)"
   ]
  },
  {
   "cell_type": "code",
   "execution_count": 4,
   "metadata": {},
   "outputs": [
    {
     "name": "stdout",
     "output_type": "stream",
     "text": [
      "\n",
      "🔹 Variables categóricas: ['BusinessTravel', 'Department', 'EducationField', 'Gender', 'JobRole', 'MaritalStatus', 'Over18', 'Attrition']\n",
      "\n",
      "🔹 Nº variables categóricas:  8\n",
      "🔹 Variables numéricas: ['hrs', 'absences', 'JobInvolvement', 'PerformanceRating', 'EnvironmentSatisfaction', 'JobSatisfaction', 'WorkLifeBalance', 'Age', 'DistanceFromHome', 'Education', 'EmployeeCount', 'EmployeeID', 'JobLevel', 'MonthlyIncome', 'NumCompaniesWorked', 'PercentSalaryHike', 'StandardHours', 'StockOptionLevel', 'TotalWorkingYears', 'TrainingTimesLastYear', 'YearsAtCompany', 'YearsSinceLastPromotion', 'YearsWithCurrManager']\n",
      "\n",
      "🔹 Nº variables numéricas:  23\n"
     ]
    }
   ],
   "source": [
    "col_categoricas = df_available.select_dtypes(include=['object']).columns.tolist()\n",
    "col_numericas = df_available.select_dtypes(include=['int64', 'float64']).columns.tolist()\n",
    "\n",
    "print(\"\\n🔹 Variables categóricas:\", col_categoricas)\n",
    "print(\"\\n🔹 Nº variables categóricas: \" , len(col_categoricas))\n",
    "print(\"🔹 Variables numéricas:\", col_numericas)\n",
    "print(\"\\n🔹 Nº variables numéricas: \" , len(col_numericas))"
   ]
  },
  {
   "cell_type": "markdown",
   "metadata": {},
   "source": [
    "4. Clasificación de todas las variables segun su cardinalidad\n",
    "\n",
    "    Consideramos alta cardinalidas a variables con mas de 5 posibles valores"
   ]
  },
  {
   "cell_type": "code",
   "execution_count": 5,
   "metadata": {},
   "outputs": [
    {
     "name": "stdout",
     "output_type": "stream",
     "text": [
      "\n",
      "🔹 Variables categóricas con alta cardinalidad: ['EducationField', 'JobRole']\n"
     ]
    }
   ],
   "source": [
    "col_cardinalidad_alta = [col for col in col_categoricas if df_available[col].nunique() > 5]\n",
    "print(\"\\n🔹 Variables categóricas con alta cardinalidad:\", col_cardinalidad_alta)"
   ]
  },
  {
   "cell_type": "markdown",
   "metadata": {},
   "source": [
    "5. Identificación de las variables que tienen valor nulo"
   ]
  },
  {
   "cell_type": "code",
   "execution_count": 6,
   "metadata": {},
   "outputs": [
    {
     "name": "stdout",
     "output_type": "stream",
     "text": [
      "\n",
      "🔹 Valores nulos por columna:\n",
      "EnvironmentSatisfaction    15\n",
      "JobSatisfaction            12\n",
      "WorkLifeBalance            21\n",
      "NumCompaniesWorked         13\n",
      "TotalWorkingYears           6\n",
      "dtype: int64\n"
     ]
    }
   ],
   "source": [
    "valores_nulos = df_available.isnull().sum()\n",
    "valores_nulos = valores_nulos[valores_nulos > 0]\n",
    "print(\"\\n🔹 Valores nulos por columna:\")\n",
    "print(valores_nulos)"
   ]
  },
  {
   "cell_type": "markdown",
   "metadata": {},
   "source": [
    "6. Detección de las columnas constantes de un solo valor"
   ]
  },
  {
   "cell_type": "code",
   "execution_count": 7,
   "metadata": {},
   "outputs": [
    {
     "name": "stdout",
     "output_type": "stream",
     "text": [
      "\n",
      "🔹 Columnas constantes (sin variabilidad): ['EmployeeCount', 'Over18', 'StandardHours']\n"
     ]
    }
   ],
   "source": [
    "col_constantes = [col for col in df_available.columns if df_available[col].nunique() == 1]\n",
    "print(\"\\n🔹 Columnas constantes (sin variabilidad):\", col_constantes)"
   ]
  },
  {
   "cell_type": "markdown",
   "metadata": {},
   "source": [
    "7. Detección de columnas binarias"
   ]
  },
  {
   "cell_type": "code",
   "execution_count": 8,
   "metadata": {},
   "outputs": [
    {
     "name": "stdout",
     "output_type": "stream",
     "text": [
      "\n",
      "🔹 Columnas binarias: ['PerformanceRating', 'Gender', 'Attrition']\n"
     ]
    }
   ],
   "source": [
    "col_binarias = [col for col in df_available.columns if df_available[col].nunique() == 2]\n",
    "print(\"\\n🔹 Columnas binarias:\", col_binarias)"
   ]
  },
  {
   "cell_type": "markdown",
   "metadata": {},
   "source": [
    "8. Identificando columnas de identificación"
   ]
  },
  {
   "cell_type": "code",
   "execution_count": 9,
   "metadata": {},
   "outputs": [
    {
     "name": "stdout",
     "output_type": "stream",
     "text": [
      "\n",
      "🔹 Posibles columnas de ID: ['EmployeeCount', 'EmployeeID']\n"
     ]
    }
   ],
   "source": [
    "id_cols = [col for col in df_available.columns if \"ID\" in col or \"id\" in col or \"EmployeeCount\" in col]\n",
    "print(\"\\n🔹 Posibles columnas de ID:\", id_cols)"
   ]
  },
  {
   "cell_type": "markdown",
   "metadata": {},
   "source": [
    "10. Análisis del desbalanceo de \"Attrition\""
   ]
  },
  {
   "cell_type": "markdown",
   "metadata": {},
   "source": [
    "10.1. Primero hacemos un análisis del tipo de problema con el que estamos tratando"
   ]
  },
  {
   "cell_type": "code",
   "execution_count": 10,
   "metadata": {},
   "outputs": [
    {
     "name": "stdout",
     "output_type": "stream",
     "text": [
      "\n",
      "🔹 Es un problema de CLASIFICACIÓN.\n"
     ]
    }
   ],
   "source": [
    "target_col = \"Attrition\"\n",
    "if df_available[target_col].dtype == 'object' or df_available[target_col].nunique() <= 10:\n",
    "    print(\"\\n🔹 Es un problema de CLASIFICACIÓN.\")\n",
    "else:\n",
    "    print(\"\\n🔹 Es un problema de REGRESIÓN.\")"
   ]
  },
  {
   "cell_type": "markdown",
   "metadata": {},
   "source": [
    "10.2. Si es un problema de clasificación hacemos un análisis del desbalanceo de la variable objetivo"
   ]
  },
  {
   "cell_type": "code",
   "execution_count": 11,
   "metadata": {},
   "outputs": [
    {
     "name": "stdout",
     "output_type": "stream",
     "text": [
      "\n",
      "🔹 Distribución de la variable objetivo (absences):\n",
      "Attrition\n",
      "No     83.877551\n",
      "Yes    16.122449\n",
      "Name: proportion, dtype: float64\n"
     ]
    }
   ],
   "source": [
    "attrition_distribution = df_available[target_col].value_counts(normalize=True) * 100\n",
    "print(\"\\n🔹 Distribución de la variable objetivo (absences):\")\n",
    "print(attrition_distribution)"
   ]
  },
  {
   "cell_type": "markdown",
   "metadata": {},
   "source": [
    "10.3. Generando la visualización del desbalanceo"
   ]
  },
  {
   "cell_type": "code",
   "execution_count": 12,
   "metadata": {},
   "outputs": [
    {
     "data": {
      "image/png": "[encoded data removed]",
      "text/plain": [
       "<Figure size 640x480 with 1 Axes>"
      ]
     },
     "metadata": {},
     "output_type": "display_data"
    }
   ],
   "source": [
    "df_available[\"Attrition\"].value_counts().plot(kind='bar', color=['green', 'red'], edgecolor=\"black\")\n",
    "plt.title(\"Distribución de la Variable Objetivo (Attrition)\")\n",
    "plt.ylabel(\"Cantidad de empleados\")\n",
    "plt.xlabel(\"absences (No = 0, Yes = 1)\")\n",
    "plt.xticks(rotation=0)\n",
    "plt.show()"
   ]
  },
  {
   "cell_type": "markdown",
   "metadata": {},
   "source": [
    "Conclusiones:\n",
    "\n",
    "Se puede ver que hay un gran desbalanceo de clases de hasta 5 veces menos instancias para el valor \"Yes\""
   ]
  },
  {
   "cell_type": "markdown",
   "metadata": {},
   "source": [
    "---------------------------------------------------------------------"
   ]
  },
  {
   "cell_type": "markdown",
   "metadata": {},
   "source": [
    "PUNTO 3: CROSS VALIDATION"
   ]
  },
  {
   "cell_type": "markdown",
   "metadata": {},
   "source": [
    "1. Eliminación de datos irrelevantes\n",
    "\n",
    "    Estas columnas son identificadores \"EmployeeID\" y valores constantes"
   ]
  },
  {
   "cell_type": "code",
   "execution_count": 13,
   "metadata": {},
   "outputs": [],
   "source": [
    "# Eliminar columnas irrelevantes\n",
    "drop_columns = [\"EmployeeID\", \"Over18\", \"StandardHours\", \"EmployeeCount\"]\n",
    "df = df_available.drop(columns=drop_columns, errors='ignore')"
   ]
  },
  {
   "cell_type": "markdown",
   "metadata": {},
   "source": [
    "2. Convertir todas las variables a tipo numérico y separar según características y variable objetivo (Attrition)"
   ]
  },
  {
   "cell_type": "code",
   "execution_count": 14,
   "metadata": {},
   "outputs": [],
   "source": [
    "# Convertir variables categóricas a numéricas usando Label Encoding\n",
    "categorical_columns = df.select_dtypes(include=['object']).columns\n",
    "label_encoders = {}\n",
    "\n",
    "for col in categorical_columns:\n",
    "    le = LabelEncoder()\n",
    "    df[col] = le.fit_transform(df[col])\n",
    "    label_encoders[col] = le  # Guardar para futuras conversiones si es necesario\n",
    "\n",
    "# Separar en características (X) y variable objetivo (y)\n",
    "X = df.drop(columns=[\"Attrition\"])\n",
    "y = df[\"Attrition\"]"
   ]
  },
  {
   "cell_type": "markdown",
   "metadata": {},
   "source": [
    "3. Preprocesamiento de datos: detección de outliers y escalado"
   ]
  },
  {
   "cell_type": "markdown",
   "metadata": {},
   "source": [
    "3.1. Seleccionando columnas numéricas"
   ]
  },
  {
   "cell_type": "code",
   "execution_count": 15,
   "metadata": {},
   "outputs": [],
   "source": [
    "df = X\n",
    "\n",
    "numerical_cols = df.select_dtypes(include=[np.number]).columns.tolist()"
   ]
  },
  {
   "cell_type": "markdown",
   "metadata": {},
   "source": [
    "3.2. Función para detectar outliers usando regla IQR"
   ]
  },
  {
   "cell_type": "code",
   "execution_count": 16,
   "metadata": {},
   "outputs": [],
   "source": [
    "def porcentaje_outliers(col):\n",
    "    Q1 = col.quantile(0.25)\n",
    "    Q3 = col.quantile(0.75)\n",
    "    IQR = Q3 - Q1\n",
    "    # Definir límites\n",
    "    lower_bound = Q1 - 1.5 * IQR\n",
    "    upper_bound = Q3 + 1.5 * IQR\n",
    "    outlier_count = ((col < lower_bound) | (col > upper_bound)).sum()\n",
    "    return outlier_count / len(col)"
   ]
  },
  {
   "cell_type": "markdown",
   "metadata": {},
   "source": [
    "3.3. Definiendo umbrales para la recomendación\n",
    "    \n",
    "- Si la asimentría es mayor a 1 o menor a -1 se considera alta asimetría\n",
    "- Si más del 5% de las instancias son outliers"
   ]
  },
  {
   "cell_type": "code",
   "execution_count": 17,
   "metadata": {},
   "outputs": [
    {
     "name": "stdout",
     "output_type": "stream",
     "text": [
      "Recomendación de transformación para cada columna numérica:\n",
      "----------------------------------------------------------------------\n",
      "\n",
      "Columna: hrs\n",
      "  Media: 7.326, Std: 1.334\n",
      "  Mín: 5.4168797411869445, Máx: 10.937\n",
      "  Asimetría (skew): 0.859\n",
      "  Porcentaje de outliers (IQR): 2.62%\n",
      "  -> Sugerencia: Distribución aproximadamente normal; se recomienda estandarización con StandardScaler.\n",
      "\n",
      "Columna: absences\n",
      "  Media: 12.702, Std: 5.518\n",
      "  Mín: 1.0, Máx: 24.000\n",
      "  Asimetría (skew): 0.015\n",
      "  Porcentaje de outliers (IQR): 0.00%\n",
      "  -> Sugerencia: Distribución aproximadamente normal; se recomienda estandarización con StandardScaler.\n",
      "\n",
      "Columna: JobInvolvement\n",
      "  Media: 2.740, Std: 0.718\n",
      "  Mín: 1.0, Máx: 4.000\n",
      "  Asimetría (skew): -0.516\n",
      "  Porcentaje de outliers (IQR): 0.00%\n",
      "  -> Sugerencia: Distribución aproximadamente normal; se recomienda estandarización con StandardScaler.\n",
      "\n",
      "Columna: PerformanceRating\n",
      "  Media: 3.161, Std: 0.367\n",
      "  Mín: 3.0, Máx: 4.000\n",
      "  Asimetría (skew): 1.847\n",
      "  Porcentaje de outliers (IQR): 16.09%\n",
      "  -> Sugerencia: La distribución es sesgada y/o presenta outliers; se recomienda normalización o escalado robusto.\n",
      "\n",
      "Columna: EnvironmentSatisfaction\n",
      "  Media: 2.726, Std: 1.093\n",
      "  Mín: 1.0, Máx: 4.000\n",
      "  Asimetría (skew): -0.328\n",
      "  Porcentaje de outliers (IQR): 0.00%\n",
      "  -> Sugerencia: Distribución aproximadamente normal; se recomienda estandarización con StandardScaler.\n",
      "\n",
      "Columna: JobSatisfaction\n",
      "  Media: 2.716, Std: 1.099\n",
      "  Mín: 1.0, Máx: 4.000\n",
      "  Asimetría (skew): -0.317\n",
      "  Porcentaje de outliers (IQR): 0.00%\n",
      "  -> Sugerencia: Distribución aproximadamente normal; se recomienda estandarización con StandardScaler.\n",
      "\n",
      "Columna: WorkLifeBalance\n",
      "  Media: 2.756, Std: 0.718\n",
      "  Mín: 1.0, Máx: 4.000\n",
      "  Asimetría (skew): -0.530\n",
      "  Porcentaje de outliers (IQR): 0.00%\n",
      "  -> Sugerencia: Distribución aproximadamente normal; se recomienda estandarización con StandardScaler.\n",
      "\n",
      "Columna: Age\n",
      "  Media: 36.783, Std: 9.158\n",
      "  Mín: 18.0, Máx: 60.000\n",
      "  Asimetría (skew): 0.399\n",
      "  Porcentaje de outliers (IQR): 0.00%\n",
      "  -> Sugerencia: Distribución aproximadamente normal; se recomienda estandarización con StandardScaler.\n",
      "\n",
      "Columna: BusinessTravel\n",
      "  Media: 1.599, Std: 0.673\n",
      "  Mín: 0.0, Máx: 2.000\n",
      "  Asimetría (skew): -1.409\n",
      "  Porcentaje de outliers (IQR): 0.00%\n",
      "  -> Sugerencia: La distribución es sesgada y/o presenta outliers; se recomienda normalización o escalado robusto.\n",
      "\n",
      "Columna: Department\n",
      "  Media: 1.265, Std: 0.529\n",
      "  Mín: 0.0, Máx: 2.000\n",
      "  Asimetría (skew): 0.161\n",
      "  Porcentaje de outliers (IQR): 0.00%\n",
      "  -> Sugerencia: Distribución aproximadamente normal; se recomienda estandarización con StandardScaler.\n",
      "\n",
      "Columna: DistanceFromHome\n",
      "  Media: 9.288, Std: 8.158\n",
      "  Mín: 1.0, Máx: 29.000\n",
      "  Asimetría (skew): 0.944\n",
      "  Porcentaje de outliers (IQR): 0.00%\n",
      "  -> Sugerencia: Distribución aproximadamente normal; se recomienda estandarización con StandardScaler.\n",
      "\n",
      "Columna: Education\n",
      "  Media: 2.903, Std: 1.030\n",
      "  Mín: 1.0, Máx: 5.000\n",
      "  Asimetría (skew): -0.280\n",
      "  Porcentaje de outliers (IQR): 0.00%\n",
      "  -> Sugerencia: Distribución aproximadamente normal; se recomienda estandarización con StandardScaler.\n",
      "\n",
      "Columna: EducationField\n",
      "  Media: 2.227, Std: 1.322\n",
      "  Mín: 0.0, Máx: 5.000\n",
      "  Asimetría (skew): 0.560\n",
      "  Porcentaje de outliers (IQR): 0.00%\n",
      "  -> Sugerencia: Distribución aproximadamente normal; se recomienda estandarización con StandardScaler.\n",
      "\n",
      "Columna: Gender\n",
      "  Media: 0.598, Std: 0.490\n",
      "  Mín: 0.0, Máx: 1.000\n",
      "  Asimetría (skew): -0.398\n",
      "  Porcentaje de outliers (IQR): 0.00%\n",
      "  -> Sugerencia: Distribución aproximadamente normal; se recomienda estandarización con StandardScaler.\n",
      "\n",
      "Columna: JobLevel\n",
      "  Media: 2.050, Std: 1.092\n",
      "  Mín: 1.0, Máx: 5.000\n",
      "  Asimetría (skew): 1.033\n",
      "  Porcentaje de outliers (IQR): 0.00%\n",
      "  -> Sugerencia: La distribución es sesgada y/o presenta outliers; se recomienda normalización o escalado robusto.\n",
      "\n",
      "Columna: JobRole\n",
      "  Media: 4.468, Std: 2.468\n",
      "  Mín: 0.0, Máx: 8.000\n",
      "  Asimetría (skew): -0.358\n",
      "  Porcentaje de outliers (IQR): 0.00%\n",
      "  -> Sugerencia: Distribución aproximadamente normal; se recomienda estandarización con StandardScaler.\n",
      "\n",
      "Columna: MaritalStatus\n",
      "  Media: 1.105, Std: 0.732\n",
      "  Mín: 0.0, Máx: 2.000\n",
      "  Asimetría (skew): -0.165\n",
      "  Porcentaje de outliers (IQR): 0.00%\n",
      "  -> Sugerencia: Distribución aproximadamente normal; se recomienda estandarización con StandardScaler.\n",
      "\n",
      "Columna: MonthlyIncome\n",
      "  Media: 65115.350, Std: 47196.796\n",
      "  Mín: 10090.0, Máx: 199990.000\n",
      "  Asimetría (skew): 1.357\n",
      "  Porcentaje de outliers (IQR): 7.55%\n",
      "  -> Sugerencia: La distribución es sesgada y/o presenta outliers; se recomienda normalización o escalado robusto.\n",
      "\n",
      "Columna: NumCompaniesWorked\n",
      "  Media: 2.664, Std: 2.495\n",
      "  Mín: 0.0, Máx: 9.000\n",
      "  Asimetría (skew): 1.046\n",
      "  Porcentaje de outliers (IQR): 3.33%\n",
      "  -> Sugerencia: La distribución es sesgada y/o presenta outliers; se recomienda normalización o escalado robusto.\n",
      "\n",
      "Columna: PercentSalaryHike\n",
      "  Media: 15.261, Std: 3.707\n",
      "  Mín: 11.0, Máx: 25.000\n",
      "  Asimetría (skew): 0.809\n",
      "  Porcentaje de outliers (IQR): 0.00%\n",
      "  -> Sugerencia: Distribución aproximadamente normal; se recomienda estandarización con StandardScaler.\n",
      "\n",
      "Columna: StockOptionLevel\n",
      "  Media: 0.790, Std: 0.843\n",
      "  Mín: 0.0, Máx: 3.000\n",
      "  Asimetría (skew): 0.961\n",
      "  Porcentaje de outliers (IQR): 5.48%\n",
      "  -> Sugerencia: La distribución es sesgada y/o presenta outliers; se recomienda normalización o escalado robusto.\n",
      "\n",
      "Columna: TotalWorkingYears\n",
      "  Media: 11.262, Std: 7.788\n",
      "  Mín: 0.0, Máx: 40.000\n",
      "  Asimetría (skew): 1.105\n",
      "  Porcentaje de outliers (IQR): 4.25%\n",
      "  -> Sugerencia: La distribución es sesgada y/o presenta outliers; se recomienda normalización o escalado robusto.\n",
      "\n",
      "Columna: TrainingTimesLastYear\n",
      "  Media: 2.813, Std: 1.287\n",
      "  Mín: 0.0, Máx: 6.000\n",
      "  Asimetría (skew): 0.541\n",
      "  Porcentaje de outliers (IQR): 16.16%\n",
      "  -> Sugerencia: La distribución es sesgada y/o presenta outliers; se recomienda normalización o escalado robusto.\n",
      "\n",
      "Columna: YearsAtCompany\n",
      "  Media: 6.988, Std: 5.995\n",
      "  Mín: 0.0, Máx: 40.000\n",
      "  Asimetría (skew): 1.759\n",
      "  Porcentaje de outliers (IQR): 6.77%\n",
      "  -> Sugerencia: La distribución es sesgada y/o presenta outliers; se recomienda normalización o escalado robusto.\n",
      "\n",
      "Columna: YearsSinceLastPromotion\n",
      "  Media: 2.193, Std: 3.220\n",
      "  Mín: 0.0, Máx: 15.000\n",
      "  Asimetría (skew): 1.957\n",
      "  Porcentaje de outliers (IQR): 7.35%\n",
      "  -> Sugerencia: La distribución es sesgada y/o presenta outliers; se recomienda normalización o escalado robusto.\n",
      "\n",
      "Columna: YearsWithCurrManager\n",
      "  Media: 4.128, Std: 3.541\n",
      "  Mín: 0.0, Máx: 17.000\n",
      "  Asimetría (skew): 0.795\n",
      "  Porcentaje de outliers (IQR): 0.85%\n",
      "  -> Sugerencia: Distribución aproximadamente normal; se recomienda estandarización con StandardScaler.\n"
     ]
    }
   ],
   "source": [
    "umbral_skew = 1.0\n",
    "umbral_out = 0.05\n",
    "\n",
    "print(\"Recomendación de transformación para cada columna numérica:\")\n",
    "print(\"-\" * 70)\n",
    "\n",
    "robust_columns = []\n",
    "standard_columns = []\n",
    "\n",
    "for col in numerical_cols:\n",
    "    serie = df[col]\n",
    "    skew = serie.skew()\n",
    "    outlier_pct = porcentaje_outliers(serie)\n",
    "    desc = serie.describe()\n",
    "    \n",
    "    print(f\"\\nColumna: {col}\")\n",
    "    print(f\"  Media: {desc['mean']:.3f}, Std: {desc['std']:.3f}\")\n",
    "    print(f\"  Mín: {desc['min']}, Máx: {desc['max']:.3f}\")\n",
    "    print(f\"  Asimetría (skew): {skew:.3f}\")\n",
    "    print(f\"  Porcentaje de outliers (IQR): {outlier_pct*100:.2f}%\")\n",
    "    \n",
    "    # Lógica de recomendación\n",
    "    if abs(skew) > umbral_skew or outlier_pct > umbral_out:\n",
    "        robust_columns.append(col)\n",
    "        print(\"  -> Sugerencia: La distribución es sesgada y/o presenta outliers; se recomienda normalización o escalado robusto.\")\n",
    "    else:\n",
    "        standard_columns.append(col)\n",
    "        print(\"  -> Sugerencia: Distribución aproximadamente normal; se recomienda estandarización con StandardScaler.\")"
   ]
  },
  {
   "cell_type": "markdown",
   "metadata": {},
   "source": [
    "3.4. Instanciación y aplicación de escaladores"
   ]
  },
  {
   "cell_type": "code",
   "execution_count": 18,
   "metadata": {},
   "outputs": [],
   "source": [
    "robust_scaler = RobustScaler()\n",
    "standard_scaler = StandardScaler()\n",
    "\n",
    "# Aplicar las transformaciones de forma separada\n",
    "X_transformed = X.copy()\n",
    "\n",
    "if robust_columns:\n",
    "    X_transformed[robust_columns] = robust_scaler.fit_transform(X[robust_columns])\n",
    "if standard_columns:\n",
    "    X_transformed[standard_columns] = standard_scaler.fit_transform(X[standard_columns])"
   ]
  },
  {
   "cell_type": "markdown",
   "metadata": {},
   "source": [
    "4. Division de datos y configuración de Cross-Validation\n",
    "\n",
    "    Se usa el parametro stratify para mantener la proporción de clases en Train y Test. Debido al desbalanceo de clases que se vio en el EDA."
   ]
  },
  {
   "cell_type": "code",
   "execution_count": 19,
   "metadata": {},
   "outputs": [
    {
     "name": "stdout",
     "output_type": "stream",
     "text": [
      "Datos preparados: Train (2/3), Test (1/3), y Cross-Validation lista.\n"
     ]
    }
   ],
   "source": [
    "# Dividir en Train (2/3) y Test (1/3)\n",
    "X_train, X_test, y_train, y_test = train_test_split(X_transformed, y, test_size=1/3, random_state=3, stratify=y)\n",
    "\n",
    "# Evaluación INNER: K-Fold Cross Validation (k=5)\n",
    "kfold = StratifiedKFold(n_splits=5, shuffle=True, random_state=3)\n",
    "\n",
    "print(\"Datos preparados: Train (2/3), Test (1/3), y Cross-Validation lista.\")\n"
   ]
  },
  {
   "cell_type": "markdown",
   "metadata": {},
   "source": [
    "5. Evaluación outer: Estimación de rendimiento con un modelo base"
   ]
  },
  {
   "cell_type": "code",
   "execution_count": 20,
   "metadata": {},
   "outputs": [
    {
     "data": {
      "text/html": [
       "<style>#sk-container-id-1 {\n",
       "  /* Definition of color scheme common for light and dark mode */\n",
       "  --sklearn-color-text: #000;\n",
       "  --sklearn-color-text-muted: #666;\n",
       "  --sklearn-color-line: gray;\n",
       "  /* Definition of color scheme for unfitted estimators */\n",
       "  --sklearn-color-unfitted-level-0: #fff5e6;\n",
       "  --sklearn-color-unfitted-level-1: #f6e4d2;\n",
       "  --sklearn-color-unfitted-level-2: #ffe0b3;\n",
       "  --sklearn-color-unfitted-level-3: chocolate;\n",
       "  /* Definition of color scheme for fitted estimators */\n",
       "  --sklearn-color-fitted-level-0: #f0f8ff;\n",
       "  --sklearn-color-fitted-level-1: #d4ebff;\n",
       "  --sklearn-color-fitted-level-2: #b3dbfd;\n",
       "  --sklearn-color-fitted-level-3: cornflowerblue;\n",
       "\n",
       "  /* Specific color for light theme */\n",
       "  --sklearn-color-text-on-default-background: var(--sg-text-color, var(--theme-code-foreground, var(--jp-content-font-color1, black)));\n",
       "  --sklearn-color-background: var(--sg-background-color, var(--theme-background, var(--jp-layout-color0, white)));\n",
       "  --sklearn-color-border-box: var(--sg-text-color, var(--theme-code-foreground, var(--jp-content-font-color1, black)));\n",
       "  --sklearn-color-icon: #696969;\n",
       "\n",
       "  @media (prefers-color-scheme: dark) {\n",
       "    /* Redefinition of color scheme for dark theme */\n",
       "    --sklearn-color-text-on-default-background: var(--sg-text-color, var(--theme-code-foreground, var(--jp-content-font-color1, white)));\n",
       "    --sklearn-color-background: var(--sg-background-color, var(--theme-background, var(--jp-layout-color0, #111)));\n",
       "    --sklearn-color-border-box: var(--sg-text-color, var(--theme-code-foreground, var(--jp-content-font-color1, white)));\n",
       "    --sklearn-color-icon: #878787;\n",
       "  }\n",
       "}\n",
       "\n",
       "#sk-container-id-1 {\n",
       "  color: var(--sklearn-color-text);\n",
       "}\n",
       "\n",
       "#sk-container-id-1 pre {\n",
       "  padding: 0;\n",
       "}\n",
       "\n",
       "#sk-container-id-1 input.sk-hidden--visually {\n",
       "  border: 0;\n",
       "  clip: rect(1px 1px 1px 1px);\n",
       "  clip: rect(1px, 1px, 1px, 1px);\n",
       "  height: 1px;\n",
       "  margin: -1px;\n",
       "  overflow: hidden;\n",
       "  padding: 0;\n",
       "  position: absolute;\n",
       "  width: 1px;\n",
       "}\n",
       "\n",
       "#sk-container-id-1 div.sk-dashed-wrapped {\n",
       "  border: 1px dashed var(--sklearn-color-line);\n",
       "  margin: 0 0.4em 0.5em 0.4em;\n",
       "  box-sizing: border-box;\n",
       "  padding-bottom: 0.4em;\n",
       "  background-color: var(--sklearn-color-background);\n",
       "}\n",
       "\n",
       "#sk-container-id-1 div.sk-container {\n",
       "  /* jupyter's `normalize.less` sets `[hidden] { display: none; }`\n",
       "     but bootstrap.min.css set `[hidden] { display: none !important; }`\n",
       "     so we also need the `!important` here to be able to override the\n",
       "     default hidden behavior on the sphinx rendered scikit-learn.org.\n",
       "     See: https://github.com/scikit-learn/scikit-learn/issues/21755 */\n",
       "  display: inline-block !important;\n",
       "  position: relative;\n",
       "}\n",
       "\n",
       "#sk-container-id-1 div.sk-text-repr-fallback {\n",
       "  display: none;\n",
       "}\n",
       "\n",
       "div.sk-parallel-item,\n",
       "div.sk-serial,\n",
       "div.sk-item {\n",
       "  /* draw centered vertical line to link estimators */\n",
       "  background-image: linear-gradient(var(--sklearn-color-text-on-default-background), var(--sklearn-color-text-on-default-background));\n",
       "  background-size: 2px 100%;\n",
       "  background-repeat: no-repeat;\n",
       "  background-position: center center;\n",
       "}\n",
       "\n",
       "/* Parallel-specific style estimator block */\n",
       "\n",
       "#sk-container-id-1 div.sk-parallel-item::after {\n",
       "  content: \"\";\n",
       "  width: 100%;\n",
       "  border-bottom: 2px solid var(--sklearn-color-text-on-default-background);\n",
       "  flex-grow: 1;\n",
       "}\n",
       "\n",
       "#sk-container-id-1 div.sk-parallel {\n",
       "  display: flex;\n",
       "  align-items: stretch;\n",
       "  justify-content: center;\n",
       "  background-color: var(--sklearn-color-background);\n",
       "  position: relative;\n",
       "}\n",
       "\n",
       "#sk-container-id-1 div.sk-parallel-item {\n",
       "  display: flex;\n",
       "  flex-direction: column;\n",
       "}\n",
       "\n",
       "#sk-container-id-1 div.sk-parallel-item:first-child::after {\n",
       "  align-self: flex-end;\n",
       "  width: 50%;\n",
       "}\n",
       "\n",
       "#sk-container-id-1 div.sk-parallel-item:last-child::after {\n",
       "  align-self: flex-start;\n",
       "  width: 50%;\n",
       "}\n",
       "\n",
       "#sk-container-id-1 div.sk-parallel-item:only-child::after {\n",
       "  width: 0;\n",
       "}\n",
       "\n",
       "/* Serial-specific style estimator block */\n",
       "\n",
       "#sk-container-id-1 div.sk-serial {\n",
       "  display: flex;\n",
       "  flex-direction: column;\n",
       "  align-items: center;\n",
       "  background-color: var(--sklearn-color-background);\n",
       "  padding-right: 1em;\n",
       "  padding-left: 1em;\n",
       "}\n",
       "\n",
       "\n",
       "/* Toggleable style: style used for estimator/Pipeline/ColumnTransformer box that is\n",
       "clickable and can be expanded/collapsed.\n",
       "- Pipeline and ColumnTransformer use this feature and define the default style\n",
       "- Estimators will overwrite some part of the style using the `sk-estimator` class\n",
       "*/\n",
       "\n",
       "/* Pipeline and ColumnTransformer style (default) */\n",
       "\n",
       "#sk-container-id-1 div.sk-toggleable {\n",
       "  /* Default theme specific background. It is overwritten whether we have a\n",
       "  specific estimator or a Pipeline/ColumnTransformer */\n",
       "  background-color: var(--sklearn-color-background);\n",
       "}\n",
       "\n",
       "/* Toggleable label */\n",
       "#sk-container-id-1 label.sk-toggleable__label {\n",
       "  cursor: pointer;\n",
       "  display: flex;\n",
       "  width: 100%;\n",
       "  margin-bottom: 0;\n",
       "  padding: 0.5em;\n",
       "  box-sizing: border-box;\n",
       "  text-align: center;\n",
       "  align-items: start;\n",
       "  justify-content: space-between;\n",
       "  gap: 0.5em;\n",
       "}\n",
       "\n",
       "#sk-container-id-1 label.sk-toggleable__label .caption {\n",
       "  font-size: 0.6rem;\n",
       "  font-weight: lighter;\n",
       "  color: var(--sklearn-color-text-muted);\n",
       "}\n",
       "\n",
       "#sk-container-id-1 label.sk-toggleable__label-arrow:before {\n",
       "  /* Arrow on the left of the label */\n",
       "  content: \"▸\";\n",
       "  float: left;\n",
       "  margin-right: 0.25em;\n",
       "  color: var(--sklearn-color-icon);\n",
       "}\n",
       "\n",
       "#sk-container-id-1 label.sk-toggleable__label-arrow:hover:before {\n",
       "  color: var(--sklearn-color-text);\n",
       "}\n",
       "\n",
       "/* Toggleable content - dropdown */\n",
       "\n",
       "#sk-container-id-1 div.sk-toggleable__content {\n",
       "  max-height: 0;\n",
       "  max-width: 0;\n",
       "  overflow: hidden;\n",
       "  text-align: left;\n",
       "  /* unfitted */\n",
       "  background-color: var(--sklearn-color-unfitted-level-0);\n",
       "}\n",
       "\n",
       "#sk-container-id-1 div.sk-toggleable__content.fitted {\n",
       "  /* fitted */\n",
       "  background-color: var(--sklearn-color-fitted-level-0);\n",
       "}\n",
       "\n",
       "#sk-container-id-1 div.sk-toggleable__content pre {\n",
       "  margin: 0.2em;\n",
       "  border-radius: 0.25em;\n",
       "  color: var(--sklearn-color-text);\n",
       "  /* unfitted */\n",
       "  background-color: var(--sklearn-color-unfitted-level-0);\n",
       "}\n",
       "\n",
       "#sk-container-id-1 div.sk-toggleable__content.fitted pre {\n",
       "  /* unfitted */\n",
       "  background-color: var(--sklearn-color-fitted-level-0);\n",
       "}\n",
       "\n",
       "#sk-container-id-1 input.sk-toggleable__control:checked~div.sk-toggleable__content {\n",
       "  /* Expand drop-down */\n",
       "  max-height: 200px;\n",
       "  max-width: 100%;\n",
       "  overflow: auto;\n",
       "}\n",
       "\n",
       "#sk-container-id-1 input.sk-toggleable__control:checked~label.sk-toggleable__label-arrow:before {\n",
       "  content: \"▾\";\n",
       "}\n",
       "\n",
       "/* Pipeline/ColumnTransformer-specific style */\n",
       "\n",
       "#sk-container-id-1 div.sk-label input.sk-toggleable__control:checked~label.sk-toggleable__label {\n",
       "  color: var(--sklearn-color-text);\n",
       "  background-color: var(--sklearn-color-unfitted-level-2);\n",
       "}\n",
       "\n",
       "#sk-container-id-1 div.sk-label.fitted input.sk-toggleable__control:checked~label.sk-toggleable__label {\n",
       "  background-color: var(--sklearn-color-fitted-level-2);\n",
       "}\n",
       "\n",
       "/* Estimator-specific style */\n",
       "\n",
       "/* Colorize estimator box */\n",
       "#sk-container-id-1 div.sk-estimator input.sk-toggleable__control:checked~label.sk-toggleable__label {\n",
       "  /* unfitted */\n",
       "  background-color: var(--sklearn-color-unfitted-level-2);\n",
       "}\n",
       "\n",
       "#sk-container-id-1 div.sk-estimator.fitted input.sk-toggleable__control:checked~label.sk-toggleable__label {\n",
       "  /* fitted */\n",
       "  background-color: var(--sklearn-color-fitted-level-2);\n",
       "}\n",
       "\n",
       "#sk-container-id-1 div.sk-label label.sk-toggleable__label,\n",
       "#sk-container-id-1 div.sk-label label {\n",
       "  /* The background is the default theme color */\n",
       "  color: var(--sklearn-color-text-on-default-background);\n",
       "}\n",
       "\n",
       "/* On hover, darken the color of the background */\n",
       "#sk-container-id-1 div.sk-label:hover label.sk-toggleable__label {\n",
       "  color: var(--sklearn-color-text);\n",
       "  background-color: var(--sklearn-color-unfitted-level-2);\n",
       "}\n",
       "\n",
       "/* Label box, darken color on hover, fitted */\n",
       "#sk-container-id-1 div.sk-label.fitted:hover label.sk-toggleable__label.fitted {\n",
       "  color: var(--sklearn-color-text);\n",
       "  background-color: var(--sklearn-color-fitted-level-2);\n",
       "}\n",
       "\n",
       "/* Estimator label */\n",
       "\n",
       "#sk-container-id-1 div.sk-label label {\n",
       "  font-family: monospace;\n",
       "  font-weight: bold;\n",
       "  display: inline-block;\n",
       "  line-height: 1.2em;\n",
       "}\n",
       "\n",
       "#sk-container-id-1 div.sk-label-container {\n",
       "  text-align: center;\n",
       "}\n",
       "\n",
       "/* Estimator-specific */\n",
       "#sk-container-id-1 div.sk-estimator {\n",
       "  font-family: monospace;\n",
       "  border: 1px dotted var(--sklearn-color-border-box);\n",
       "  border-radius: 0.25em;\n",
       "  box-sizing: border-box;\n",
       "  margin-bottom: 0.5em;\n",
       "  /* unfitted */\n",
       "  background-color: var(--sklearn-color-unfitted-level-0);\n",
       "}\n",
       "\n",
       "#sk-container-id-1 div.sk-estimator.fitted {\n",
       "  /* fitted */\n",
       "  background-color: var(--sklearn-color-fitted-level-0);\n",
       "}\n",
       "\n",
       "/* on hover */\n",
       "#sk-container-id-1 div.sk-estimator:hover {\n",
       "  /* unfitted */\n",
       "  background-color: var(--sklearn-color-unfitted-level-2);\n",
       "}\n",
       "\n",
       "#sk-container-id-1 div.sk-estimator.fitted:hover {\n",
       "  /* fitted */\n",
       "  background-color: var(--sklearn-color-fitted-level-2);\n",
       "}\n",
       "\n",
       "/* Specification for estimator info (e.g. \"i\" and \"?\") */\n",
       "\n",
       "/* Common style for \"i\" and \"?\" */\n",
       "\n",
       ".sk-estimator-doc-link,\n",
       "a:link.sk-estimator-doc-link,\n",
       "a:visited.sk-estimator-doc-link {\n",
       "  float: right;\n",
       "  font-size: smaller;\n",
       "  line-height: 1em;\n",
       "  font-family: monospace;\n",
       "  background-color: var(--sklearn-color-background);\n",
       "  border-radius: 1em;\n",
       "  height: 1em;\n",
       "  width: 1em;\n",
       "  text-decoration: none !important;\n",
       "  margin-left: 0.5em;\n",
       "  text-align: center;\n",
       "  /* unfitted */\n",
       "  border: var(--sklearn-color-unfitted-level-1) 1pt solid;\n",
       "  color: var(--sklearn-color-unfitted-level-1);\n",
       "}\n",
       "\n",
       ".sk-estimator-doc-link.fitted,\n",
       "a:link.sk-estimator-doc-link.fitted,\n",
       "a:visited.sk-estimator-doc-link.fitted {\n",
       "  /* fitted */\n",
       "  border: var(--sklearn-color-fitted-level-1) 1pt solid;\n",
       "  color: var(--sklearn-color-fitted-level-1);\n",
       "}\n",
       "\n",
       "/* On hover */\n",
       "div.sk-estimator:hover .sk-estimator-doc-link:hover,\n",
       ".sk-estimator-doc-link:hover,\n",
       "div.sk-label-container:hover .sk-estimator-doc-link:hover,\n",
       ".sk-estimator-doc-link:hover {\n",
       "  /* unfitted */\n",
       "  background-color: var(--sklearn-color-unfitted-level-3);\n",
       "  color: var(--sklearn-color-background);\n",
       "  text-decoration: none;\n",
       "}\n",
       "\n",
       "div.sk-estimator.fitted:hover .sk-estimator-doc-link.fitted:hover,\n",
       ".sk-estimator-doc-link.fitted:hover,\n",
       "div.sk-label-container:hover .sk-estimator-doc-link.fitted:hover,\n",
       ".sk-estimator-doc-link.fitted:hover {\n",
       "  /* fitted */\n",
       "  background-color: var(--sklearn-color-fitted-level-3);\n",
       "  color: var(--sklearn-color-background);\n",
       "  text-decoration: none;\n",
       "}\n",
       "\n",
       "/* Span, style for the box shown on hovering the info icon */\n",
       ".sk-estimator-doc-link span {\n",
       "  display: none;\n",
       "  z-index: 9999;\n",
       "  position: relative;\n",
       "  font-weight: normal;\n",
       "  right: .2ex;\n",
       "  padding: .5ex;\n",
       "  margin: .5ex;\n",
       "  width: min-content;\n",
       "  min-width: 20ex;\n",
       "  max-width: 50ex;\n",
       "  color: var(--sklearn-color-text);\n",
       "  box-shadow: 2pt 2pt 4pt #999;\n",
       "  /* unfitted */\n",
       "  background: var(--sklearn-color-unfitted-level-0);\n",
       "  border: .5pt solid var(--sklearn-color-unfitted-level-3);\n",
       "}\n",
       "\n",
       ".sk-estimator-doc-link.fitted span {\n",
       "  /* fitted */\n",
       "  background: var(--sklearn-color-fitted-level-0);\n",
       "  border: var(--sklearn-color-fitted-level-3);\n",
       "}\n",
       "\n",
       ".sk-estimator-doc-link:hover span {\n",
       "  display: block;\n",
       "}\n",
       "\n",
       "/* \"?\"-specific style due to the `<a>` HTML tag */\n",
       "\n",
       "#sk-container-id-1 a.estimator_doc_link {\n",
       "  float: right;\n",
       "  font-size: 1rem;\n",
       "  line-height: 1em;\n",
       "  font-family: monospace;\n",
       "  background-color: var(--sklearn-color-background);\n",
       "  border-radius: 1rem;\n",
       "  height: 1rem;\n",
       "  width: 1rem;\n",
       "  text-decoration: none;\n",
       "  /* unfitted */\n",
       "  color: var(--sklearn-color-unfitted-level-1);\n",
       "  border: var(--sklearn-color-unfitted-level-1) 1pt solid;\n",
       "}\n",
       "\n",
       "#sk-container-id-1 a.estimator_doc_link.fitted {\n",
       "  /* fitted */\n",
       "  border: var(--sklearn-color-fitted-level-1) 1pt solid;\n",
       "  color: var(--sklearn-color-fitted-level-1);\n",
       "}\n",
       "\n",
       "/* On hover */\n",
       "#sk-container-id-1 a.estimator_doc_link:hover {\n",
       "  /* unfitted */\n",
       "  background-color: var(--sklearn-color-unfitted-level-3);\n",
       "  color: var(--sklearn-color-background);\n",
       "  text-decoration: none;\n",
       "}\n",
       "\n",
       "#sk-container-id-1 a.estimator_doc_link.fitted:hover {\n",
       "  /* fitted */\n",
       "  background-color: var(--sklearn-color-fitted-level-3);\n",
       "}\n",
       "</style><div id=\"sk-container-id-1\" class=\"sk-top-container\"><div class=\"sk-text-repr-fallback\"><pre>DecisionTreeClassifier(random_state=3)</pre><b>In a Jupyter environment, please rerun this cell to show the HTML representation or trust the notebook. <br />On GitHub, the HTML representation is unable to render, please try loading this page with nbviewer.org.</b></div><div class=\"sk-container\" hidden><div class=\"sk-item\"><div class=\"sk-estimator fitted sk-toggleable\"><input class=\"sk-toggleable__control sk-hidden--visually\" id=\"sk-estimator-id-1\" type=\"checkbox\" checked><label for=\"sk-estimator-id-1\" class=\"sk-toggleable__label fitted sk-toggleable__label-arrow\"><div><div>DecisionTreeClassifier</div></div><div><a class=\"sk-estimator-doc-link fitted\" rel=\"noreferrer\" target=\"_blank\" href=\"https://scikit-learn.org/1.6/modules/generated/sklearn.tree.DecisionTreeClassifier.html\">?<span>Documentation for DecisionTreeClassifier</span></a><span class=\"sk-estimator-doc-link fitted\">i<span>Fitted</span></span></div></label><div class=\"sk-toggleable__content fitted\"><pre>DecisionTreeClassifier(random_state=3)</pre></div> </div></div></div></div>"
      ],
      "text/plain": [
       "DecisionTreeClassifier(random_state=3)"
      ]
     },
     "execution_count": 20,
     "metadata": {},
     "output_type": "execute_result"
    }
   ],
   "source": [
    "# Entrenar modelo base en Train\n",
    "model = DecisionTreeClassifier(random_state=3)\n",
    "model.fit(X_train, y_train)"
   ]
  },
  {
   "cell_type": "code",
   "execution_count": 21,
   "metadata": {},
   "outputs": [],
   "source": [
    "# Predecir en el conjunto de Test (Outer Evaluation)\n",
    "y_pred = model.predict(X_test)"
   ]
  },
  {
   "cell_type": "code",
   "execution_count": 22,
   "metadata": {},
   "outputs": [],
   "source": [
    "# Cálculo de métricas\n",
    "balanced_acc = balanced_accuracy_score(y_test, y_pred)\n",
    "accuracy = accuracy_score(y_test, y_pred)"
   ]
  },
  {
   "cell_type": "code",
   "execution_count": 23,
   "metadata": {},
   "outputs": [],
   "source": [
    "# Matriz de confusión para obtener TPR y TNR\n",
    "conf_matrix = confusion_matrix(y_test, y_pred)\n",
    "tn, fp, fn, tp = conf_matrix.ravel()"
   ]
  },
  {
   "cell_type": "code",
   "execution_count": 24,
   "metadata": {},
   "outputs": [
    {
     "name": "stdout",
     "output_type": "stream",
     "text": [
      "Balanced Accuracy: 0.8580\n",
      "Accuracy: 0.9204\n",
      "True Positive Rate (TPR): 0.7658\n",
      "True Negative Rate (TNR): 0.9501\n",
      "Matriz de Confusión:\n",
      "[[781  41]\n",
      " [ 37 121]]\n"
     ]
    }
   ],
   "source": [
    "# True Positive Rate (TPR) y True Negative Rate (TNR)\n",
    "TPR = tp / (tp + fn)\n",
    "TNR = tn / (tn + fp)\n",
    "\n",
    "# Mostrar resultados\n",
    "print(f\"Balanced Accuracy: {balanced_acc:.4f}\")\n",
    "print(f\"Accuracy: {accuracy:.4f}\")\n",
    "print(f\"True Positive Rate (TPR): {TPR:.4f}\")\n",
    "print(f\"True Negative Rate (TNR): {TNR:.4f}\")\n",
    "print(f\"Matriz de Confusión:\\n{conf_matrix}\")"
   ]
  },
  {
   "cell_type": "markdown",
   "metadata": {},
   "source": [
    "La métrica de referencia para esta caso es Balanced Accuracy Score, ya que el dataset está desbalanceado.\n",
    "\n",
    "Otras métricas que también se pueden ser útiles son:\n",
    "- F1 Score\n",
    "- AUC Score"
   ]
  },
  {
   "cell_type": "markdown",
   "metadata": {},
   "source": [
    "5. HPO"
   ]
  },
  {
   "cell_type": "markdown",
   "metadata": {},
   "source": [
    "Explicacion de los hiperparámetro modificados:\n",
    "\n",
    "Criterion: Este hiperparámetro define la función de calidad de la división. \n",
    "\n",
    "En este caso se escogieron entre \"gini\" y \"entropy\".\n",
    "\n",
    "- \"gini\": Es el índice de Gini, que mide la impureza de un nodo. Un valor de 0 indica que todas las muestras pertenecen a una sola clase.\n",
    "- \"entropy\": Es la entropía, que mide la cantidad de información necesaria para clasificar una muestra. Un valor de 0 indica que todas las muestras pertenecen a una sola clase.\n",
    "\n",
    "Max_depth: Define la profundidad máxima del árbol. Este hiperparámetro es fundamental cuando se trabaja con un conjunto de datos con alto como en este caso.\n",
    "\n",
    "Min_samples_split: Es el número mínimo de muestras requeridas para dividir un nodo. Ajustar este parámetro ayuda a evitar divisiones muy específicas que pueden llevar a un sobreajuste.\n",
    "\n",
    "Min_samples_leaf: Es el número mínimo de muestras requeridas para estar en un nodo hoja. La modificación de este parámetro ayuda a evitar que se produzcan hojas con muy pocas muestras, lo que puede llevar a un sobreajuste.\n",
    "\n",
    "Max_features: Es el número máximo de características a considerar al buscar la mejor división. Como en este caso se cuenta con variables categóricas y numéricas, ajustar este parámetro se puede mejorar la precisión del modelo y reducir el riesgo de sobreajuste.\n",
    "\n",
    "- \"sqrt\": Se considera la raíz cuadrada del número total de características. Este valor es útil para reducir la varianza y mejorar la precisión del modelo.\n",
    "- \"log2\": Se considera el logaritmo en base 2 del número total de características. Este valor es útil para reducir la varianza y mejorar la precisión del modelo.\n",
    "- None: Se considera todas las características. Este valor puede llevar a un sobreajuste si no se tiene cuidado.\n",
    "\n",
    "Class_weight: Como se vio en el apartado de EDA, la variable objetivo con la que se trabaja está desbalanceada (aproximadamente 84% \"No\" y 16% \"Yes\"). Por lo que se le asigna un peso mayor a la clase minoritaria para ayudar al modelo a aprender de manera más efectiva. \n",
    "\n",
    "- \"balanced\": Se ajusta automáticamente el peso de cada clase inversamente proporcional a su frecuencia en el conjunto de datos.\n",
    "- \"balanced_subsample\": Se ajusta automáticamente el peso de cada clase inversamente proporcional a su frecuencia en el conjunto de datos, pero solo se considera una muestra aleatoria de los datos.\n",
    "- None: No se ajusta el peso de las clases. Este valor puede llevar a un sobreajuste si no se tiene cuidado."
   ]
  },
  {
   "cell_type": "code",
   "execution_count": 25,
   "metadata": {},
   "outputs": [
    {
     "name": "stdout",
     "output_type": "stream",
     "text": [
      "Mejores hiperparámetros: {'class_weight': None, 'criterion': 'gini', 'max_depth': None, 'max_features': None, 'min_samples_leaf': 1, 'min_samples_split': 2}\n",
      "Puntuación inner (Balanced Accuracy): 0.8076136239610875\n"
     ]
    }
   ],
   "source": [
    "# Definir el espacio de hiperparámetros a optimizar\n",
    "param_grid = {\n",
    "    'criterion': ['gini', 'entropy'],\n",
    "    'max_depth': [3, 5, 7, None],\n",
    "    'min_samples_split': [2, 5, 10],\n",
    "    'min_samples_leaf': [1, 2, 4],\n",
    "    'max_features': [None, 'sqrt', 'log2'],\n",
    "    'class_weight': [None, 'balanced']\n",
    "}\n",
    "\n",
    "# Usar el mismo kfold definido para la evaluación inner\n",
    "grid_search = GridSearchCV(\n",
    "    estimator=DecisionTreeClassifier(random_state=3),\n",
    "    param_grid=param_grid,\n",
    "    scoring='balanced_accuracy',\n",
    "    cv=kfold,\n",
    "    n_jobs=-1\n",
    ")\n",
    "\n",
    "# Ajustar en el conjunto de entrenamiento\n",
    "grid_search.fit(X_train, y_train)\n",
    "\n",
    "# Imprimir los mejores hiperparámetros y la métrica de inner evaluation\n",
    "print(\"Mejores hiperparámetros:\", grid_search.best_params_)\n",
    "print(\"Puntuación inner (Balanced Accuracy):\", grid_search.best_score_)\n"
   ]
  },
  {
   "cell_type": "markdown",
   "metadata": {},
   "source": [
    "--------------------------------------------------------------------------------------"
   ]
  },
  {
   "cell_type": "markdown",
   "metadata": {},
   "source": [
    "PUNTO 4: MÉTODOS BÁSICOS (KNN y Árboles de decisión)"
   ]
  },
  {
   "cell_type": "markdown",
   "metadata": {},
   "source": [
    "1. Escalar e imputar usando KNN como referencia"
   ]
  },
  {
   "cell_type": "code",
   "execution_count": 26,
   "metadata": {},
   "outputs": [],
   "source": [
    "scalers = {\n",
    "    \"StandardScaler\": StandardScaler(),\n",
    "    \"MinMaxScaler\": MinMaxScaler(),\n",
    "    \"RobustScaler\": RobustScaler()\n",
    "}\n",
    "\n",
    "imputers = {\n",
    "    \"Mean\": SimpleImputer(strategy=\"mean\"),\n",
    "    \"Median\": SimpleImputer(strategy=\"median\")\n",
    "}"
   ]
  },
  {
   "cell_type": "markdown",
   "metadata": {},
   "source": [
    "2. Evaluando con KNN y árboles de decisión"
   ]
  },
  {
   "cell_type": "code",
   "execution_count": 27,
   "metadata": {},
   "outputs": [
    {
     "name": "stdout",
     "output_type": "stream",
     "text": [
      "---------------KNN---------------\n",
      "Scaler: StandardScaler\n",
      "Imputer: Mean\n",
      "Score: 0.5928\n",
      "----------Decision Tree----------\n",
      "Scaler: StandardScaler\n",
      "Imputer: Mean\n",
      "Score (Tree): 0.7788\n",
      "---------------KNN---------------\n",
      "Scaler: StandardScaler\n",
      "Imputer: Median\n",
      "Score: 0.5928\n",
      "----------Decision Tree----------\n",
      "Scaler: StandardScaler\n",
      "Imputer: Median\n",
      "Score (Tree): 0.7806\n",
      "---------------KNN---------------\n",
      "Scaler: MinMaxScaler\n",
      "Imputer: Mean\n",
      "Score: 0.5912\n",
      "----------Decision Tree----------\n",
      "Scaler: MinMaxScaler\n",
      "Imputer: Mean\n",
      "Score (Tree): 0.7793\n",
      "---------------KNN---------------\n",
      "Scaler: MinMaxScaler\n",
      "Imputer: Median\n",
      "Score: 0.5899\n",
      "----------Decision Tree----------\n",
      "Scaler: MinMaxScaler\n",
      "Imputer: Median\n",
      "Score (Tree): 0.7805\n",
      "---------------KNN---------------\n",
      "Scaler: RobustScaler\n",
      "Imputer: Mean\n",
      "Score: 0.5968\n",
      "----------Decision Tree----------\n",
      "Scaler: RobustScaler\n",
      "Imputer: Mean\n",
      "Score (Tree): 0.7788\n",
      "---------------KNN---------------\n",
      "Scaler: RobustScaler\n",
      "Imputer: Median\n",
      "Score: 0.5962\n",
      "----------Decision Tree----------\n",
      "Scaler: RobustScaler\n",
      "Imputer: Median\n",
      "Score (Tree): 0.7800\n"
     ]
    }
   ],
   "source": [
    "kfold = RepeatedStratifiedKFold(n_splits=5, n_repeats=20, random_state=42)\n",
    "best_score = 0\n",
    "best_scaler = None\n",
    "best_imputer = None\n",
    "best_score_tree = 0\n",
    "best_scaler_tree = None\n",
    "best_imputer_tree = None\n",
    "\n",
    "for scaler_name, scaler in scalers.items():\n",
    "    for imputer_name, imputer in imputers.items():\n",
    "        X_train_imputed = imputer.fit_transform(X_train)\n",
    "        X_train_scaled = scaler.fit_transform(X_train_imputed)\n",
    "        \n",
    "        knn = KNeighborsClassifier(n_neighbors=5)\n",
    "        score = np.mean(cross_val_score(knn, X_train_scaled, y_train, cv=kfold, scoring=\"balanced_accuracy\"))\n",
    "        \n",
    "        print(\"---------------KNN---------------\")\n",
    "        print(f\"Scaler: {scaler_name}\\nImputer: {imputer_name}\\nScore: {score:.4f}\")\n",
    "        \n",
    "        if score > best_score:\n",
    "            best_score = score\n",
    "            best_scaler = scaler\n",
    "            best_imputer = imputer\n",
    "        # Para arboles de decisión\n",
    "        tree_= DecisionTreeClassifier(random_state=3)\n",
    "        score_tree = np.mean(cross_val_score(tree_, X_train_scaled, y_train, cv=kfold, scoring=\"balanced_accuracy\"))\n",
    "        \n",
    "        print(\"----------Decision Tree----------\")\n",
    "        print(f\"Scaler: {scaler_name}\\nImputer: {imputer_name}\\nScore (Tree): {score_tree:.4f}\")\n",
    "        \n",
    "        if score_tree > best_score_tree:\n",
    "            best_score_tree = score_tree\n",
    "            best_scaler_tree = scaler\n",
    "            best_imputer_tree = imputer\n",
    "\n"
   ]
  },
  {
   "cell_type": "code",
   "execution_count": 28,
   "metadata": {},
   "outputs": [
    {
     "name": "stdout",
     "output_type": "stream",
     "text": [
      "\n",
      "Mejor combinación de scaler e imputer para KNN:\n",
      "\tScaler: RobustScaler\n",
      "\tImputer: mean\n",
      "\tScore: 0.5968\n",
      "\n",
      "Mejor combinación de scaler e imputer para Decision Tree:\n",
      "\tScaler: StandardScaler\n",
      "\tImputer: median\n",
      "\tScore: 0.7806\n"
     ]
    }
   ],
   "source": [
    "print(\"\\nMejor combinación de scaler e imputer para KNN:\")\n",
    "print(f\"\\tScaler: {best_scaler.__class__.__name__}\\n\\tImputer: {best_imputer.strategy}\\n\\tScore: {best_score:.4f}\")\n",
    "print(\"\\nMejor combinación de scaler e imputer para Decision Tree:\")\n",
    "print(f\"\\tScaler: {best_scaler_tree.__class__.__name__}\\n\\tImputer: {best_imputer_tree.strategy}\\n\\tScore: {best_score_tree:.4f}\")"
   ]
  },
  {
   "cell_type": "markdown",
   "metadata": {},
   "source": [
    "a. Hiperparámetros por omisión"
   ]
  },
  {
   "cell_type": "code",
   "execution_count": 29,
   "metadata": {},
   "outputs": [
    {
     "name": "stdout",
     "output_type": "stream",
     "text": [
      "KNN con imputación de valores faltantes:\n",
      "  Balanced Accuracy: 0.6222\n",
      "  Tiempo de entrenamiento: 0.0010 segundos\n"
     ]
    }
   ],
   "source": [
    "X_train_imputed = best_imputer.fit_transform(X_train)\n",
    "X_test_imputed = best_imputer.transform(X_test)\n",
    "X_train_scaled = best_scaler.fit_transform(X_train_imputed)\n",
    "X_test_scaled = best_scaler.transform(X_test_imputed)\n",
    "\n",
    "knn_omision = KNeighborsClassifier()\n",
    "start_time = time.time()\n",
    "knn_omision.fit(X_train_scaled, y_train)\n",
    "end_time = time.time()\n",
    "knn_omision_pred = knn_omision.predict(X_test_scaled)\n",
    "knn_omision_balanced_acc = balanced_accuracy_score(y_test, knn_omision_pred)\n",
    "knn_omision_time = end_time - start_time\n",
    "print(\"KNN con imputación de valores faltantes:\")\n",
    "print(f\"  Balanced Accuracy: {knn_omision_balanced_acc:.4f}\")\n",
    "print(f\"  Tiempo de entrenamiento: {knn_omision_time:.4f} segundos\")"
   ]
  },
  {
   "cell_type": "code",
   "execution_count": 30,
   "metadata": {},
   "outputs": [
    {
     "name": "stdout",
     "output_type": "stream",
     "text": [
      "Decision Tree sin imputación y escalado:\n",
      "  Balanced Accuracy: 0.8548\n",
      "  Tiempo de entrenamiento: 0.0133 segundos\n"
     ]
    }
   ],
   "source": [
    "# Decision Tree\n",
    "X_train_imputed_tree = best_imputer_tree.fit_transform(X_train)\n",
    "X_test_imputed_tree = best_imputer_tree.transform(X_test)\n",
    "X_train_scaled_tree = best_scaler_tree.fit_transform(X_train_imputed_tree)\n",
    "X_test_scaled_tree = best_scaler_tree.transform(X_test_imputed_tree)\n",
    "\n",
    "dt_omision = DecisionTreeClassifier()\n",
    "start_time = time.time()\n",
    "dt_omision.fit(X_train_scaled_tree, y_train)\n",
    "end_time = time.time()\n",
    "dt_omision_pred = dt_omision.predict(X_test_scaled_tree)\n",
    "dt_omision_balanced_acc = balanced_accuracy_score(y_test, dt_omision_pred)\n",
    "dt_omision_time = end_time - start_time\n",
    "print(\"Decision Tree sin imputación y escalado:\")\n",
    "print(f\"  Balanced Accuracy: {dt_omision_balanced_acc:.4f}\")\n",
    "print(f\"  Tiempo de entrenamiento: {dt_omision_time:.4f} segundos\")"
   ]
  },
  {
   "cell_type": "markdown",
   "metadata": {},
   "source": [
    "b. Ajuste de hiperparámetros (HPO) usando GridSearchCV"
   ]
  },
  {
   "cell_type": "markdown",
   "metadata": {},
   "source": [
    "Explicación de los hiperparámetros modificados en el modelo KNN:\n",
    "\n",
    "n_neighbors: Este hiperparámetro define el número de vecinos a considerar al clasificar una muestra. Un valor bajo puede llevar a un sobreajuste, mientras que un valor alto puede llevar a un subajuste\n",
    "\n",
    "weights: Permite elegir cómo se ponderan los vecinos al hacer la predicción. \n",
    "\n",
    "- \"uniform\": Todos los vecinos tienen el mismo peso.\n",
    "- \"distance\": Los vecinos más cercanos tienen un mayor peso en la predicción.\n",
    "\n",
    "metrics: Este hiperparámetro define la métrica de distancia a utilizar. \n",
    "\n",
    "- \"euclidean\": La distancia euclidiana, que es la distancia \"normal\" entre dos puntos en un espacio euclidiano.\n",
    "- \"manhattan\": La distancia de Manhattan, que es la suma de las diferencias absolutas entre las coordenadas de los puntos.\n",
    "- \"minkowski\": La distancia de Minkowski, que es una generalización de las distancias euclidiana y de Manhattan.\n"
   ]
  },
  {
   "cell_type": "markdown",
   "metadata": {},
   "source": [
    "Explicación de los hiperparámetros modificados en el modelo de Árboles de decisión:\n",
    "\n",
    "Se han modificado los mismos hiperparámetros que en el punto 3."
   ]
  },
  {
   "cell_type": "markdown",
   "metadata": {},
   "source": [
    "NOTA: \n",
    "\n",
    "Además de los hiperparámetros modificados, se ha usado RepeatedStratifiedKFold para la validación cruzada. \n",
    "\n",
    "Este método es útil para obtener una estimación más robusta del rendimiento del modelo, ya que realiza múltiples divisiones de los datos y promedia los resultados. Esto ayuda a reducir la varianza en la estimación del rendimiento del modelo y proporciona una mejor idea de cómo se comportará el modelo en datos no vistos."
   ]
  },
  {
   "cell_type": "code",
   "execution_count": 31,
   "metadata": {},
   "outputs": [
    {
     "name": "stdout",
     "output_type": "stream",
     "text": [
      "KNeighborsClassifier:\n",
      "\tMejor KNN: {'metric': 'manhattan', 'n_neighbors': 3, 'weights': 'distance'}\n",
      "\tBalanced Accuracy: 0.8164\n",
      "\tTiempo de entrenamiento: 1.9323 segundos\n",
      "\tTiempo medio por iteración: 0.1208 segundos\n",
      "\n",
      "DecisionTreeClassifier:\n",
      "\tMejor Árbol: {'class_weight': None, 'criterion': 'entropy', 'max_depth': None, 'max_features': None, 'min_samples_leaf': 1, 'min_samples_split': 2}\n",
      "\tBalanced Accuracy: 0.7827\n",
      "\tTiempo de entrenamiento: 23.7449 segundos\n",
      "\tTiempo medio por iteración: 0.0550 segundos\n"
     ]
    }
   ],
   "source": [
    "tree_params = {\n",
    "    'criterion': ['gini', 'entropy'],\n",
    "    'max_depth': [3, 5, 7, None],\n",
    "    'min_samples_split': [2, 5, 10],\n",
    "    'min_samples_leaf': [1, 2, 4],\n",
    "    'max_features': [None, 'sqrt', 'log2'],\n",
    "    'class_weight': [None, 'balanced']\n",
    "}\n",
    "\n",
    "knn_params = {\n",
    "    'n_neighbors': [3, 5, 7, 9],\n",
    "    'weights': ['uniform', 'distance'],\n",
    "    'metric': ['euclidean', 'manhattan']\n",
    "}\n",
    "\n",
    "# Definiendo la validación cruzada repetida\n",
    "rskf = RepeatedStratifiedKFold(n_splits=5, n_repeats=20, random_state=42)\n",
    "\n",
    "# Optimización con GridSearchCV \n",
    "knn_grid = GridSearchCV(\n",
    "    estimator=KNeighborsClassifier(),\n",
    "    param_grid=knn_params,\n",
    "    scoring='balanced_accuracy',\n",
    "    cv=rskf,\n",
    "    n_jobs=-1\n",
    ")\n",
    "\n",
    "tree_grid = GridSearchCV(\n",
    "    estimator=DecisionTreeClassifier(random_state=3),\n",
    "    param_grid=tree_params,\n",
    "    scoring='balanced_accuracy',\n",
    "    cv=rskf,\n",
    "    n_jobs=-1\n",
    ")\n",
    "\n",
    "# Entrenamos GridSearchCV en el conjunto de entrenamiento escalado\n",
    "start_time_knn = time.time()\n",
    "knn_grid.fit(X_train_scaled, y_train)\n",
    "end_time_knn = time.time()\n",
    "knn_time = end_time_knn - start_time_knn\n",
    "\n",
    "start_time_tree = time.time()\n",
    "tree_grid.fit(X_train_scaled_tree, y_train)\n",
    "end_time_tree = time.time()\n",
    "tree_time = end_time_tree - start_time_tree\n",
    "\n",
    "# Mostrar el mejor resultado obtenido para cada modelo\n",
    "print(\"KNeighborsClassifier:\")\n",
    "print(f\"\\tMejor KNN: {knn_grid.best_params_}\\n\\tBalanced Accuracy: {knn_grid.best_score_:.4f}\")\n",
    "print(f\"\\tTiempo de entrenamiento: {knn_time:.4f} segundos\")\n",
    "\n",
    "num_iterations = len(knn_grid.cv_results_['params'])\n",
    "print(f\"\\tTiempo medio por iteración: {knn_time / num_iterations:.4f} segundos\")\n",
    "\n",
    "print(\"\\nDecisionTreeClassifier:\")\n",
    "print(f\"\\tMejor Árbol: {tree_grid.best_params_}\\n\\tBalanced Accuracy: {tree_grid.best_score_:.4f}\")\n",
    "print(f\"\\tTiempo de entrenamiento: {tree_time:.4f} segundos\")\n",
    "\n",
    "num_iterations_tree = len(tree_grid.cv_results_['params'])\n",
    "print(f\"\\tTiempo medio por iteración: {tree_time / num_iterations_tree:.4f} segundos\")\n"
   ]
  },
  {
   "cell_type": "markdown",
   "metadata": {},
   "source": [
    "Conclusión:\n",
    "Se puede observar que el coste computacional medido como tiempo medio de iteración es mucho mayor en el modelo KNN que en el de Árboles de decisión."
   ]
  },
  {
   "cell_type": "markdown",
   "metadata": {},
   "source": [
    "c. Plots de los hiperparámetros \n",
    "\n",
    "Primero se convierten los resultados a un dataframe y se convierten los resultados a string para poder graficar los resultados de los hiperparámetros."
   ]
  },
  {
   "cell_type": "code",
   "execution_count": 32,
   "metadata": {},
   "outputs": [],
   "source": [
    "tree_results = pd.DataFrame(tree_grid.cv_results_)\n",
    "knn_results = pd.DataFrame(knn_grid.cv_results_)\n",
    "\n",
    "# Árbol de decisión\n",
    "tree_results['param_max_depth_str'] = tree_results['param_max_depth'].astype(str)\n",
    "tree_results['param_min_samples_split_str'] = tree_results['param_min_samples_split'].astype(str)\n",
    "tree_results['param_min_samples_leaf_str'] = tree_results['param_min_samples_leaf'].astype(str)\n",
    "tree_results['param_criterion_str'] = tree_results['param_criterion'].astype(str)\n",
    "tree_results['param_max_features_str'] = tree_results['param_max_features'].astype(str)\n",
    "tree_results['param_class_weight_str'] = tree_results['param_class_weight'].astype(str)\n",
    "# KNN\n",
    "knn_results['param_n_neighbors_str'] = knn_results['param_n_neighbors'].astype(str)\n",
    "knn_results['param_weights_str'] = knn_results['param_weights'].astype(str)\n",
    "knn_results['param_metric_str'] = knn_results['param_metric'].astype(str)"
   ]
  },
  {
   "cell_type": "markdown",
   "metadata": {},
   "source": [
    "Comparación de cuál es el mejor modelo entre KNN y Árboles de decisión"
   ]
  },
  {
   "cell_type": "code",
   "execution_count": 33,
   "metadata": {},
   "outputs": [
    {
     "data": {
      "image/png": "[encoded data removed]",
      "text/plain": [
       "<Figure size 800x600 with 1 Axes>"
      ]
     },
     "metadata": {},
     "output_type": "display_data"
    }
   ],
   "source": [
    "knn_results['Modelo'] = 'KNN'\n",
    "tree_results['Modelo'] = 'Decision Tree'\n",
    "\n",
    "combined_results = pd.concat([knn_results[['mean_test_score', 'Modelo']], tree_results[['mean_test_score', 'Modelo']]])\n",
    "\n",
    "combined_results.rename(columns={'mean_test_score': 'Balanced Accuracy'}, inplace=True)\n",
    "\n",
    "# Genera ndo el gráfico de boxplots\n",
    "plt.figure(figsize=(8, 6))\n",
    "sns.boxplot(x='Modelo', y='Balanced Accuracy', data=combined_results)\n",
    "plt.title('Comparación de Modelos: KNN vs Decision Tree')\n",
    "plt.xlabel('Modelo')\n",
    "plt.ylabel('Balanced Accuracy')\n",
    "plt.show()\n"
   ]
  },
  {
   "cell_type": "markdown",
   "metadata": {},
   "source": [
    "Conclusiones:\n",
    "\n",
    "Pese a que el mejor modelo de KNN era ligeramente superior al de Árboles de decisión, el coste computacional es mucho mayor en el modelo KNN. Además este gráfico de caja y bigote muestra que el modelo de KNN tiene una varianza mucho mayor que el de Árboles de decisión. Por lo que se puede concluir que el modelo de Árboles de decisión es más robusto y eficiente."
   ]
  },
  {
   "cell_type": "markdown",
   "metadata": {},
   "source": [
    "Plots de los hiperparámetros para árboles de decisión:"
   ]
  },
  {
   "cell_type": "code",
   "execution_count": 34,
   "metadata": {},
   "outputs": [
    {
     "data": {
      "image/png": "[encoded data removed]",
      "text/plain": [
       "<Figure size 1800x1200 with 6 Axes>"
      ]
     },
     "metadata": {},
     "output_type": "display_data"
    }
   ],
   "source": [
    "plt.figure(figsize=(18, 12))\n",
    "\n",
    "# max_depth\n",
    "ax1 = plt.subplot(2, 3, 1)\n",
    "sns.boxplot(x='param_max_depth_str', y='mean_test_score', data=tree_results, ax=ax1)\n",
    "ax1.axhline(y=dt_omision_balanced_acc, color='orange', linestyle='--', \n",
    "            label=f\"DT Omisión: {dt_omision_balanced_acc:.4f}\")\n",
    "ax1.set_title('Efecto de max_depth en DecisionTreeClassifier')\n",
    "ax1.set_xlabel('max_depth')\n",
    "ax1.set_ylabel('Balanced Accuracy')\n",
    "ax1.legend()\n",
    "\n",
    "# min_samples_split\n",
    "ax2 = plt.subplot(2, 3, 2)\n",
    "sns.boxplot(x='param_min_samples_split_str', y='mean_test_score', data=tree_results, ax=ax2)\n",
    "ax2.axhline(y=dt_omision_balanced_acc, color='orange', linestyle='--', \n",
    "            label=f\"DT Omisión: {dt_omision_balanced_acc:.4f}\")\n",
    "ax2.set_title('Efecto de min_samples_split')\n",
    "ax2.set_xlabel('min_samples_split')\n",
    "ax2.set_ylabel('Balanced Accuracy')\n",
    "ax2.legend()\n",
    "\n",
    "# min_samples_leaf\n",
    "ax3 = plt.subplot(2, 3, 3)\n",
    "sns.boxplot(x='param_min_samples_leaf_str', y='mean_test_score', data=tree_results, ax=ax3)\n",
    "ax3.axhline(y=dt_omision_balanced_acc, color='orange', linestyle='--', \n",
    "            label=f\"DT Omisión: {dt_omision_balanced_acc:.4f}\")\n",
    "ax3.set_title('Efecto de min_samples_leaf')\n",
    "ax3.set_xlabel('min_samples_leaf')\n",
    "ax3.set_ylabel('Balanced Accuracy')\n",
    "ax3.legend()\n",
    "\n",
    "# criterion\n",
    "ax4 = plt.subplot(2, 3, 4)\n",
    "sns.boxplot(x='param_criterion_str', y='mean_test_score', data=tree_results, ax=ax4)\n",
    "ax4.axhline(y=dt_omision_balanced_acc, color='orange', linestyle='--', \n",
    "            label=f\"DT Omisión: {dt_omision_balanced_acc:.4f}\")\n",
    "ax4.set_title('Efecto de criterion')\n",
    "ax4.set_xlabel('criterion')\n",
    "ax4.set_ylabel('Balanced Accuracy')\n",
    "ax4.legend()\n",
    "\n",
    "# max_features\n",
    "ax5 = plt.subplot(2, 3, 5)\n",
    "sns.boxplot(x='param_max_features_str', y='mean_test_score', data=tree_results, ax=ax5)\n",
    "ax5.axhline(y=dt_omision_balanced_acc, color='orange', linestyle='--', \n",
    "            label=f\"DT Omisión: {dt_omision_balanced_acc:.4f}\")\n",
    "ax5.set_title('Efecto de max_features')\n",
    "ax5.set_xlabel('max_features')\n",
    "ax5.set_ylabel('Balanced Accuracy')\n",
    "ax5.legend()\n",
    "\n",
    "# class_weight\n",
    "ax6 = plt.subplot(2, 3, 6)\n",
    "sns.boxplot(x='param_class_weight_str', y='mean_test_score', data=tree_results, ax=ax6)\n",
    "ax6.axhline(y=dt_omision_balanced_acc, color='orange', linestyle='--', \n",
    "            label=f\"DT Omisión: {dt_omision_balanced_acc:.4f}\")\n",
    "ax6.set_title('Efecto de class_weight')\n",
    "ax6.set_xlabel('class_weight')\n",
    "ax6.set_ylabel('Balanced Accuracy')\n",
    "ax6.legend()\n",
    "\n",
    "plt.tight_layout()\n",
    "plt.show()"
   ]
  },
  {
   "cell_type": "markdown",
   "metadata": {},
   "source": [
    "Interpretación de los resultados:\n",
    "\n",
    "- Max_depth: Se aprecia que a medida que se aumentan el número de profundidad del árbol, se aumenta la precisión balanceada. Es cierto que un numero muy alto puede inducir a sobreajuste, y a la poca capacidad de generalización. Sin embargo, en este caso parece razonable que al tener más de 20 atributos y no ser un caso de estudio trivial, la complejidad optima del árbol pueda ser mayor. En este anexo, se estudia mas en profundidad el comportamiento de este parametro.\n",
    "\n",
    "- Min_samples_split: No hay una diferencia significativa entre 2, 5 y 10. Pero se puede observar que a medida que aumenta el valor de min_samples_split, la mediana y el rango de variación aumentan. Esto indica que el modelo está aprendiendo patrones más generales y no se está sobreajustando a los datos de entrenamiento.\n",
    "\n",
    "- Min_samples_leaf: Se observa un fenómeno similar al de simples_split, solo que en este caso si hay una ligera tendencia a la baja en la precisión y también una ligera reducción de la dispersión. En este caso, al igual que el anterior puede tener sentido dejarlo en los valores mas altos debido al riesgo de sobreajuste, ya que una sola instancia para validar un nodo hoja no es propio de un modelo que aspira a generalizar correctamente. \n",
    "\n",
    "- Criterion: Las medianas son bastante similares. Es frecuente que Gini y Entropy no difieran mucho en la práctica, aunque uno de ellos puede presentar un leve incremento en la mediana. En este caso en el que diferencias son prácticamente, Gini suele ser un poco más rápido computacionalmente, por lo que sería el valor óptimo para este parámetro\n",
    "\n",
    "- Max_features: Se observa que la precisión mediana es superior para el caso donde todos los atributos son considerados en el Split en lugar de reducirlo en orden de la raíz o el log2. En nuestro caso serían 5 y 4 (por redondeo) atributos a considerar en cada Split. Limitar el número de variables en cada Split parece ser la decisión acertada pese a la menor precisión media y mediana, ya que el riesgo de sobreajuste del modelo es alto mientras que en especial para el caso de la raíz la dispersión de precisiones disminuye significativamente, lo que hace pensar que es el valor optimo para este parámetro.\n",
    "\n",
    "- Class_weight: En este parámetro parece claro que su media y su rango intercuartílico, es superior a no tener la ponderación por clase numerosa. Además de respaldarse con este aplastante dato, ya se vio en el análisis exploratorio de datos que se tenía una variable de salida muy desbalanceada lo que hace prácticamente obligado el uso de este parámetro para el correcto aprendizaje del modelo para la tarea que se presenta."
   ]
  },
  {
   "cell_type": "markdown",
   "metadata": {},
   "source": [
    "Comparando los resultados contra el modelo por omisión se puede observar que casi ninguna configuración de hiperparámetros es mejor que el modelo por omisión. Sin embargo, la configuración por omisión es muy propensa a sobreajuste ya que usa valores que se han visto en el análisis del párrafo anterior que tienden a generalizar muy poco. Es claro ver que todas las configuraciones consiguen superar al modelo trivial de forma holgada.\n",
    "\n",
    "En conclusión, pese a la buena métrica de precisión balanceada, el modelo por omisión no es el mejor modelo para este caso. Se recomienda usar un modelo con una configuración de hiperparámetros que evite el sobreajuste y que tenga una buena capacidad de generalización."
   ]
  },
  {
   "cell_type": "markdown",
   "metadata": {},
   "source": [
    "ANEXO"
   ]
  },
  {
   "cell_type": "code",
   "execution_count": 35,
   "metadata": {},
   "outputs": [
    {
     "data": {
      "image/png": "[encoded data removed]",
      "text/plain": [
       "<Figure size 600x400 with 1 Axes>"
      ]
     },
     "metadata": {},
     "output_type": "display_data"
    }
   ],
   "source": [
    "tree_params_v2 = {\n",
    "    'criterion': ['gini'],\n",
    "    'max_depth': [7, 10, 20, 30, None],\n",
    "    'min_samples_split': [2, 5, 10],\n",
    "    'min_samples_leaf': [1, 2, 4],\n",
    "    'max_features': [None, 'sqrt', 'log2'],\n",
    "    'class_weight': [None, 'balanced']\n",
    "}\n",
    "\n",
    "rskf = RepeatedStratifiedKFold(n_splits=5, n_repeats=20, random_state=42)\n",
    "\n",
    "# Optimización con GridSearchCV para DecisionTreeClassifier\n",
    "tree_grid_v2= GridSearchCV(\n",
    "    estimator=DecisionTreeClassifier(random_state=3),\n",
    "    param_grid=tree_params_v2,\n",
    "    scoring='balanced_accuracy',\n",
    "    cv=rskf,\n",
    "    n_jobs=-1\n",
    ")\n",
    "\n",
    "# Entrenamos GridSearchCV en el conjunto de entrenamiento escalado\n",
    "tree_grid_v2.fit(X_train_scaled_tree, y_train)\n",
    "\n",
    "tree_results_v2 = pd.DataFrame(tree_grid_v2.cv_results_)\n",
    "# Árbol de decisión\n",
    "tree_results_v2['param_max_depth_str'] = tree_results_v2['param_max_depth'].astype(str)\n",
    "# max_depth\n",
    "plt.figure(figsize=(6, 4))\n",
    "sns.boxplot(x='param_max_depth_str', y='mean_test_score', data=tree_results_v2)\n",
    "plt.title('Efecto de max_depth en DecisionTreeClassifier')\n",
    "plt.xlabel('max_depth')\n",
    "plt.ylabel('Balanced Accuracy')\n",
    "plt.tight_layout()\n",
    "plt.show()"
   ]
  },
  {
   "cell_type": "markdown",
   "metadata": {},
   "source": [
    "CONCLISIONES DEL ANEXO\n",
    "\n",
    "Se puede observar el parámetro max_depth sigue aumentando a medida que se aumenta el número de profundidad del árbol, pero la precisión balanceada no mejora a partir de cierto punto, ubicado entre 10 y 20. Esto indica que a partir de estos valores el modelo deja de aprender patrones más generales y muy posiblemente se está sobreajustando a los datos de entrenamiento.\n",
    "\n",
    "Como valor óptimo se considerará 10"
   ]
  },
  {
   "cell_type": "markdown",
   "metadata": {},
   "source": [
    "Plots de los hiperparámetros para el modelo KNN:"
   ]
  },
  {
   "cell_type": "code",
   "execution_count": 36,
   "metadata": {},
   "outputs": [
    {
     "data": {
      "image/png": "[encoded data removed]",
      "text/plain": [
       "<Figure size 1500x500 with 3 Axes>"
      ]
     },
     "metadata": {},
     "output_type": "display_data"
    }
   ],
   "source": [
    "plt.figure(figsize=(15, 5))\n",
    "\n",
    "# n_neighbors\n",
    "ax1 = plt.subplot(1, 3, 1)\n",
    "sns.boxplot(x='param_n_neighbors_str', y='mean_test_score', data=knn_results, ax=ax1)\n",
    "ax1.axhline(y=knn_omision_balanced_acc, color='orange', linestyle='--', \n",
    "            label=f\"KNN Omisión: {knn_omision_balanced_acc:.4f}\")\n",
    "ax1.set_title('Efecto de n_neighbors en KNeighborsClassifier')\n",
    "ax1.set_xlabel('n_neighbors')\n",
    "ax1.set_ylabel('Balanced Accuracy')\n",
    "ax1.legend()\n",
    "\n",
    "# weights\n",
    "ax2 = plt.subplot(1, 3, 2)\n",
    "sns.boxplot(x='param_weights_str', y='mean_test_score', data=knn_results, ax=ax2)\n",
    "ax2.axhline(y=knn_omision_balanced_acc, color='orange', linestyle='--', \n",
    "            label=f\"KNN Omisión: {knn_omision_balanced_acc:.4f}\")\n",
    "ax2.set_title('Efecto de weights')\n",
    "ax2.set_xlabel('weights')\n",
    "ax2.set_ylabel('Balanced Accuracy')\n",
    "ax2.legend()\n",
    "\n",
    "# metric\n",
    "ax3 = plt.subplot(1, 3, 3)\n",
    "sns.boxplot(x='param_metric_str', y='mean_test_score', data=knn_results, ax=ax3)\n",
    "ax3.axhline(y=knn_omision_balanced_acc, color='orange', linestyle='--', \n",
    "            label=f\"KNN Omisión: {knn_omision_balanced_acc:.4f}\")\n",
    "ax3.set_title('Efecto de metric')\n",
    "ax3.set_xlabel('metric')\n",
    "ax3.set_ylabel('Balanced Accuracy')\n",
    "ax3.legend()\n",
    "\n",
    "plt.tight_layout()\n",
    "plt.show()"
   ]
  },
  {
   "cell_type": "markdown",
   "metadata": {},
   "source": [
    "Interpretación de los resultados:\n",
    "\n",
    "- n_neighbors: Se aprecia que a medida que se aumenta el numero de vecinos tanto la mediana como las cajas van a la baja. Es cierto que con 3 vecinos se obtienen los mejores resultados con la mejor de las varianzas. Sin embargo, esto puede estar influenciado por un mas que posible sobreajuste. De la misma manera el valor de 9 parece estar muy alejado de una precisión balanceada aceptable, haciéndolo ligeramente mejor que un modelo trivial (0.5 de precisión balanceada). Por lo que en este parámetro el balance deseado entre sobre y subajuste parece estar en los valores centrales testeados (5 y 7 vecinos).\n",
    "\n",
    "- weights: En este parámetro parece clara que la mejoría que se aprecia al usar la distancia como peso de la influencia de cada vecino (a menor distancia mayor peso). Sin embargo, con uniform se pierde esa información y se le da el mismo peso a todos por lo que a la hora de hacer el perfilado de las clases aquellos vecinos menos representativos pueden introducir ruido en las predicciones.\n",
    "\n",
    "- metric: Se observa que, en general, manhattan obtiene una Balanced Accuracy ligeramente mayor (o similar) que euclidean, con diferencias que pueden no ser muy grandes pero sí consistentes. Desde el punto de vista de la naturaleza de los datos la distancia Manhattan al medir la distancia como la suma de las diferencias absolutas en cada dimensión, se debería comportar mejor con escalas y distribuciones variables en cada atributo.  En el análisis exploratorio de los datos se veían un número significativo de variables presentaban outliers o distribuciones sesgadas, por lo que la distancia Manhattan puede resultar más robusta para este caso de estudio."
   ]
  },
  {
   "cell_type": "markdown",
   "metadata": {},
   "source": [
    "En cuanto a la comparación de precisión balanceada contra el modelo por omision (línea discontinua naranja)se puede observar que ciertas configuraciones proporcionan mejores resultados y por ende tambien serían mejores que el modelo trivial. "
   ]
  },
  {
   "cell_type": "markdown",
   "metadata": {},
   "source": [
    "-------------------------------------------"
   ]
  },
  {
   "cell_type": "markdown",
   "metadata": {},
   "source": [
    "PUNTO 5: MÉTODOS AVANZADOS (MÉTODOS LINEALES Y SVMs)"
   ]
  },
  {
   "cell_type": "markdown",
   "metadata": {},
   "source": [
    "1. Conjunto de entrenamiento y prueba\n",
    "\n",
    "No se van a utilizar escaladores ni imputadores en este apartado. Lo que se ha entendido es que se quiere explorar el rendimiento de estos modelos sin ningún tipo de preprocesado. Por esta razón se han eliminado filas con valores nulos"
   ]
  },
  {
   "cell_type": "code",
   "execution_count": null,
   "metadata": {},
   "outputs": [],
   "source": [
    "X_y = pd.concat([X, y], axis=1).dropna()\n",
    "X = X_y.drop(columns=y.name)\n",
    "y = X_y[y.name]\n",
    "\n",
    "X_train, X_test, y_train, y_test = train_test_split(X, y, test_size=1/3, random_state=3, stratify=y)"
   ]
  },
  {
   "cell_type": "markdown",
   "metadata": {},
   "source": [
    "2. Modelos lineales"
   ]
  },
  {
   "cell_type": "markdown",
   "metadata": {},
   "source": [
    "Sin regularización\n",
    "\n",
    "Se utilizará LogisticRegression con penanlty \"l2\" con un valor muy alto de C (1e10) para que no se aplique regularización."
   ]
  },
  {
   "cell_type": "markdown",
   "metadata": {},
   "source": [
    "Como se pude ver, al ejecutar la celda sale un Warning indicando que el optimizador por defecto LogisticLBFGS no logró minimizar la función de costo. \n",
    "\n",
    "\n",
    "Esto se debe a que los datos no están escalados ni los parámetros de optimización ajustados(hecho a propósito para ver el rendimiento de este modelo sin ningún tipo de preprocesado)."
   ]
  },
  {
   "cell_type": "markdown",
   "metadata": {},
   "source": [
    "Con regularización L1 (penalty='l1')"
   ]
  },
  {
   "cell_type": "markdown",
   "metadata": {},
   "source": [
    "Cuando C es mayor en L1, hay menos regulacion y cuando C es menor hay más regularización. Por lo que se ha usado un valor de 0.1 para que haya una regularización moderada."
   ]
  },
  {
   "cell_type": "code",
   "execution_count": 40,
   "metadata": {},
   "outputs": [
    {
     "name": "stdout",
     "output_type": "stream",
     "text": [
      "Mejor Modelo Lineal con Regularización L1:\n",
      "  Balanced Accuracy: 0.7060\n",
      "  Mejor Parámetros: {'C': 0.1, 'class_weight': 'balanced', 'max_iter': 100, 'penalty': 'l1', 'solver': 'liblinear'}\n",
      "  Tiempo de entrenamiento: 2.6963 segundos\n"
     ]
    }
   ],
   "source": [
    "param_grid_lineal = {\n",
    "    'penalty': ['l1'],\n",
    "    'C': [0.01, 0.1, 1, 10, 100],\n",
    "    'solver': ['liblinear', 'saga'],\n",
    "    'max_iter': [100, 500, 1000],\n",
    "    'class_weight': [None, 'balanced'],\n",
    "}\n",
    "grid_search_lineal = GridSearchCV(\n",
    "    estimator = LogisticRegression(random_state=3),\n",
    "    param_grid = param_grid_lineal,\n",
    "    scoring = 'balanced_accuracy',\n",
    "    # cv=kfold,\n",
    "    cv = 3,\n",
    "    n_jobs = -1\n",
    ")\n",
    "\n",
    "start_time = time.time()\n",
    "grid_search_lineal.fit(X_train, y_train)\n",
    "end_time = time.time()\n",
    "tiempo_grid_search_lineal = end_time - start_time\n",
    "\n",
    "mejor_modelo_lineal = grid_search_lineal.best_estimator_\n",
    "mejor_score_lineal = grid_search_lineal.best_score_\n",
    "mejor_params_lineal = grid_search_lineal.best_params_\n",
    "y_pred_lineal = mejor_modelo_lineal.predict(X_test)\n",
    "balanced_acc_lineal = balanced_accuracy_score(y_test, y_pred_lineal)\n",
    "print(\"Mejor Modelo Lineal con Regularización L1:\")\n",
    "print(f\"  Balanced Accuracy: {balanced_acc_lineal:.4f}\")\n",
    "print(f\"  Mejor Parámetros: {mejor_params_lineal}\") \n",
    "print(f\"  Tiempo de entrenamiento: {tiempo_grid_search_lineal:.4f} segundos\")"
   ]
  },
  {
   "cell_type": "markdown",
   "metadata": {},
   "source": [
    "2. Modelos SVMs"
   ]
  },
  {
   "cell_type": "markdown",
   "metadata": {},
   "source": [
    "Sin regularización"
   ]
  },
  {
   "cell_type": "code",
   "execution_count": 41,
   "metadata": {},
   "outputs": [
    {
     "name": "stdout",
     "output_type": "stream",
     "text": [
      "Modelo SVM:\n",
      "  Balanced Accuracy: 0.5000\n",
      "  Tiempo de entrenamiento: 0.0322 segundos\n"
     ]
    }
   ],
   "source": [
    "start_time = time.time()\n",
    "modelo_svm = SVC()\n",
    "modelo_svm.fit(X_train, y_train)\n",
    "end_time = time.time()\n",
    "tiempo_modelo_svm = end_time - start_time\n",
    "\n",
    "y_pred_svm = modelo_svm.predict(X_test)\n",
    "balanced_acc_svm = balanced_accuracy_score(y_test, y_pred_svm)\n",
    "print(\"Modelo SVM:\")\n",
    "print(f\"  Balanced Accuracy: {balanced_acc_svm:.4f}\")\n",
    "print(f\"  Tiempo de entrenamiento: {tiempo_modelo_svm:.4f} segundos\")"
   ]
  },
  {
   "cell_type": "markdown",
   "metadata": {},
   "source": [
    "Con ajuste de hiperparámetros\n",
    "\n",
    "Se han modificado los siguientes hiperparámetros:\n",
    "- C: Este hiperparámetro controla la penalización por error en el modelo. Un valor alto de C significa que el modelo se centrará más en clasificar correctamente los puntos de entrenamiento, lo que puede llevar a un sobreajuste. Un valor bajo de C significa que el modelo será más flexible y tolerará más errores, lo que puede llevar a un subajuste.\n",
    "\n",
    "- kernel: Este hiperparámetro define el tipo de kernel a utilizar. En este caso se han usado los siguientes:\n",
    "    - \"linear\": Un kernel lineal, que es útil para datos linealmente separables.\n",
    "    - \"rbf\": Un kernel radial, que es útil para datos no linealmente separables."
   ]
  },
  {
   "cell_type": "code",
   "execution_count": null,
   "metadata": {},
   "outputs": [],
   "source": [
    "param_grid_svm = {\n",
    "    'C': [0.1, 1, 10],\n",
    "    'kernel': ['linear', 'rbf']\n",
    "}\n",
    "grid_search_svm = GridSearchCV(\n",
    "    estimator = SVC(random_state=3),\n",
    "    param_grid = param_grid_svm,\n",
    "    scoring = 'balanced_accuracy',\n",
    "    cv = 3,\n",
    "    n_jobs = -1\n",
    ")\n",
    "start_time = time.time()\n",
    "grid_search_svm.fit(X_train, y_train)\n",
    "end_time = time.time()\n",
    "tiempo_grid_search_svm = end_time - start_time\n",
    "\n",
    "mejor_modelo_svm = grid_search_svm.best_estimator_\n",
    "mejor_score_svm = grid_search_svm.best_score_\n",
    "mejor_params_svm = grid_search_svm.best_params_\n",
    "y_pred_svm = mejor_modelo_svm.predict(X_test_imputed)\n",
    "balanced_acc_svm = balanced_accuracy_score(y_test, y_pred_svm)\n",
    "print(\"Mejor Modelo SVM:\")\n",
    "print(f\"  Balanced Accuracy: {balanced_acc_svm:.4f}\")\n",
    "print(f\"  Mejor Parámetros: {mejor_params_svm}\")\n",
    "print(f\"  Tiempo de entrenamiento: {tiempo_grid_search_svm:.4f} segundos\")"
   ]
  },
  {
   "cell_type": "markdown",
   "metadata": {},
   "source": [
    "3. Importancia de los atributos"
   ]
  },
  {
   "cell_type": "markdown",
   "metadata": {},
   "source": [
    "Importancia de los atributos en el Modelo Lineal L1 ajustado"
   ]
  },
  {
   "cell_type": "code",
   "execution_count": null,
   "metadata": {},
   "outputs": [],
   "source": [
    "coeficientes_lineal = mejor_modelo_lineal.coef_[0]\n",
    "atributos = X_transformed.columns.tolist()\n",
    "importancia_lineal = pd.DataFrame({'Atributo': atributos, 'Coeficiente': coeficientes_lineal})\n",
    "importancia_lineal['abs_coef'] = importancia_lineal['Coeficiente'].abs()\n",
    "importancia_lineal = importancia_lineal.sort_values(by='Coeficiente', ascending=False)\n",
    "print(\"\\nImportancia de los atributos en el Modelo Lineal L1:\")\n",
    "print(importancia_lineal[['Atributo', 'Coeficiente']])\n",
    "plt.figure(figsize=(10, 6))\n",
    "plt.barh(importancia_lineal['Atributo'], importancia_lineal['Coeficiente'], color='skyblue')\n",
    "plt.xlabel('Coeficiente')\n",
    "plt.title('Importancia de los Atributos en el Modelo Lineal L1')\n",
    "plt.show()"
   ]
  },
  {
   "cell_type": "markdown",
   "metadata": {},
   "source": [
    "Importancia de los atributos en el Modelo SVM ajustado\n",
    "\n",
    "Se usará Permutation Feature Importance para calcular la importancia de los atributos. Este método consiste en permutar los valores de una característica y medir el impacto en la precisión del modelo. Si la precisión disminuye significativamente, significa que la característica es importante para el modelo. Si la precisión no cambia mucho, significa que la característica no es tan importante."
   ]
  },
  {
   "cell_type": "code",
   "execution_count": null,
   "metadata": {},
   "outputs": [],
   "source": [
    "svm_results = permutation_importance(grid_search_svm.best_estimator_, X_test_imputed, y_test, n_repeats=10, random_state=42, n_jobs=-1)\n",
    "importancia_svm = pd.DataFrame({'Atributo': X.columns, 'Importancia': svm_results.importances_mean})\n",
    "importancia_svm = importancia_svm.sort_values(by='Importancia', ascending=False)\n",
    "print(\"\\nImportancia de los atributos en el Modelo SVM:\")\n",
    "print(importancia_svm[['Atributo', 'Importancia']])\n",
    "plt.figure(figsize=(10, 6))\n",
    "plt.barh(importancia_svm['Atributo'], importancia_svm['Importancia'], color='lightgreen')\n",
    "plt.xlabel('Importancia')\n",
    "plt.title('Importancia de los Atributos en el Modelo SVM')\n",
    "plt.show()"
   ]
  },
  {
   "cell_type": "markdown",
   "metadata": {},
   "source": [
    "6. Resultados"
   ]
  }
 ],
 "metadata": {
  "kernelspec": {
   "display_name": "Python 3.13.0 64-bit",
   "language": "python",
   "name": "python3"
  },
  "language_info": {
   "codemirror_mode": {
    "name": "ipython",
    "version": 3
   },
   "file_extension": ".py",
   "mimetype": "text/x-python",
   "name": "python",
   "nbconvert_exporter": "python",
   "pygments_lexer": "ipython3",
   "version": "3.13.0"
  },
  "vscode": {
   "interpreter": {
    "hash": "b0fa6594d8f4cbf19f97940f81e996739fb7646882a419484c72d19e05852a7e"
   }
  }
 },
 "nbformat": 4,
 "nbformat_minor": 4
}
