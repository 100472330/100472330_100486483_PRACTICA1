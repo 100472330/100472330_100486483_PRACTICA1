{
  "cells": [
    {
      "cell_type": "markdown",
      "metadata": {
        "colab_type": "text",
        "id": "view-in-github"
      },
      "source": [
        "<a href=\"https://colab.research.google.com/github/100472330/100472330_100486483_PRACTICA1/blob/main/Practica1_AA.ipynb\" target=\"_parent\"><img src=\"https://colab.research.google.com/assets/colab-badge.svg\" alt=\"Open In Colab\"/></a>"
      ]
    },
    {
      "cell_type": "markdown",
      "metadata": {
        "id": "1-N_x5lY1IjE"
      },
      "source": [
        "## PRIMERA PRÁCTICA: PREDICCIÓN DEL ABANDONO (BURNOUT) DE EMPLEADOS"
      ]
    },
    {
      "cell_type": "markdown",
      "metadata": {
        "id": "wtkpR_Qd5lWQ"
      },
      "source": [
        "1. Importando librerias necesarias para la realización EDA.python"
      ]
    },
    {
      "cell_type": "code",
      "execution_count": null,
      "metadata": {
        "id": "1778OT-84mVr"
      },
      "outputs": [
        {
          "ename": "",
          "evalue": "",
          "output_type": "error",
          "traceback": [
            "\u001b[1;31mRunning cells with 'Python 3.13.0 64-bit' requires ipykernel package.\n",
            "\u001b[1;31mRun the following command to install 'ipykernel' into the Python environment. \n",
            "\u001b[1;31mCommand: '/opt/homebrew/bin/python3 -m pip install ipykernel -U --user --force-reinstall'"
          ]
        }
      ],
      "source": [
        "import pandas as pd\n",
        "import matplotlib.pyplot as plt"
      ]
    },
    {
      "cell_type": "markdown",
      "metadata": {
        "id": "SEkOjGdA6VFl"
      },
      "source": [
        "2. Importamos y cargamos los datos necesarios. "
      ]
    },
    {
      "cell_type": "code",
      "execution_count": null,
      "metadata": {
        "colab": {
          "base_uri": "https://localhost:8080/",
          "height": 158
        },
        "id": "s1IX5q2s6YzB",
        "outputId": "e2f30eb2-5136-48b2-91b8-df620b829da4"
      },
      "outputs": [
        {
          "ename": "",
          "evalue": "",
          "output_type": "error",
          "traceback": [
            "\u001b[1;31mRunning cells with 'Python 3.13.0 64-bit' requires ipykernel package.\n",
            "\u001b[1;31mRun the following command to install 'ipykernel' into the Python environment. \n",
            "\u001b[1;31mCommand: '/opt/homebrew/bin/python3 -m pip install ipykernel -U --user --force-reinstall'"
          ]
        }
      ],
      "source": [
        "\n",
        "df_available = pd.read_csv(\"attrition_availabledata_03.csv.gz\")"
      ]
    },
    {
      "cell_type": "markdown",
      "metadata": {},
      "source": [
        "1. PRIMERA INSEPECCION GENERAL DE TODOS LOS DATOS"
      ]
    },
    {
      "cell_type": "markdown",
      "metadata": {},
      "source": [
        "print(\"\\n🔹 Información del dataset:\")\n",
        "print(df_available.info())\n",
        "\n",
        "print(\"\\n🔹 Valores nulos en cada columna:\")\n",
        "print(df_available.isnull().sum())\n",
        "\n",
        "print(\"\\n🔹 Distribución de la variable objetivo (Attrition):\")\n",
        "print(df_available[\"Attrition\"].value_counts(normalize=True) * 100)"
      ]
    },
    {
      "cell_type": "markdown",
      "metadata": {},
      "source": [
        "2. RESUMEN DE LAS ESTADISTICAS DESCRIPTIVAS"
      ]
    },
    {
      "cell_type": "code",
      "execution_count": null,
      "metadata": {},
      "outputs": [],
      "source": [
        "print(\"\\n🔹 Estadísticas de variables numéricas:\")\n",
        "print(df_available.describe())\n",
        "\n",
        "print(\"\\n🔹 Estadísticas de variables categóricas:\")\n",
        "print(df_available.describe(include=['object']))"
      ]
    },
    {
      "cell_type": "markdown",
      "metadata": {},
      "source": [
        "3. GRÁFICOS Y VISUALIZACIONES DE TODOS LOS DATOS"
      ]
    },
    {
      "cell_type": "code",
      "execution_count": null,
      "metadata": {},
      "outputs": [],
      "source": [
        "# Histograma de variables numéricas\n",
        "df_available.hist(figsize=(12, 10), bins=30, edgecolor='black')\n",
        "plt.suptitle(\"Distribución de Variables Numéricas\", fontsize=14)\n",
        "plt.show()\n",
        "\n",
        "# Gráficos de barras para variables categóricas\n",
        "categorical_cols = ['BusinessTravel', 'Department', 'EducationField', 'Gender', 'JobRole', 'MaritalStatus', 'Attrition']\n",
        "fig, axes = plt.subplots(nrows=2, ncols=4, figsize=(16, 8))\n",
        "\n",
        "for i, col in enumerate(categorical_cols):\n",
        "    if i >= len(axes.flatten()):\n",
        "        break\n",
        "    ax = axes.flatten()[i]\n",
        "    df_available[col].value_counts().plot(kind='bar', ax=ax, color=\"royalblue\", edgecolor=\"black\")\n",
        "    ax.set_title(col)\n",
        "    ax.set_ylabel(\"Frecuencia\")\n",
        "\n",
        "plt.tight_layout()\n",
        "plt.show()\n",
        "\n",
        "# Gráfico de conteo de la variable objetivo\n",
        "df_available[\"Attrition\"].value_counts().plot(kind='bar', color=['green', 'red'], edgecolor=\"black\")\n",
        "plt.title(\"Distribución de la Variable Objetivo (Attrition)\")\n",
        "plt.ylabel(\"Cantidad de empleados\")\n",
        "plt.xlabel(\"Attrition (No = 0, Yes = 1)\")\n",
        "plt.xticks(rotation=0)\n",
        "plt.show()"
      ]
    }
  ],
  "metadata": {
    "colab": {
      "include_colab_link": true,
      "provenance": []
    },
    "kernelspec": {
      "display_name": "Python 3.13.0 64-bit",
      "language": "python",
      "name": "python3"
    },
    "language_info": {
      "name": "python",
      "version": "3.13.0"
    },
    "vscode": {
      "interpreter": {
        "hash": "b0fa6594d8f4cbf19f97940f81e996739fb7646882a419484c72d19e05852a7e"
      }
    }
  },
  "nbformat": 4,
  "nbformat_minor": 0
}
