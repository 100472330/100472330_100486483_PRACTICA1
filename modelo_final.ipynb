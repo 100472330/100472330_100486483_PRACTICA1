{
 "cells": [
  {
   "cell_type": "markdown",
   "metadata": {},
   "source": [
    "POSIBILIDAD DE MODELO FINAL"
   ]
  },
  {
   "cell_type": "code",
   "execution_count": null,
   "metadata": {},
   "outputs": [],
   "source": [
    "#IMPORTAMOS TODAS LAS LIBRERIAS NECESARIAS\n",
    "import pandas as pd\n",
    "import numpy as np\n",
    "import time\n",
    "import joblib\n",
    "from sklearn.model_selection import train_test_split, GridSearchCV\n",
    "from sklearn.preprocessing import StandardScaler, OneHotEncoder\n",
    "from sklearn.compose import ColumnTransformer\n",
    "from sklearn.pipeline import Pipeline\n",
    "from sklearn.impute import SimpleImputer\n",
    "from sklearn.linear_model import LogisticRegression\n",
    "from sklearn.svm import SVC\n",
    "from sklearn.metrics import confusion_matrix, balanced_accuracy_score, accuracy_score"
   ]
  },
  {
   "cell_type": "code",
   "execution_count": null,
   "metadata": {},
   "outputs": [],
   "source": [
    "#CARGAMOS TODOS LOS DATOS\n",
    "available_df = pd.read_csv(\"/mnt/data/attrition_datasets/train_test/attrition_availabledata_03.csv.gz\")\n",
    "competition_df = pd.read_csv(\"/mnt/data/attrition_datasets/train_test/attrition_competition_03.csv.gz\")"
   ]
  },
  {
   "cell_type": "code",
   "execution_count": null,
   "metadata": {},
   "outputs": [],
   "source": [
    "#PREPARAMOS TODOS LOS DATOS PARA EL ENTRENAMIENTO, Y LOS DIVIDIMOS SEGÚN SU UTILIDAD\n",
    "\n",
    "\n",
    "X = available_df.drop(\"Attrition\", axis=1)\n",
    "y = available_df[\"Attrition\"].map({\"Yes\": 1, \"No\": 0})\n",
    "\n",
    "# IDENTIFICAMOS tipos de columnas\n",
    "num_cols = X.select_dtypes(include=[\"float64\", \"int64\"]).columns.tolist()\n",
    "cat_cols = X.select_dtypes(include=[\"object\"]).columns.tolist()\n",
    "irrelevant = [\"EmployeeID\", \"EmployeeCount\", \"Over18\", \"StandardHours\"]\n",
    "num_cols = [col for col in num_cols if col not in irrelevant]\n",
    "cat_cols = [col for col in cat_cols if col not in irrelevant]\n",
    "X = X.drop(columns=irrelevant)\n",
    "\n",
    "# DIVIDIMOS en train/test (2/3, 1/3)\n",
    "X_train, X_test, y_train, y_test = train_test_split(X, y, test_size=1/3, random_state=3, stratify=y)"
   ]
  },
  {
   "cell_type": "code",
   "execution_count": null,
   "metadata": {},
   "outputs": [],
   "source": [
    "#REALIZAMOS EL PREPROCESAMIENTO DE LOS DATOS\n",
    "num_transformer = Pipeline([\n",
    "    (\"imputer\", SimpleImputer(strategy=\"median\")),\n",
    "    (\"scaler\", StandardScaler())\n",
    "])\n",
    "\n",
    "cat_transformer = Pipeline([\n",
    "    (\"imputer\", SimpleImputer(strategy=\"most_frequent\")),\n",
    "    (\"encoder\", OneHotEncoder(handle_unknown=\"ignore\"))\n",
    "])\n",
    "\n",
    "preprocessor = ColumnTransformer([\n",
    "    (\"num\", num_transformer, num_cols),\n",
    "    (\"cat\", cat_transformer, cat_cols)"
   ]
  },
  {
   "cell_type": "code",
   "execution_count": null,
   "metadata": {},
   "outputs": [],
   "source": [
    "#REALIZAMOS LOS MODELOS\n",
    "models = {\n",
    "    \"LogReg (default)\": LogisticRegression(max_iter=1000, random_state=3),\n",
    "    \"LogReg (L1)\": LogisticRegression(penalty=\"l1\", solver=\"liblinear\", max_iter=1000, random_state=3),\n",
    "    \"SVM (linear)\": SVC(kernel=\"linear\", random_state=3),\n",
    "    \"SVM (rbf)\": SVC(kernel=\"rbf\", random_state=3)\n",
    "}\n",
    "\n",
    "results = {}\n",
    "\n",
    "for name, model in models.items():\n",
    "    pipe = Pipeline([\n",
    "        (\"pre\", preprocessor),\n",
    "        (\"clf\", model)\n",
    "    ])\n",
    "    start = time.time()\n",
    "    pipe.fit(X_train, y_train)\n",
    "    end = time.time()\n",
    "    y_pred = pipe.predict(X_test)\n",
    "    tn, fp, fn, tp = confusion_matrix(y_test, y_pred).ravel()\n",
    "    results[name] = {\n",
    "        \"Balanced Acc\": balanced_accuracy_score(y_test, y_pred),\n",
    "        \"Accuracy\": accuracy_score(y_test, y_pred),\n",
    "        \"TPR\": tp / (tp + fn),\n",
    "        \"TNR\": tn / (tn + fp),\n",
    "        \"Time (s)\": end - start\n",
    "    }\n",
    "\n",
    "results_df = pd.DataFrame(results).T\n",
    "print(\"\\nEvaluaciones preliminares:\\n\")\n",
    "print(results_df)"
   ]
  },
  {
   "cell_type": "code",
   "execution_count": null,
   "metadata": {},
   "outputs": [],
   "source": [
    "#ELEJIMOS EL MEJOR MODELO DE LOS RESULTADOS Y ENTRENAMOS EL MODELO FINAL SELECCIONADO CON TODOS LOS DATOS\n",
    "# Paso 5: Elegir el mejor modelo (ej. LogReg L1)\n",
    "best_model = LogisticRegression(penalty=\"l1\", solver=\"liblinear\", max_iter=1000, random_state=3)\n",
    "final_pipeline = Pipeline([\n",
    "    (\"pre\", preprocessor),\n",
    "    (\"clf\", best_model)\n",
    "])\n",
    "\n",
    "# Entrenar el modelo final con todos los datos de entrenamiento\n",
    "final_pipeline.fit(X_train, y_train)\n"
   ]
  },
  {
   "cell_type": "code",
   "execution_count": null,
   "metadata": {},
   "outputs": [],
   "source": [
    "#EVALUAMOS EL MODELO FINAL CON EL CONJUNTO DE TEST (EL OUTER)\n",
    "# Evaluación final en el conjunto de test (outer)\n",
    "y_final_pred = final_pipeline.predict(X_test)\n",
    "print(\"\\nEvaluación final del modelo elegido (LogReg L1):\")\n",
    "print(\"Balanced Accuracy:\", balanced_accuracy_score(y_test, y_final_pred))\n",
    "print(\"Accuracy:\", accuracy_score(y_test, y_final_pred))\n",
    "\n",
    "# Paso 6: Guardar el modelo final\n",
    "joblib.dump(final_pipeline, \"modelo_final.pkl\")"
   ]
  },
  {
   "cell_type": "code",
   "execution_count": null,
   "metadata": {},
   "outputs": [],
   "source": [
    "\n",
    "# REALIZAMOS PREDICCIONES en el conjunto de competición\n",
    "X_competition = competition_df.drop(columns=irrelevant)\n",
    "predictions = final_pipeline.predict(X_competition)\n",
    "pd.DataFrame({\"Attrition\": predictions}).to_csv(\"predicciones.csv\", index=False)\n",
    "print(\"\\nModelo y predicciones guardadas.\")\n"
   ]
  }
 ],
 "metadata": {
  "language_info": {
   "name": "python"
  },
  "orig_nbformat": 4
 },
 "nbformat": 4,
 "nbformat_minor": 2
}
