{
 "cells": [
  {
   "cell_type": "markdown",
   "metadata": {},
   "source": [
    "VERSION PRELOIMINAR DE LA TAREA OPCIONAL DE CONCEPTO ABIERTO - HEMOS SELECCIONADO SMOTE PARA TRATAR EL DESBALANCEO"
   ]
  },
  {
   "cell_type": "code",
   "execution_count": null,
   "metadata": {},
   "outputs": [],
   "source": [
    "# EN PRIMER LUGAR SE IMPORTAN TODAS LAS LIBRERIAS\n",
    "import pandas as pd\n",
    "import numpy as np\n",
    "import time\n",
    "import joblib\n",
    "from sklearn.model_selection import train_test_split, GridSearchCV\n",
    "from sklearn.preprocessing import StandardScaler, OneHotEncoder\n",
    "from sklearn.compose import ColumnTransformer\n",
    "from sklearn.pipeline import Pipeline\n",
    "from sklearn.impute import SimpleImputer\n",
    "from sklearn.linear_model import LogisticRegression\n",
    "from sklearn.svm import SVC\n",
    "from sklearn.metrics import confusion_matrix, balanced_accuracy_score, accuracy_score\n",
    "from imblearn.over_sampling import SMOTE\n",
    "from imblearn.pipeline import Pipeline as ImbPipelin\n",
    "\n",
    "# A CONTINUACION SE CARGAN LOS DATOS. \n",
    "available_df = pd.read_csv(\"/mnt/data/attrition_datasets/train_test/attrition_availabledata_03.csv.gz\")\n",
    "competition_df = pd.read_csv(\"/mnt/data/attrition_datasets/train_test/attrition_competition_03.csv.gz\")"
   ]
  },
  {
   "cell_type": "markdown",
   "metadata": {},
   "source": [
    "El siguiente paso es llevar a cabo la preparación de los datos para el procesado. "
   ]
  },
  {
   "cell_type": "code",
   "execution_count": null,
   "metadata": {},
   "outputs": [],
   "source": [
    "X = available_df.drop(\"Attrition\", axis=1)\n",
    "y = available_df[\"Attrition\"].map({\"Yes\": 1, \"No\": 0})\n",
    "\n",
    "# identificamos las columnas\n",
    "num_cols = X.select_dtypes(include=[\"float64\", \"int64\"]).columns.tolist()\n",
    "cat_cols = X.select_dtypes(include=[\"object\"]).columns.tolist()\n",
    "irrelevant = [\"EmployeeID\", \"EmployeeCount\", \"Over18\", \"StandardHours\"]\n",
    "num_cols = [col for col in num_cols if col not in irrelevant]\n",
    "cat_cols = [col for col in cat_cols if col not in irrelevant]\n",
    "X = X.drop(columns=irrelevant)\n",
    "\n",
    "# Finalmente dividimos en datos de entrenamiento y datos de prueba\n",
    "X_train, X_test, y_train, y_test = train_test_split(X, y, test_size=1/3, random_state=3, stratify=y)\n"
   ]
  },
  {
   "cell_type": "markdown",
   "metadata": {},
   "source": [
    "Continuamos llevando a cabo el preprocesado usando pipelines"
   ]
  },
  {
   "cell_type": "code",
   "execution_count": null,
   "metadata": {},
   "outputs": [],
   "source": [
    "num_transformer = Pipeline([\n",
    "    (\"imputer\", SimpleImputer(strategy=\"median\")),\n",
    "    (\"scaler\", StandardScaler())\n",
    "])\n",
    "\n",
    "cat_transformer = Pipeline([\n",
    "    (\"imputer\", SimpleImputer(strategy=\"most_frequent\")),\n",
    "    (\"encoder\", OneHotEncoder(handle_unknown=\"ignore\"))\n",
    "])\n",
    "\n",
    "preprocessor = ColumnTransformer([\n",
    "    (\"num\", num_transformer, num_cols),\n",
    "    (\"cat\", cat_transformer, cat_cols)"
   ]
  },
  {
   "cell_type": "markdown",
   "metadata": {},
   "source": [
    "Generamos los modelos"
   ]
  },
  {
   "cell_type": "code",
   "execution_count": null,
   "metadata": {},
   "outputs": [],
   "source": [
    "models = {\n",
    "    \"LogReg (default)\": LogisticRegression(max_iter=1000, random_state=3),\n",
    "    \"LogReg (L1)\": LogisticRegression(penalty=\"l1\", solver=\"liblinear\", max_iter=1000, random_state=3),\n",
    "    \"SVM (linear)\": SVC(kernel=\"linear\", random_state=3),\n",
    "    \"SVM (rbf)\": SVC(kernel=\"rbf\", random_state=3)\n",
    "}\n",
    "\n",
    "results = {}\n",
    "\n",
    "for name, model in models.items():\n",
    "    pipe = Pipeline([\n",
    "        (\"pre\", preprocessor),\n",
    "        (\"clf\", model)\n",
    "    ])\n",
    "    start = time.time()\n",
    "    pipe.fit(X_train, y_train)\n",
    "    end = time.time()\n",
    "    y_pred = pipe.predict(X_test)\n",
    "    tn, fp, fn, tp = confusion_matrix(y_test, y_pred).ravel()\n",
    "    results[name] = {\n",
    "        \"Balanced Acc\": balanced_accuracy_score(y_test, y_pred),\n",
    "        \"Accuracy\": accuracy_score(y_test, y_pred),\n",
    "        \"TPR\": tp / (tp + fn),\n",
    "        \"TNR\": tn / (tn + fp),\n",
    "        \"Time (s)\": end - start\n",
    "    }\n",
    "\n",
    "results_df = pd.DataFrame(results).T\n",
    "print(\"\\nEvaluaciones preliminares:\\n\")\n",
    "print(results_df)"
   ]
  },
  {
   "cell_type": "markdown",
   "metadata": {},
   "source": [
    "Seleccionamos el mejor modelo y construimos el modelo final"
   ]
  },
  {
   "cell_type": "code",
   "execution_count": null,
   "metadata": {},
   "outputs": [],
   "source": [
    "# Paso 5: Elegir el mejor modelo (ej. LogReg L1)\n",
    "best_model = LogisticRegression(penalty=\"l1\", solver=\"liblinear\", max_iter=1000, random_state=3)\n",
    "final_pipeline = Pipeline([\n",
    "    (\"pre\", preprocessor),\n",
    "    (\"clf\", best_model)\n",
    "])\n",
    "\n",
    "# Entrenamos el mejor modelo con los datos de train y de test\n",
    "final_pipeline.fit(X_train, y_train)\n",
    "\n",
    "# Hacemos el outer evaluation\n",
    "y_final_pred = final_pipeline.predict(X_test)\n",
    "print(\"\\nEvaluación final del modelo elegido (LogReg L1):\")\n",
    "print(\"Balanced Accuracy:\", balanced_accuracy_score(y_test, y_final_pred))\n",
    "print(\"Accuracy:\", accuracy_score(y_test, y_final_pred))\n",
    "\n",
    "# Guardamos el modelo final\n",
    "joblib.dump(final_pipeline, \"modelo_final.pkl\")"
   ]
  },
  {
   "cell_type": "markdown",
   "metadata": {},
   "source": [
    "A continuacion: predecimos el conjunto de competición"
   ]
  },
  {
   "cell_type": "markdown",
   "metadata": {},
   "source": [
    "X_competition = competition_df.drop(columns=irrelevant)\n",
    "predictions = final_pipeline.predict(X_competition)\n",
    "pd.DataFrame({\"Attrition\": predictions}).to_csv(\"predicciones.csv\", index=False)\n",
    "print(\"\\nModelo y predicciones guardadas.\")"
   ]
  },
  {
   "cell_type": "markdown",
   "metadata": {},
   "source": [
    " A PARTIR DE AQUI TAREA DE ELECCION ABIERTA!!!!!!! PUNTO 5\n",
    " HEMOS ELEGIDO HACER USO DE LA APLICACIÓN DE SMOTE PARA TRATAR EL DESBALANEO ENTRE CLASES"
   ]
  },
  {
   "cell_type": "markdown",
   "metadata": {},
   "source": [
    "print(\"\\nAplicando SMOTE para tratar el desbalanceo:\")\n",
    "smote_model = LogisticRegression(penalty=\"l1\", solver=\"liblinear\", max_iter=1000, random_state=3)\n",
    "\n",
    "smote_pipeline = ImbPipeline([\n",
    "    (\"pre\", preprocessor),\n",
    "    (\"smote\", SMOTE(random_state=3)),\n",
    "    (\"clf\", smote_model)\n",
    "])\n",
    "\n",
    "smote_pipeline.fit(X_train, y_train)\n",
    "y_smote_pred = smote_pipeline.predict(X_test)\n",
    "tn, fp, fn, tp = confusion_matrix(y_test, y_smote_pred).ravel()\n",
    "\n",
    "print(\"Balanced Accuracy:\", balanced_accuracy_score(y_test, y_smote_pred))\n",
    "print(\"Accuracy:\", accuracy_score(y_test, y_smote_pred))\n",
    "print(\"TPR (Sensibilidad):\", tp / (tp + fn))\n",
    "print(\"TNR (Especificidad):\", tn / (tn + fp))"
   ]
  }
 ],
 "metadata": {
  "kernelspec": {
   "display_name": "Python 3.13.0 64-bit",
   "language": "python",
   "name": "python3"
  },
  "language_info": {
   "name": "python",
   "version": "3.13.0"
  },
  "orig_nbformat": 4,
  "vscode": {
   "interpreter": {
    "hash": "b0fa6594d8f4cbf19f97940f81e996739fb7646882a419484c72d19e05852a7e"
   }
  }
 },
 "nbformat": 4,
 "nbformat_minor": 2
}
